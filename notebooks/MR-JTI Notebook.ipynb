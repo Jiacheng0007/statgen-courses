{
 "cells": [
  {
   "cell_type": "markdown",
   "id": "ethical-stroke",
   "metadata": {
    "kernel": "Markdown",
    "tags": []
   },
   "source": [
    "# MR-JTI Prediction Workflow\n",
    "\n",
    "  This notebook shows the workflow for MR-JTI, which utilizes imputation to perform trait prediction according to multi-tissue relationship gene expression. MR-JTI acheives a higher prediction accuracy by leveraging multi-tissue information and also performes Causal Inference on trait and gene expression.\n",
    "  \n",
    "  `Revisions from the original`  \n",
    "  In this pipeline, we debugged the original workflow scripts and revised the following:\n",
    "  \n",
    "    1. Specified unclear dependency issue from the manualscript: \n",
    "       \n",
    "       * PLINK needed as prereq.\n",
    "               \n",
    "       * Only Python2.7 is allowed.\n",
    "        \n",
    "    2. R-script: \n",
    "    \n",
    "       * Revised option lines about Plink paths\n",
    "               \n",
    "       * Revised Input to test MWE\n",
    "               \n",
    "       * Revised system options in extract genotype file to plink file\n",
    "       \n",
    "       * Revised genotype path to avoid \".bed prefix\" related errors\n",
    "       \n",
    "    3. MWE script:\n",
    "    \n",
    "       * Revised plink_path to run by any user\n",
    "       \n",
    "       * Annotated 'ml' command to notify user\n",
    "    \n",
    "  \n",
    " \n",
    "`Goal`  \n",
    "  \n",
    "     1. Imputation prediction for genes\n",
    "  \n",
    "     2. Causal Inference between Trait and Gene Expression\n",
    "     \n",
    "  \n",
    "`Model`\n",
    "  \n",
    "     Y = Trait\n",
    "  \n",
    "     X = Predicted expression Gene A\n",
    "  \n",
    "     Data = transcriptome data as the information about the mapping between Gene A's expression and SNP.\n",
    "  \n",
    "\n",
    "  "
   ]
  },
  {
   "cell_type": "code",
   "execution_count": 143,
   "id": "numerous-bottom",
   "metadata": {
    "jupyter": {
     "source_hidden": true
    },
    "kernel": "Markdown"
   },
   "outputs": [
    {
     "data": {
      "text/markdown": [
       "# Part i Prediction model training\n",
       " \n"
      ]
     },
     "metadata": {},
     "output_type": "display_data"
    }
   ],
   "source": [
    "# Part i Prediction model training\n",
    " "
   ]
  },
  {
   "cell_type": "code",
   "execution_count": 142,
   "id": "constant-study",
   "metadata": {
    "jupyter": {
     "source_hidden": true
    },
    "kernel": "Markdown"
   },
   "outputs": [
    {
     "data": {
      "text/markdown": [
       "## Input\n",
       " \n",
       "### Genotype Data    \n",
       " \n",
       "     QC and filtering: MAF, HWE, call rate, R2(imputation quality), etc.\n",
       "   \n"
      ]
     },
     "metadata": {},
     "output_type": "display_data"
    }
   ],
   "source": [
    "## Input\n",
    " \n",
    "### Genotype Data    \n",
    " \n",
    "     QC and filtering: MAF, HWE, call rate, R2(imputation quality), etc.\n",
    "   "
   ]
  },
  {
   "cell_type": "code",
   "execution_count": 2,
   "id": "opposed-company",
   "metadata": {
    "kernel": "SoS"
   },
   "outputs": [
    {
     "data": {
      "text/html": [
       "<div class=\"sos_hint\">> /Users/Shared/OneDrive/Wang_Lab/data/jti_example_geno.fam (14.6 KiB):</div>"
      ],
      "text/plain": [
       "\n",
       "> /Users/Shared/OneDrive/Wang_Lab/data/jti_example_geno.fam (14.6 KiB):"
      ]
     },
     "metadata": {},
     "output_type": "display_data"
    },
    {
     "data": {
      "text/html": [
       "<div class=\"sos_hint\">600 lines (10 displayed, see --limit)</div>"
      ]
     },
     "metadata": {},
     "output_type": "display_data"
    },
    {
     "name": "stdout",
     "output_type": "stream",
     "text": [
      "S951351 S951351 0 0 0 -9\n",
      "S718426 S718426 0 0 0 -9\n",
      "S723511 S723511 0 0 0 -9\n",
      "S229719 S229719 0 0 0 -9\n",
      "S917519 S917519 0 0 0 -9\n",
      "S911316 S911316 0 0 0 -9\n",
      "S750868 S750868 0 0 0 -9\n",
      "S528684 S528684 0 0 0 -9\n",
      "S715477 S715477 0 0 0 -9\n",
      "S869356 S869356 0 0 0 -9"
     ]
    }
   ],
   "source": [
    "%preview /Users/Shared/OneDrive/Wang_Lab/data/jti_example_geno.fam -l 10"
   ]
  },
  {
   "cell_type": "code",
   "execution_count": 149,
   "id": "combined-whole",
   "metadata": {
    "jupyter": {
     "source_hidden": true
    },
    "kernel": "Markdown"
   },
   "outputs": [
    {
     "data": {
      "text/markdown": [
       "### Expression Data\n",
       "\n",
       "    Expression normalization and residualization (age, gender, PCs, PEERs, etc.)\n",
       "   \n"
      ]
     },
     "metadata": {},
     "output_type": "display_data"
    }
   ],
   "source": [
    "### Expression Data\n",
    "\n",
    "    Expression normalization and residualization (age, gender, PCs, PEERs, etc.)\n",
    "   "
   ]
  },
  {
   "cell_type": "code",
   "execution_count": 174,
   "id": "alleged-optimum",
   "metadata": {
    "kernel": "SoS"
   },
   "outputs": [
    {
     "data": {
      "text/html": [
       "<div class=\"sos_hint\">> /Users/Shared/OneDrive/Wang_Lab/data/jti_example_exp.txt (737.3 KiB):</div>"
      ],
      "text/plain": [
       "\n",
       "> /Users/Shared/OneDrive/Wang_Lab/data/jti_example_exp.txt (737.3 KiB):"
      ]
     },
     "metadata": {},
     "output_type": "display_data"
    },
    {
     "data": {
      "text/html": [
       "<div class=\"sos_hint\">13285 lines (5 displayed, see --limit)</div>"
      ]
     },
     "metadata": {},
     "output_type": "display_data"
    },
    {
     "name": "stdout",
     "output_type": "stream",
     "text": [
      "tissue\tsampleid\texp\texp_w\tdhs_w\n",
      "Adipose_Subcutaneous\tS951351\t1.9287\t1\t1\n",
      "Adipose_Subcutaneous\tS718426\t-0.106\t1\t1\n",
      "Adipose_Subcutaneous\tS723511\t-0.0992\t1\t1\n",
      "Adipose_Subcutaneous\tS229719\t1.028\t1\t1"
     ]
    }
   ],
   "source": [
    "%preview /Users/Shared/OneDrive/Wang_Lab/data/jti_example_exp.txt"
   ]
  },
  {
   "cell_type": "code",
   "execution_count": 151,
   "id": "viral-housing",
   "metadata": {
    "jupyter": {
     "source_hidden": true
    },
    "kernel": "Markdown"
   },
   "outputs": [
    {
     "data": {
      "text/markdown": [
       "### Tissue-tissue similarity estimation\n",
       "\n",
       "    Expression, DHS, etc.\n"
      ]
     },
     "metadata": {},
     "output_type": "display_data"
    }
   ],
   "source": [
    "### Tissue-tissue similarity estimation\n",
    "\n",
    "    Expression, DHS, etc."
   ]
  },
  {
   "cell_type": "code",
   "execution_count": 175,
   "id": "complimentary-genetics",
   "metadata": {
    "kernel": "SoS"
   },
   "outputs": [
    {
     "data": {
      "text/html": [
       "<div class=\"sos_hint\">> /Users/Shared/OneDrive/Wang_Lab/data/jti_example_exp.txt (737.3 KiB):</div>"
      ],
      "text/plain": [
       "\n",
       "> /Users/Shared/OneDrive/Wang_Lab/data/jti_example_exp.txt (737.3 KiB):"
      ]
     },
     "metadata": {},
     "output_type": "display_data"
    },
    {
     "data": {
      "text/html": [
       "<div class=\"sos_hint\">13285 lines (5 displayed, see --limit)</div>"
      ]
     },
     "metadata": {},
     "output_type": "display_data"
    },
    {
     "name": "stdout",
     "output_type": "stream",
     "text": [
      "tissue\tsampleid\texp\texp_w\tdhs_w\n",
      "Adipose_Subcutaneous\tS951351\t1.9287\t1\t1\n",
      "Adipose_Subcutaneous\tS718426\t-0.106\t1\t1\n",
      "Adipose_Subcutaneous\tS723511\t-0.0992\t1\t1\n",
      "Adipose_Subcutaneous\tS229719\t1.028\t1\t1"
     ]
    }
   ],
   "source": [
    "%preview /Users/Shared/OneDrive/Wang_Lab/data/jti_example_exp.txt"
   ]
  },
  {
   "cell_type": "code",
   "execution_count": 147,
   "id": "unknown-photographer",
   "metadata": {
    "jupyter": {
     "source_hidden": true
    },
    "kernel": "Markdown"
   },
   "outputs": [
    {
     "data": {
      "text/markdown": [
       "### Gene Annotation file \n",
       "   \n"
      ]
     },
     "metadata": {},
     "output_type": "display_data"
    }
   ],
   "source": [
    "### Gene Annotation file \n",
    "   "
   ]
  },
  {
   "cell_type": "code",
   "execution_count": 176,
   "id": "tight-swing",
   "metadata": {
    "kernel": "SoS"
   },
   "outputs": [
    {
     "data": {
      "text/html": [
       "<div class=\"sos_hint\">> /Users/Shared/OneDrive/Wang_Lab/data/gencode.v32.GRCh37.txt (5.0 MiB):</div>"
      ],
      "text/plain": [
       "\n",
       "> /Users/Shared/OneDrive/Wang_Lab/data/gencode.v32.GRCh37.txt (5.0 MiB):"
      ]
     },
     "metadata": {},
     "output_type": "display_data"
    },
    {
     "data": {
      "text/html": [
       "<div class=\"sos_hint\">62301 lines (5 displayed, see --limit)</div>"
      ]
     },
     "metadata": {},
     "output_type": "display_data"
    },
    {
     "name": "stdout",
     "output_type": "stream",
     "text": [
      "chr\tleft\tright\tstrand\tgeneid_full\tgeneid\tgenetype\tgenename\n",
      "chr1\t11869\t14409\t+\tENSG00000223972.5_2\tENSG00000223972\ttranscribed_unprocessed_pseudogene\t DDX11L1\n",
      "chr1\t14404\t29570\t-\tENSG00000227232.5_2\tENSG00000227232\tunprocessed_pseudogene\t WASH7P\n",
      "chr1\t29554\t31109\t+\tENSG00000243485.5_6\tENSG00000243485\tlncRNA\t MIR1302-2HG\n",
      "chr1\t34554\t36081\t-\tENSG00000237613.2_3\tENSG00000237613\tlncRNA\t FAM138A"
     ]
    }
   ],
   "source": [
    "%preview /Users/Shared/OneDrive/Wang_Lab/data/gencode.v32.GRCh37.txt"
   ]
  },
  {
   "cell_type": "code",
   "execution_count": 123,
   "id": "precious-proposal",
   "metadata": {
    "jupyter": {
     "source_hidden": true
    },
    "kernel": "Markdown"
   },
   "outputs": [
    {
     "data": {
      "text/markdown": [
       "`Environment Requirements`\n",
       "\n",
       "    1. PLINK v1.90b6.21\n",
       "    2. R 3.4+ and R packages 'glmnet' and 'optparse'\n"
      ]
     },
     "metadata": {},
     "output_type": "display_data"
    }
   ],
   "source": [
    "`Environment Requirements`\n",
    "\n",
    "    1. PLINK v1.90b6.21\n",
    "    2. R 3.4+ and R packages 'glmnet' and 'optparse'"
   ]
  },
  {
   "cell_type": "code",
   "execution_count": 1,
   "id": "supposed-state",
   "metadata": {
    "kernel": "Bash"
   },
   "outputs": [
    {
     "name": "stdout",
     "output_type": "stream",
     "text": [
      "During startup - Warning messages:\n",
      "1: Setting LC_COLLATE failed, using \"C\" \n",
      "2: Setting LC_TIME failed, using \"C\" \n",
      "3: Setting LC_MESSAGES failed, using \"C\" \n",
      "4: Setting LC_MONETARY failed, using \"C\" \n",
      "\n",
      "---Joint-Tissue-gene-expression-Imputation-(JTI)---\n",
      "Loading required package: Matrix\n",
      "Loaded glmnet 4.1\n",
      " INFO loading gene position annotation ...\n",
      " INFO mkdir tmp folders ...\n",
      " INFO generating dosage genotype data ...\n",
      "PLINK v1.90b6.21 64-bit (19 Oct 2020)          www.cog-genomics.org/plink/1.9/\n",
      "(C) 2005-2020 Shaun Purcell, Christopher Chang   GNU General Public License v3\n",
      "Logging to /Users/Shared/OneDrive/Wang_Lab/data/tmp/Adipose_Subcutaneous_ENSG00000182957/ENSG00000182957.log.\n",
      "Options in effect:\n",
      "  --bfile /Users/Shared/OneDrive/Wang_Lab/data/jti_example_geno\n",
      "  --chr 13\n",
      "  --from-bp 23553944\n",
      "  --out /Users/Shared/OneDrive/Wang_Lab/data/tmp/Adipose_Subcutaneous_ENSG00000182957/ENSG00000182957\n",
      "  --recode A\n",
      "  --to-bp 25553944\n",
      "\n",
      "8192 MB RAM detected; reserving 4096 MB for main workspace.\n",
      "1709 out of 2006 variants loaded from .bim file.\n",
      "600 people (0 males, 0 females, 600 ambiguous) loaded from .fam.\n",
      "Ambiguous sex IDs written to\n",
      "/Users/Shared/OneDrive/Wang_Lab/data/tmp/Adipose_Subcutaneous_ENSG00000182957/ENSG00000182957.nosex\n",
      ".\n",
      "Using 1 thread (no multithreaded calculations invoked).\n",
      "Before main variant filters, 600 founders and 0 nonfounders present.\n",
      "Calculating allele frequencies... 10111213141516171819202122232425262728293031323334353637383940414243444546474849505152535455565758596061626364656667686970717273747576777879808182838485868788899091929394959697989 done.\n",
      "Total genotyping rate is 0.99972.\n",
      "1709 variants and 600 people pass filters and QC.\n",
      "Note: No phenotypes present.\n",
      "--recode A to\n",
      "/Users/Shared/OneDrive/Wang_Lab/data/tmp/Adipose_Subcutaneous_ENSG00000182957/ENSG00000182957.raw\n",
      "... 101112131415161718192021222324252627282930313233343536373839404142434445464748495051525354555657585960616263646566676869707172737475767778798081828384858687888990919293949596979899done.\n",
      "PLINK v1.90b6.21 64-bit (19 Oct 2020)          www.cog-genomics.org/plink/1.9/\n",
      "(C) 2005-2020 Shaun Purcell, Christopher Chang   GNU General Public License v3\n",
      "Logging to /Users/Shared/OneDrive/Wang_Lab/data/tmp/Adipose_Subcutaneous_ENSG00000182957/ENSG00000182957.log.\n",
      "Options in effect:\n",
      "  --bfile /Users/Shared/OneDrive/Wang_Lab/data/jti_example_geno\n",
      "  --chr 13\n",
      "  --from-bp 23553944\n",
      "  --make-bed\n",
      "  --out /Users/Shared/OneDrive/Wang_Lab/data/tmp/Adipose_Subcutaneous_ENSG00000182957/ENSG00000182957\n",
      "  --to-bp 25553944\n",
      "\n",
      "8192 MB RAM detected; reserving 4096 MB for main workspace.\n",
      "1709 out of 2006 variants loaded from .bim file.\n",
      "600 people (0 males, 0 females, 600 ambiguous) loaded from .fam.\n",
      "Ambiguous sex IDs written to\n",
      "/Users/Shared/OneDrive/Wang_Lab/data/tmp/Adipose_Subcutaneous_ENSG00000182957/ENSG00000182957.nosex\n",
      ".\n",
      "Using 1 thread (no multithreaded calculations invoked).\n",
      "Before main variant filters, 600 founders and 0 nonfounders present.\n",
      "Calculating allele frequencies... 10111213141516171819202122232425262728293031323334353637383940414243444546474849505152535455565758596061626364656667686970717273747576777879808182838485868788899091929394959697989 done.\n",
      "Total genotyping rate is 0.99972.\n",
      "1709 variants and 600 people pass filters and QC.\n",
      "Note: No phenotypes present.\n",
      "--make-bed to\n",
      "/Users/Shared/OneDrive/Wang_Lab/data/tmp/Adipose_Subcutaneous_ENSG00000182957/ENSG00000182957.bed\n",
      "+\n",
      "/Users/Shared/OneDrive/Wang_Lab/data/tmp/Adipose_Subcutaneous_ENSG00000182957/ENSG00000182957.bim\n",
      "+\n",
      "/Users/Shared/OneDrive/Wang_Lab/data/tmp/Adipose_Subcutaneous_ENSG00000182957/ENSG00000182957.fam\n",
      "... 101112131415161718192021222324252627282930313233343536373839404142434445464748495051525354555657585960616263646566676869707172737475767778798081828384858687888990919293949596979899done.\n",
      " INFO loading expression data ...\n",
      " INFO initializing model training ...\n",
      " INFO grid searching ...\n",
      " INFO the r =  0.3842029 , p =  4.069418e-16  \n",
      " INFO cleaning tmp folder \n",
      " INFO done \n"
     ]
    }
   ],
   "source": [
    "#part-i. An usage example\n",
    "\n",
    "\n",
    "#-----start-----\n",
    "\n",
    "# ml GCC OpenMPI R\n",
    "\n",
    "# openMPI : multi-progress tool, on CU Cluster\n",
    "\n",
    "script_dir='/Users/Shared/OneDrive/Wang_Lab'  \n",
    "example_file_dir='/Users/Shared/OneDrive/Wang_Lab/data'  \n",
    "\n",
    "Rscript ${script_dir}/JTI_yutian_debuged.r \\\n",
    "  --tissue=Adipose_Subcutaneous \\\n",
    "  --geneid=ENSG00000182957 \\\n",
    "  --genotype_path=${example_file_dir}/jti_example_geno.bed \\\n",
    "  --expression_path=${example_file_dir}/jti_example_exp.txt \\\n",
    "  --tmp_folder=${example_file_dir}/tmp \\\n",
    "  --gencode_path ${example_file_dir}/gencode.v32.GRCh37.txt \\\n",
    "  --plink_path \"/Users/Shared/OneDrive/Wang_Lab/plink_mac_20201019/plink\"\\\n",
    "  --out_path ${example_file_dir}\n",
    "  \n",
    "#----end-----\n"
   ]
  },
  {
   "cell_type": "code",
   "execution_count": 178,
   "id": "european-crime",
   "metadata": {
    "jupyter": {
     "source_hidden": true
    },
    "kernel": "Markdown"
   },
   "outputs": [
    {
     "data": {
      "text/markdown": [
       "## Part i Output\n",
       "\n",
       " Weight and lambda result chosen by similarity matrix and hyper-parameter tuning\n"
      ]
     },
     "metadata": {},
     "output_type": "display_data"
    }
   ],
   "source": [
    "## Part i Output\n",
    "\n",
    " Weight and lambda result chosen by similarity matrix and hyper-parameter tuning\n"
   ]
  },
  {
   "cell_type": "code",
   "execution_count": 177,
   "id": "positive-reader",
   "metadata": {
    "kernel": "SoS"
   },
   "outputs": [
    {
     "data": {
      "text/html": [
       "<div class=\"sos_hint\">> /Users/Shared/OneDrive/Wang_Lab/data/ENSG00000182957_Adipose_Subcutaneous.txt (538 B):</div>"
      ],
      "text/plain": [
       "\n",
       "> /Users/Shared/OneDrive/Wang_Lab/data/ENSG00000182957_Adipose_Subcutaneous.txt (538 B):"
      ]
     },
     "metadata": {},
     "output_type": "display_data"
    },
    {
     "data": {
      "text/html": [
       "<div class=\"sos_hint\">5 lines</div>"
      ]
     },
     "metadata": {},
     "output_type": "display_data"
    },
    {
     "name": "stdout",
     "output_type": "stream",
     "text": [
      "gene\trsid\tchr_bp\tref_allele\tcounted_allele\tweight\tr2\tp\tlambda\n",
      "ENSG00000182957\trs73455777\t13_24879413\tT\tA\t-0.280248818491722\t0.147611877469728\t4.06941773622044e-16\t0.153641011526706\n",
      "ENSG00000182957\trs73455781\t13_24884598\tT\tC\t-0.10802790889729\t0.147611877469728\t4.06941773622044e-16\t0.153641011526706\n",
      "ENSG00000182957\trs9507302\t13_24893568\tC\tT\t-0.0520308509170914\t0.147611877469728\t4.06941773622044e-16\t0.153641011526706\n",
      "ENSG00000182957\trs56314653\t13_24962979\tT\tC\t-0.0154395731426774\t0.147611877469728\t4.06941773622044e-16\t0.153641011526706"
     ]
    }
   ],
   "source": [
    "%preview /Users/Shared/OneDrive/Wang_Lab/data/ENSG00000182957_Adipose_Subcutaneous.txt -n -l 10  "
   ]
  },
  {
   "cell_type": "code",
   "execution_count": 179,
   "id": "expired-masters",
   "metadata": {
    "jupyter": {
     "source_hidden": true
    },
    "kernel": "Markdown"
   },
   "outputs": [
    {
     "data": {
      "text/markdown": [
       "# Part ii Association test\n",
       "\n",
       "## Input\n",
       "\n",
       "### connect to prediction models database:\n",
       "  \n",
       "      packed into SQLite file\n",
       "    \n"
      ]
     },
     "metadata": {},
     "output_type": "display_data"
    }
   ],
   "source": [
    "# Part ii Association test\n",
    "\n",
    "## Input\n",
    "\n",
    "### connect to prediction models database:\n",
    "  \n",
    "      packed into SQLite file\n",
    "    "
   ]
  },
  {
   "cell_type": "code",
   "execution_count": 181,
   "id": "elect-export",
   "metadata": {
    "kernel": "R"
   },
   "outputs": [
    {
     "data": {
      "text/html": [
       "<style>\n",
       ".list-inline {list-style: none; margin:0; padding: 0}\n",
       ".list-inline>li {display: inline-block}\n",
       ".list-inline>li:not(:last-child)::after {content: \"\\00b7\"; padding: 0 .5ex}\n",
       "</style>\n",
       "<ol class=list-inline><li>'construction'</li><li>'extra'</li><li>'sample_info'</li><li>'weights'</li></ol>\n"
      ],
      "text/latex": [
       "\\begin{enumerate*}\n",
       "\\item 'construction'\n",
       "\\item 'extra'\n",
       "\\item 'sample\\_info'\n",
       "\\item 'weights'\n",
       "\\end{enumerate*}\n"
      ],
      "text/markdown": [
       "1. 'construction'\n",
       "2. 'extra'\n",
       "3. 'sample_info'\n",
       "4. 'weights'\n",
       "\n",
       "\n"
      ],
      "text/plain": [
       "[1] \"construction\" \"extra\"        \"sample_info\"  \"weights\"     "
      ]
     },
     "metadata": {},
     "output_type": "display_data"
    },
    {
     "data": {
      "text/html": [
       "<style>\n",
       ".list-inline {list-style: none; margin:0; padding: 0}\n",
       ".list-inline>li {display: inline-block}\n",
       ".list-inline>li:not(:last-child)::after {content: \"\\00b7\"; padding: 0 .5ex}\n",
       "</style>\n",
       "<ol class=list-inline><li>'rsid'</li><li>'gene'</li><li>'weight'</li><li>'ref_allele'</li><li>'eff_allele'</li></ol>\n"
      ],
      "text/latex": [
       "\\begin{enumerate*}\n",
       "\\item 'rsid'\n",
       "\\item 'gene'\n",
       "\\item 'weight'\n",
       "\\item 'ref\\_allele'\n",
       "\\item 'eff\\_allele'\n",
       "\\end{enumerate*}\n"
      ],
      "text/markdown": [
       "1. 'rsid'\n",
       "2. 'gene'\n",
       "3. 'weight'\n",
       "4. 'ref_allele'\n",
       "5. 'eff_allele'\n",
       "\n",
       "\n"
      ],
      "text/plain": [
       "[1] \"rsid\"       \"gene\"       \"weight\"     \"ref_allele\" \"eff_allele\""
      ]
     },
     "metadata": {},
     "output_type": "display_data"
    }
   ],
   "source": [
    "#-----start-----\n",
    "#ml GCC/8.2.0  OpenMPI/3.1.4 Intel/2019.1.144  IntelMPI/2018.4.274 R/3.6.0\n",
    "library(RSQLite)\n",
    "con <- dbConnect(RSQLite::SQLite(), dbname='/Users/Shared/OneDrive/Wang_Lab/data/JTI_Liver.db') #establish connections\n",
    "dbListTables(con)  #datasets\n",
    "dbListFields(con, 'weights')   #cols\n",
    "weights = dbReadTable(con,\"weights\")\n",
    "dbDisconnect(con) #disconnect\n",
    "#-----end-----"
   ]
  },
  {
   "cell_type": "code",
   "execution_count": 183,
   "id": "lasting-casting",
   "metadata": {
    "jupyter": {
     "source_hidden": true
    },
    "kernel": "Markdown"
   },
   "outputs": [
    {
     "data": {
      "text/markdown": [
       "### SNP-SNP covariance matrix:\n",
       "  \n",
       "      estimated from a reference dataset (e.g., 1000g, GTEx). The covariance matrix is needed for association test using GWAS summary statistics.\n",
       "      \n",
       "     \n"
      ]
     },
     "metadata": {},
     "output_type": "display_data"
    }
   ],
   "source": [
    "### SNP-SNP covariance matrix:\n",
    "  \n",
    "      estimated from a reference dataset (e.g., 1000g, GTEx). The covariance matrix is needed for association test using GWAS summary statistics.\n",
    "      \n",
    "     "
   ]
  },
  {
   "cell_type": "code",
   "execution_count": 182,
   "id": "competitive-copyright",
   "metadata": {
    "kernel": "SoS"
   },
   "outputs": [
    {
     "data": {
      "text/html": [
       "<div class=\"sos_hint\">> /Users/Shared/OneDrive/Wang_Lab/data/JTI_Liver.txt.gz (9.3 MiB):</div>"
      ],
      "text/plain": [
       "\n",
       "> /Users/Shared/OneDrive/Wang_Lab/data/JTI_Liver.txt.gz (9.3 MiB):"
      ]
     },
     "metadata": {},
     "output_type": "display_data"
    },
    {
     "name": "stdout",
     "output_type": "stream",
     "text": [
      "GENE\tRSID1\tRSID2\tVALUE\n",
      "ENSG00000000460\trs34366534\trs34366534\t0.250017821347408\n",
      "ENSG00000000460\trs34366534\trs4987364\t-0.0075961711191521\n",
      "ENSG00000000460\trs34366534\trs12135214\t-0.0344547494603696\n",
      "ENSG00000000460\trs34366534\trs74478571\t-0.0349526522442066\n"
     ]
    }
   ],
   "source": [
    "%preview /Users/Shared/OneDrive/Wang_Lab/data/JTI_Liver.txt.gz"
   ]
  },
  {
   "cell_type": "code",
   "execution_count": 184,
   "id": "developmental-prior",
   "metadata": {
    "jupyter": {
     "source_hidden": true
    },
    "kernel": "Markdown"
   },
   "outputs": [
    {
     "data": {
      "text/markdown": [
       "### Pre-trained prediction models\n",
       "    \n",
       "    For summary-statistics-based analysis, SNP-SNP covariance matrices are also provided. \n",
       "Three prediction models (in GTEx v8) are provided here. https://zenodo.org/record/3842289#.YD17FS2ZNQI\n",
       "\n",
       "\n",
       "     1. PrediXcan  \n",
       "     2. UTMOST\n",
       "     3. JTI \n",
       "  \n",
       "     https://zenodo.org/record/3842289\n",
       "       \n"
      ]
     },
     "metadata": {},
     "output_type": "display_data"
    }
   ],
   "source": [
    "\n",
    "### Pre-trained prediction models\n",
    "    \n",
    "    For summary-statistics-based analysis, SNP-SNP covariance matrices are also provided. \n",
    "Three prediction models (in GTEx v8) are provided here. https://zenodo.org/record/3842289#.YD17FS2ZNQI\n",
    "\n",
    "\n",
    "     1. PrediXcan  \n",
    "     2. UTMOST\n",
    "     3. JTI \n",
    "  \n",
    "     https://zenodo.org/record/3842289\n",
    "       "
   ]
  },
  {
   "cell_type": "code",
   "execution_count": 110,
   "id": "balanced-liberia",
   "metadata": {
    "jupyter": {
     "source_hidden": true
    },
    "kernel": "Markdown"
   },
   "outputs": [
    {
     "data": {
      "text/markdown": [
       "### GWAS summary statistics\n",
       "  \n",
       "       For each variant, the rsid, effect allele, reference allele, estimated effect size (beta) and its standard error are needed. Z-score, p-value, and se are convertible from one to the others.\n",
       "     \n",
       "       file = ./LDLq.txt.gz \n"
      ]
     },
     "metadata": {},
     "output_type": "display_data"
    }
   ],
   "source": [
    "### GWAS summary statistics\n",
    "  \n",
    "       For each variant, the rsid, effect allele, reference allele, estimated effect size (beta) and its standard error are needed. Z-score, p-value, and se are convertible from one to the others.\n",
    "     \n",
    "       file = ./LDLq.txt.gz "
   ]
  },
  {
   "cell_type": "code",
   "execution_count": 185,
   "id": "inside-floating",
   "metadata": {
    "kernel": "SoS"
   },
   "outputs": [
    {
     "data": {
      "text/html": [
       "<div class=\"sos_hint\">> /Users/Shared/OneDrive/Wang_Lab/data/LDLq.txt.gz (36.1 MiB):</div>"
      ],
      "text/plain": [
       "\n",
       "> /Users/Shared/OneDrive/Wang_Lab/data/LDLq.txt.gz (36.1 MiB):"
      ]
     },
     "metadata": {},
     "output_type": "display_data"
    },
    {
     "name": "stdout",
     "output_type": "stream",
     "text": [
      "variant\trsid\tbeta\tse\ttstat\tpval\teff_allele\tref_allele\n",
      "1:100002490:C:T\trs78642210\t0.00049945\t0.0054708\t0.091294\t0.92726\tT\tC\n",
      "1:100002882:T:G\trs7545818\t0.00049776\t0.0026102\t0.1907\t0.84876\tG\tT\n",
      "1:100005230:A:T\trs6697069\t0.00047972\t0.0039044\t0.12287\t0.90221\tT\tA\n",
      "1:100006734:C:T\trs55725529\t0.00048102\t0.0034681\t0.1387\t0.88969\tT\tC\n"
     ]
    }
   ],
   "source": [
    "%preview /Users/Shared/OneDrive/Wang_Lab/data/LDLq.txt.gz "
   ]
  },
  {
   "cell_type": "code",
   "execution_count": 111,
   "id": "intelligent-pearl",
   "metadata": {
    "jupyter": {
     "source_hidden": true
    },
    "kernel": "Markdown"
   },
   "outputs": [
    {
     "data": {
      "text/markdown": [
       "### Convert and import Individual level genotype data, phenotype data, and covariates\n",
       "  \n",
       "       The genotype file should be converted to dosage format (coded as 0, 1, 2). Covariates may include age, gender, PCs, batch, etc.\n",
       "      \n",
       "       file = https://www.dropbox.com/s/k9ptc4kep9hmvz5/1kg_phase1_all.tar.gz\n"
      ]
     },
     "metadata": {},
     "output_type": "display_data"
    }
   ],
   "source": [
    "### Convert and import Individual level genotype data, phenotype data, and covariates\n",
    "  \n",
    "       The genotype file should be converted to dosage format (coded as 0, 1, 2). Covariates may include age, gender, PCs, batch, etc.\n",
    "      \n",
    "       file = https://www.dropbox.com/s/k9ptc4kep9hmvz5/1kg_phase1_all.tar.gz"
   ]
  },
  {
   "cell_type": "code",
   "execution_count": 49,
   "id": "banned-colleague",
   "metadata": {
    "kernel": "Bash"
   },
   "outputs": [
    {
     "name": "stdout",
     "output_type": "stream",
     "text": [
      "PLINK v1.90b6.21 64-bit (19 Oct 2020)          www.cog-genomics.org/plink/1.9/\n",
      "(C) 2005-2020 Shaun Purcell, Christopher Chang   GNU General Public License v3\n",
      "Logging to ./dosage.log.\n",
      "Options in effect:\n",
      "  --bfile /Users/Shared/OneDrive/Wang_Lab/data/jti_example_geno\n",
      "  --out ./dosage\n",
      "  --recode A\n",
      "\n",
      "8192 MB RAM detected; reserving 4096 MB for main workspace.\n",
      "2006 variants loaded from .bim file.\n",
      "600 people (0 males, 0 females, 600 ambiguous) loaded from .fam.\n",
      "Ambiguous sex IDs written to ./dosage.nosex .\n",
      "Using 1 thread (no multithreaded calculations invoked).\n",
      "Before main variant filters, 600 founders and 0 nonfounders present.\n",
      "Calculating allele frequencies... 10111213141516171819202122232425262728293031323334353637383940414243444546474849505152535455565758596061626364656667686970717273747576777879808182838485868788899091929394959697989 done.\n",
      "Total genotyping rate is 0.999718.\n",
      "2006 variants and 600 people pass filters and QC.\n",
      "Note: No phenotypes present.\n",
      "--recode A to ./dosage.raw ... 101112131415161718192021222324252627282930313233343536373839404142434445464748495051525354555657585960616263646566676869707172737475767778798081828384858687888990919293949596979899done.\n"
     ]
    }
   ],
   "source": [
    "plink --bfile /Users/Shared/OneDrive/Wang_Lab/data/jti_example_geno --recode A --out ./dosage"
   ]
  },
  {
   "cell_type": "code",
   "execution_count": 112,
   "id": "phantom-republican",
   "metadata": {
    "jupyter": {
     "source_hidden": true
    },
    "kernel": "Markdown"
   },
   "outputs": [
    {
     "data": {
      "text/markdown": [
       "`Environment Requirements`\n",
       "\n",
       "        python 2.7 only and modules including numpy, scipy, pandas\n"
      ]
     },
     "metadata": {},
     "output_type": "display_data"
    }
   ],
   "source": [
    "`Environment Requirements`\n",
    "\n",
    "        python 2.7 only and modules including numpy, scipy, pandas\n"
   ]
  },
  {
   "cell_type": "code",
   "execution_count": null,
   "id": "expanded-occupation",
   "metadata": {
    "kernel": "Markdown"
   },
   "outputs": [],
   "source": []
  },
  {
   "cell_type": "code",
   "execution_count": null,
   "id": "velvet-sport",
   "metadata": {
    "kernel": "Markdown"
   },
   "outputs": [],
   "source": []
  },
  {
   "cell_type": "code",
   "execution_count": 187,
   "id": "cardiac-decision",
   "metadata": {
    "kernel": "Bash"
   },
   "outputs": [
    {
     "name": "stdout",
     "output_type": "stream",
     "text": [
      "bash: ml: command not found\n",
      "Traceback (most recent call last):\n",
      "  File \"/Users/Shared/OneDrive/Wang_Lab/src/MetaXcan/software/MetaMany.py\", line 11, in <module>\n",
      "    from metax import Utilities\n",
      "  File \"/Users/Shared/OneDrive/Wang_Lab/src/MetaXcan/software/metax/Utilities.py\", line 9, in <module>\n",
      "    import pandas\n",
      "ImportError: No module named pandas\n"
     ]
    },
    {
     "ename": "",
     "evalue": "1",
     "output_type": "error",
     "traceback": []
    }
   ],
   "source": [
    "#---start---\n",
    "\n",
    "ml GCC/5.4.0-2.26  OpenMPI/1.10.3 pandas/0.18.1-Python-2.7.12 numpy/1.11.1-Python-2.7.12 scipy/0.17.0-Python-2.7.12\n",
    "trait=LDLq\n",
    "model=JTI\n",
    "tissue=Liver\n",
    "input_folder=/Users/Shared/OneDrive/Wang_Lab/data\n",
    "output_folder=/Users/Shared/OneDrive/Wang_Lab/result\n",
    "\n",
    "python2.7 /Users/Shared/OneDrive/Wang_Lab/src/MetaXcan/software/MetaMany.py \\\n",
    "--model_db_path ${input_folder}/${model}_${tissue}.db \\\n",
    "--covariance ${input_folder}/${model}_${tissue}.txt.gz \\\n",
    "--gwas_file ${input_folder}/${trait}.txt.gz \\\n",
    "--snp_column rsid \\\n",
    "--effect_allele_column eff_allele \\\n",
    "--non_effect_allele_column ref_allele \\\n",
    "--beta_column beta \\\n",
    "--se_column se \\\n",
    "--output_file ${output_folder}/${trait}_${model}_${tissue}.csv\n",
    "\n",
    "#---end---\n"
   ]
  },
  {
   "cell_type": "code",
   "execution_count": null,
   "id": "supposed-registration",
   "metadata": {
    "kernel": "Bash"
   },
   "outputs": [],
   "source": []
  },
  {
   "cell_type": "code",
   "execution_count": null,
   "id": "finished-disposal",
   "metadata": {
    "kernel": "Bash"
   },
   "outputs": [],
   "source": []
  },
  {
   "cell_type": "code",
   "execution_count": 113,
   "id": "instructional-alliance",
   "metadata": {
    "jupyter": {
     "source_hidden": true
    },
    "kernel": "Markdown"
   },
   "outputs": [
    {
     "data": {
      "text/markdown": [
       "## Part ii Output\n",
       "\n",
       "    MetaXcan's association result information and correlation values.\n"
      ]
     },
     "metadata": {},
     "output_type": "display_data"
    }
   ],
   "source": [
    "## Part ii Output\n",
    "\n",
    "    MetaXcan's association result information and correlation values."
   ]
  },
  {
   "cell_type": "code",
   "execution_count": null,
   "id": "finite-denial",
   "metadata": {
    "kernel": "Bash"
   },
   "outputs": [],
   "source": []
  },
  {
   "cell_type": "code",
   "execution_count": 62,
   "id": "sharing-hydrogen",
   "metadata": {
    "jupyter": {
     "source_hidden": true
    },
    "kernel": "Markdown"
   },
   "outputs": [
    {
     "data": {
      "text/markdown": [
       "# Part iii Mendelian Randomization (MR-JTI)\n"
      ]
     },
     "metadata": {},
     "output_type": "display_data"
    }
   ],
   "source": [
    "# Part iii Mendelian Randomization (MR-JTI)"
   ]
  },
  {
   "cell_type": "code",
   "execution_count": 116,
   "id": "fundamental-relations",
   "metadata": {
    "jupyter": {
     "source_hidden": true
    },
    "kernel": "Markdown"
   },
   "outputs": [
    {
     "data": {
      "text/markdown": [
       "## Input\n",
       "\n",
       "   The SNP, eQTL and GWAS estimation information\n",
       "   \n"
      ]
     },
     "metadata": {},
     "output_type": "display_data"
    }
   ],
   "source": [
    "## Input\n",
    "\n",
    "   The SNP, eQTL and GWAS estimation information\n",
    "   "
   ]
  },
  {
   "cell_type": "code",
   "execution_count": 189,
   "id": "fantastic-replication",
   "metadata": {
    "kernel": "SoS"
   },
   "outputs": [
    {
     "data": {
      "text/html": [
       "<div class=\"sos_hint\">> /Users/Shared/OneDrive/Wang_Lab/data/mrjti_example.txt (12.3 KiB):</div>"
      ],
      "text/plain": [
       "\n",
       "> /Users/Shared/OneDrive/Wang_Lab/data/mrjti_example.txt (12.3 KiB):"
      ]
     },
     "metadata": {},
     "output_type": "display_data"
    },
    {
     "data": {
      "text/html": [
       "<div class=\"sos_hint\">145 lines (5 displayed, see --limit)</div>"
      ]
     },
     "metadata": {},
     "output_type": "display_data"
    },
    {
     "name": "stdout",
     "output_type": "stream",
     "text": [
      "rsid\teffect_allele_gwas\tldscore\teqtl_beta\teqtl_se\teqtl_p\tgwas_beta\tgwas_se\tgwas_p\n",
      "rs10449300\tG\t16.3387\t0.122073958\t0.114470828\t0.287482148\t-0.00067683\t0.0025788\t0.79296\n",
      "rs10494095\tG\t9.46725\t0.021090531\t0.121112593\t0.861926553\t-0.0025397\t0.0032695\t0.43728\n",
      "rs10857790\tT\t11.4308\t0.056750248\t0.137096339\t0.679345557\t-0.0059203\t0.0030763\t0.054298\n",
      "rs10857794\tT\t9.98854\t-0.253248466\t0.129569875\t0.051991477\t0.0017527\t0.0031072\t0.57271"
     ]
    }
   ],
   "source": [
    "%preview /Users/Shared/OneDrive/Wang_Lab/data/mrjti_example.txt "
   ]
  },
  {
   "cell_type": "code",
   "execution_count": 118,
   "id": "valid-suspension",
   "metadata": {
    "jupyter": {
     "source_hidden": true
    },
    "kernel": "Markdown"
   },
   "outputs": [
    {
     "data": {
      "text/markdown": [
       "`Environment Requirement`\n",
       "\n",
       "   R 3.4+ and R packages 'glmnet', 'optparse', and 'HDCI'\n"
      ]
     },
     "metadata": {},
     "output_type": "display_data"
    }
   ],
   "source": [
    "   \n",
    "`Environment Requirement`\n",
    "\n",
    "   R 3.4+ and R packages 'glmnet', 'optparse', and 'HDCI'"
   ]
  },
  {
   "cell_type": "code",
   "execution_count": 63,
   "id": "addressed-mills",
   "metadata": {
    "kernel": "Bash"
   },
   "outputs": [
    {
     "name": "stdout",
     "output_type": "stream",
     "text": [
      "During startup - Warning messages:\n",
      "1: Setting LC_COLLATE failed, using \"C\" \n",
      "2: Setting LC_TIME failed, using \"C\" \n",
      "3: Setting LC_MESSAGES failed, using \"C\" \n",
      "4: Setting LC_MONETARY failed, using \"C\" \n",
      "-----MR-JTI----- \n",
      "Loading required package: Matrix\n",
      "Loaded glmnet 4.1-1\n",
      "INFO loading dataframe... \n",
      "Please make sure that the effect alleles of GWAS and eQTL are correctly aligned. \n",
      "INFO running residual bootstrap lasso... \n",
      "INFO done \n",
      "-----\n"
     ]
    }
   ],
   "source": [
    "#--start\n",
    "\n",
    "script_dir='/Users/Shared/OneDrive/Wang_Lab/src'  \n",
    "example_file_dir='/Users/Shared/OneDrive/Wang_Lab/data'  \n",
    "\n",
    "Rscript ${script_dir}/MR-JTI.r \\\n",
    "--df_path ${example_file_dir}/mrjti_example.txt \\\n",
    "--n_genes 100 \\\n",
    "--out_path ${example_file_dir}/mrjti_result.csv\n",
    "\n",
    "\n",
    "#--end"
   ]
  },
  {
   "cell_type": "code",
   "execution_count": 121,
   "id": "yellow-devil",
   "metadata": {
    "jupyter": {
     "source_hidden": true
    },
    "kernel": "Markdown"
   },
   "outputs": [
    {
     "data": {
      "text/markdown": [
       "## Part iii Output\n",
       "\n",
       "MR-JTI generates the upper and lower estimates of the gene's effect on GWAS trait as well as the heterogeneity estimates.\n",
       "variable: Variables including the gene's effect and the heterogeneity effects\n",
       "\n",
       "* beta: Point estimate of the effect size\n",
       "\n",
       "* beta_CI_lower: Bonferroni adjusted confidence interval (CI), lower\n",
       "\n",
       "* beta_CI_upper: Bonferroni adjusted CI, upper\n",
       "\n",
       "* CI_significance: Significant if the CI does not overlap the null hypothesis (i.e., 0).\n",
       "\n",
       "\n",
       "   \n"
      ]
     },
     "metadata": {},
     "output_type": "display_data"
    }
   ],
   "source": [
    "## Part iii Output\n",
    "\n",
    "MR-JTI generates the upper and lower estimates of the gene's effect on GWAS trait as well as the heterogeneity estimates.\n",
    "variable: Variables including the gene's effect and the heterogeneity effects\n",
    "\n",
    "* beta: Point estimate of the effect size\n",
    "\n",
    "* beta_CI_lower: Bonferroni adjusted confidence interval (CI), lower\n",
    "\n",
    "* beta_CI_upper: Bonferroni adjusted CI, upper\n",
    "\n",
    "* CI_significance: Significant if the CI does not overlap the null hypothesis (i.e., 0).\n",
    "\n",
    "\n",
    "   "
   ]
  },
  {
   "cell_type": "code",
   "execution_count": 190,
   "id": "correct-failure",
   "metadata": {
    "kernel": "SoS"
   },
   "outputs": [
    {
     "data": {
      "text/html": [
       "<div class=\"sos_hint\">> /Users/Shared/OneDrive/Wang_Lab/data/mrjti_result.csv (1.6 KiB):</div>"
      ],
      "text/plain": [
       "\n",
       "> /Users/Shared/OneDrive/Wang_Lab/data/mrjti_result.csv (1.6 KiB):"
      ]
     },
     "metadata": {},
     "output_type": "display_data"
    },
    {
     "data": {
      "text/html": [
       "\n",
       "    <div class='dataframe_container' style=\"max-height:400px\">\n",
       "    <input type=\"text\" class='dataframe_input' id=\"search_tlf0eamr\" onkeyup=\"filterDataFrame('tlf0eamr')\" placeholder=\"Search for names..\">\n",
       "    <table border=\"1\" id=\"dataframe_tlf0eamr\" class=\"sos_dataframe dataframe\">\n",
       "  <thead>\n",
       "    <tr style=\"text-align: right;\">\n",
       "      <th> &nbsp; <i class=\"fa fa-sort\" style=\"color:lightgray\" onclick=\"sortDataFrame('tlf0eamr', 0, 'numeric')\"></th>\n",
       "      <th>variable &nbsp; <i class=\"fa fa-sort\" style=\"color:lightgray\" onclick=\"sortDataFrame('tlf0eamr', 1, 'alphabetic')\"></th>\n",
       "      <th>beta &nbsp; <i class=\"fa fa-sort\" style=\"color:lightgray\" onclick=\"sortDataFrame('tlf0eamr', 2, 'numeric')\"></th>\n",
       "      <th>beta_CI_lower &nbsp; <i class=\"fa fa-sort\" style=\"color:lightgray\" onclick=\"sortDataFrame('tlf0eamr', 3, 'numeric')\"></th>\n",
       "      <th>beta_CI_upper &nbsp; <i class=\"fa fa-sort\" style=\"color:lightgray\" onclick=\"sortDataFrame('tlf0eamr', 4, 'numeric')\"></th>\n",
       "      <th>CI_significance &nbsp; <i class=\"fa fa-sort\" style=\"color:lightgray\" onclick=\"sortDataFrame('tlf0eamr', 5, 'alphabetic')\"></th>\n",
       "    </tr>\n",
       "  </thead>\n",
       "  <tbody>\n",
       "    <tr>\n",
       "      <th>0</th>\n",
       "      <td>expression</td>\n",
       "      <td>-0.711202</td>\n",
       "      <td>-0.834398</td>\n",
       "      <td>-0.471406</td>\n",
       "      <td>sig</td>\n",
       "    </tr>\n",
       "    <tr>\n",
       "      <th>1</th>\n",
       "      <td>ldsc</td>\n",
       "      <td>-0.058443</td>\n",
       "      <td>-0.235824</td>\n",
       "      <td>0.131659</td>\n",
       "      <td>nonsig</td>\n",
       "    </tr>\n",
       "    <tr>\n",
       "      <th>2</th>\n",
       "      <td>rs3902354</td>\n",
       "      <td>-0.000481</td>\n",
       "      <td>-0.066158</td>\n",
       "      <td>-0.022859</td>\n",
       "      <td>sig</td>\n",
       "    </tr>\n",
       "    <tr>\n",
       "      <th>3</th>\n",
       "      <td>rs68104325</td>\n",
       "      <td>-0.000059</td>\n",
       "      <td>0.000000</td>\n",
       "      <td>0.025951</td>\n",
       "      <td>nonsig</td>\n",
       "    </tr>\n",
       "    <tr>\n",
       "      <th>4</th>\n",
       "      <td>rs585362</td>\n",
       "      <td>0.000000</td>\n",
       "      <td>0.000000</td>\n",
       "      <td>0.000000</td>\n",
       "      <td>nonsig</td>\n",
       "    </tr>\n",
       "    <tr>\n",
       "      <th>5</th>\n",
       "      <td>rs17035665</td>\n",
       "      <td>0.000000</td>\n",
       "      <td>0.000000</td>\n",
       "      <td>0.000000</td>\n",
       "      <td>nonsig</td>\n",
       "    </tr>\n",
       "    <tr>\n",
       "      <th>6</th>\n",
       "      <td>rs651649</td>\n",
       "      <td>0.000000</td>\n",
       "      <td>0.000000</td>\n",
       "      <td>0.000000</td>\n",
       "      <td>nonsig</td>\n",
       "    </tr>\n",
       "    <tr>\n",
       "      <th>7</th>\n",
       "      <td>rs6677122</td>\n",
       "      <td>-0.000974</td>\n",
       "      <td>-0.119577</td>\n",
       "      <td>-0.073545</td>\n",
       "      <td>sig</td>\n",
       "    </tr>\n",
       "    <tr>\n",
       "      <th>8</th>\n",
       "      <td>rs4970835</td>\n",
       "      <td>0.000000</td>\n",
       "      <td>0.000000</td>\n",
       "      <td>0.000000</td>\n",
       "      <td>nonsig</td>\n",
       "    </tr>\n",
       "    <tr>\n",
       "      <th>9</th>\n",
       "      <td>rs41279732</td>\n",
       "      <td>-0.000593</td>\n",
       "      <td>-0.065504</td>\n",
       "      <td>-0.026375</td>\n",
       "      <td>sig</td>\n",
       "    </tr>\n",
       "    <tr>\n",
       "      <th>10</th>\n",
       "      <td>rs629001</td>\n",
       "      <td>0.000000</td>\n",
       "      <td>0.000000</td>\n",
       "      <td>0.000000</td>\n",
       "      <td>nonsig</td>\n",
       "    </tr>\n",
       "    <tr>\n",
       "      <th>11</th>\n",
       "      <td>rs610249</td>\n",
       "      <td>0.000000</td>\n",
       "      <td>0.000000</td>\n",
       "      <td>0.000000</td>\n",
       "      <td>nonsig</td>\n",
       "    </tr>\n",
       "    <tr>\n",
       "      <th>12</th>\n",
       "      <td>rs138509427</td>\n",
       "      <td>0.000000</td>\n",
       "      <td>0.000000</td>\n",
       "      <td>0.000000</td>\n",
       "      <td>nonsig</td>\n",
       "    </tr>\n",
       "    <tr>\n",
       "      <th>13</th>\n",
       "      <td>rs3850616</td>\n",
       "      <td>0.000000</td>\n",
       "      <td>0.000000</td>\n",
       "      <td>0.000000</td>\n",
       "      <td>nonsig</td>\n",
       "    </tr>\n",
       "    <tr>\n",
       "      <th>14</th>\n",
       "      <td>rs144034706</td>\n",
       "      <td>0.000000</td>\n",
       "      <td>0.000000</td>\n",
       "      <td>0.000000</td>\n",
       "      <td>nonsig</td>\n",
       "    </tr>\n",
       "    <tr>\n",
       "      <th>15</th>\n",
       "      <td>rs14000</td>\n",
       "      <td>0.000000</td>\n",
       "      <td>0.000000</td>\n",
       "      <td>0.000000</td>\n",
       "      <td>nonsig</td>\n",
       "    </tr>\n",
       "    <tr>\n",
       "      <th>16</th>\n",
       "      <td>rs892510</td>\n",
       "      <td>0.000000</td>\n",
       "      <td>0.000000</td>\n",
       "      <td>0.000000</td>\n",
       "      <td>nonsig</td>\n",
       "    </tr>\n",
       "    <tr>\n",
       "      <th>17</th>\n",
       "      <td>rs9697383</td>\n",
       "      <td>0.000000</td>\n",
       "      <td>0.000000</td>\n",
       "      <td>0.000000</td>\n",
       "      <td>nonsig</td>\n",
       "    </tr>\n",
       "    <tr>\n",
       "      <th>18</th>\n",
       "      <td>rs11102002</td>\n",
       "      <td>0.000000</td>\n",
       "      <td>0.000000</td>\n",
       "      <td>0.000000</td>\n",
       "      <td>nonsig</td>\n",
       "    </tr>\n",
       "    <tr>\n",
       "      <th>19</th>\n",
       "      <td>rs1278286</td>\n",
       "      <td>0.000000</td>\n",
       "      <td>0.000000</td>\n",
       "      <td>0.000000</td>\n",
       "      <td>nonsig</td>\n",
       "    </tr>\n",
       "    <tr>\n",
       "      <th>20</th>\n",
       "      <td>rs115181845</td>\n",
       "      <td>0.000000</td>\n",
       "      <td>0.000000</td>\n",
       "      <td>0.000000</td>\n",
       "      <td>nonsig</td>\n",
       "    </tr>\n",
       "    <tr>\n",
       "      <th>21</th>\n",
       "      <td>rs34941779</td>\n",
       "      <td>0.000000</td>\n",
       "      <td>0.000000</td>\n",
       "      <td>0.000000</td>\n",
       "      <td>nonsig</td>\n",
       "    </tr>\n",
       "    <tr>\n",
       "      <th>22</th>\n",
       "      <td>rs1537236</td>\n",
       "      <td>0.000000</td>\n",
       "      <td>0.000000</td>\n",
       "      <td>0.000000</td>\n",
       "      <td>nonsig</td>\n",
       "    </tr>\n",
       "    <tr>\n",
       "      <th>23</th>\n",
       "      <td>rs2269340</td>\n",
       "      <td>0.000000</td>\n",
       "      <td>0.000000</td>\n",
       "      <td>0.000000</td>\n",
       "      <td>nonsig</td>\n",
       "    </tr>\n",
       "    <tr>\n",
       "      <th>24</th>\n",
       "      <td>rs72705222</td>\n",
       "      <td>0.000000</td>\n",
       "      <td>0.000000</td>\n",
       "      <td>0.000000</td>\n",
       "      <td>nonsig</td>\n",
       "    </tr>\n",
       "    <tr>\n",
       "      <th>25</th>\n",
       "      <td>rs77854863</td>\n",
       "      <td>0.000000</td>\n",
       "      <td>0.000000</td>\n",
       "      <td>0.000000</td>\n",
       "      <td>nonsig</td>\n",
       "    </tr>\n",
       "    <tr>\n",
       "      <th>26</th>\n",
       "      <td>rs112479902</td>\n",
       "      <td>-0.000050</td>\n",
       "      <td>0.000000</td>\n",
       "      <td>0.021894</td>\n",
       "      <td>nonsig</td>\n",
       "    </tr>\n",
       "    <tr>\n",
       "      <th>27</th>\n",
       "      <td>rs1333124</td>\n",
       "      <td>0.000000</td>\n",
       "      <td>0.000000</td>\n",
       "      <td>0.000000</td>\n",
       "      <td>nonsig</td>\n",
       "    </tr>\n",
       "    <tr>\n",
       "      <th>28</th>\n",
       "      <td>rs4246519</td>\n",
       "      <td>0.000000</td>\n",
       "      <td>0.000000</td>\n",
       "      <td>0.000000</td>\n",
       "      <td>nonsig</td>\n",
       "    </tr>\n",
       "    <tr>\n",
       "      <th>29</th>\n",
       "      <td>rs12021920</td>\n",
       "      <td>0.000000</td>\n",
       "      <td>0.000000</td>\n",
       "      <td>0.000000</td>\n",
       "      <td>nonsig</td>\n",
       "    </tr>\n",
       "    <tr>\n",
       "      <th>30</th>\n",
       "      <td>rs116363925</td>\n",
       "      <td>0.000000</td>\n",
       "      <td>0.000000</td>\n",
       "      <td>0.000000</td>\n",
       "      <td>nonsig</td>\n",
       "    </tr>\n",
       "    <tr>\n",
       "      <th>31</th>\n",
       "      <td>rs638820</td>\n",
       "      <td>0.000000</td>\n",
       "      <td>0.000000</td>\n",
       "      <td>0.000000</td>\n",
       "      <td>nonsig</td>\n",
       "    </tr>\n",
       "    <tr>\n",
       "      <th>32</th>\n",
       "      <td>rs72697104</td>\n",
       "      <td>0.000000</td>\n",
       "      <td>0.000000</td>\n",
       "      <td>0.000000</td>\n",
       "      <td>nonsig</td>\n",
       "    </tr>\n",
       "    <tr>\n",
       "      <th>33</th>\n",
       "      <td>rs6684562</td>\n",
       "      <td>0.000000</td>\n",
       "      <td>0.000000</td>\n",
       "      <td>0.000000</td>\n",
       "      <td>nonsig</td>\n",
       "    </tr>\n",
       "    <tr>\n",
       "      <th>34</th>\n",
       "      <td>rs3736956</td>\n",
       "      <td>0.000000</td>\n",
       "      <td>0.000000</td>\n",
       "      <td>0.000000</td>\n",
       "      <td>nonsig</td>\n",
       "    </tr>\n",
       "    <tr>\n",
       "      <th>35</th>\n",
       "      <td>rs4970779</td>\n",
       "      <td>0.000000</td>\n",
       "      <td>0.000000</td>\n",
       "      <td>0.000000</td>\n",
       "      <td>nonsig</td>\n",
       "    </tr>\n",
       "    <tr>\n",
       "      <th>36</th>\n",
       "      <td>rs11102213</td>\n",
       "      <td>0.000000</td>\n",
       "      <td>0.000000</td>\n",
       "      <td>0.000000</td>\n",
       "      <td>nonsig</td>\n",
       "    </tr>\n",
       "    <tr>\n",
       "      <th>37</th>\n",
       "      <td>rs12024479</td>\n",
       "      <td>0.000000</td>\n",
       "      <td>0.000000</td>\n",
       "      <td>0.000000</td>\n",
       "      <td>nonsig</td>\n",
       "    </tr>\n",
       "    <tr>\n",
       "      <th>38</th>\n",
       "      <td>rs2050462</td>\n",
       "      <td>0.000000</td>\n",
       "      <td>0.000000</td>\n",
       "      <td>0.000000</td>\n",
       "      <td>nonsig</td>\n",
       "    </tr>\n",
       "    <tr>\n",
       "      <th>39</th>\n",
       "      <td>rs7527452</td>\n",
       "      <td>0.000000</td>\n",
       "      <td>0.000000</td>\n",
       "      <td>0.000000</td>\n",
       "      <td>nonsig</td>\n",
       "    </tr>\n",
       "    <tr>\n",
       "      <th>40</th>\n",
       "      <td>rs61784498</td>\n",
       "      <td>0.000000</td>\n",
       "      <td>0.000000</td>\n",
       "      <td>0.000000</td>\n",
       "      <td>nonsig</td>\n",
       "    </tr>\n",
       "    <tr>\n",
       "      <th>41</th>\n",
       "      <td>rs3818572</td>\n",
       "      <td>0.000000</td>\n",
       "      <td>0.000000</td>\n",
       "      <td>0.000000</td>\n",
       "      <td>nonsig</td>\n",
       "    </tr>\n",
       "    <tr>\n",
       "      <th>42</th>\n",
       "      <td>rs333950</td>\n",
       "      <td>0.000000</td>\n",
       "      <td>0.000000</td>\n",
       "      <td>0.000000</td>\n",
       "      <td>nonsig</td>\n",
       "    </tr>\n",
       "    <tr>\n",
       "      <th>43</th>\n",
       "      <td>rs150112018</td>\n",
       "      <td>0.000000</td>\n",
       "      <td>0.000000</td>\n",
       "      <td>0.000000</td>\n",
       "      <td>nonsig</td>\n",
       "    </tr>\n",
       "    <tr>\n",
       "      <th>44</th>\n",
       "      <td>rs617293</td>\n",
       "      <td>0.000000</td>\n",
       "      <td>0.000000</td>\n",
       "      <td>0.000000</td>\n",
       "      <td>nonsig</td>\n",
       "    </tr>\n",
       "    <tr>\n",
       "      <th>45</th>\n",
       "      <td>rs12036565</td>\n",
       "      <td>0.000000</td>\n",
       "      <td>0.000000</td>\n",
       "      <td>0.000000</td>\n",
       "      <td>nonsig</td>\n",
       "    </tr>\n",
       "    <tr>\n",
       "      <th>46</th>\n",
       "      <td>rs67603431</td>\n",
       "      <td>0.000000</td>\n",
       "      <td>0.000000</td>\n",
       "      <td>0.000000</td>\n",
       "      <td>nonsig</td>\n",
       "    </tr>\n",
       "    <tr>\n",
       "      <th>47</th>\n",
       "      <td>rs731756</td>\n",
       "      <td>0.000000</td>\n",
       "      <td>0.000000</td>\n",
       "      <td>0.000000</td>\n",
       "      <td>nonsig</td>\n",
       "    </tr>\n",
       "    <tr>\n",
       "      <th>48</th>\n",
       "      <td>rs12132545</td>\n",
       "      <td>0.000000</td>\n",
       "      <td>0.000000</td>\n",
       "      <td>0.000000</td>\n",
       "      <td>nonsig</td>\n",
       "    </tr>\n",
       "    <tr>\n",
       "      <th>49</th>\n",
       "      <td>rs17566228</td>\n",
       "      <td>0.000000</td>\n",
       "      <td>0.000000</td>\n",
       "      <td>0.000000</td>\n",
       "      <td>nonsig</td>\n",
       "    </tr>\n",
       "    <tr>\n",
       "      <th>50</th>\n",
       "      <td>rs12034102</td>\n",
       "      <td>0.000000</td>\n",
       "      <td>0.000000</td>\n",
       "      <td>0.000000</td>\n",
       "      <td>nonsig</td>\n",
       "    </tr>\n",
       "    <tr>\n",
       "      <th>51</th>\n",
       "      <td>rs11583961</td>\n",
       "      <td>0.000000</td>\n",
       "      <td>0.000000</td>\n",
       "      <td>0.000000</td>\n",
       "      <td>nonsig</td>\n",
       "    </tr>\n",
       "  </tbody>\n",
       "</table></div>"
      ]
     },
     "metadata": {},
     "output_type": "display_data"
    }
   ],
   "source": [
    "%preview /Users/Shared/OneDrive/Wang_Lab/data/mrjti_result.csv "
   ]
  },
  {
   "cell_type": "code",
   "execution_count": 122,
   "id": "civil-premises",
   "metadata": {
    "jupyter": {
     "source_hidden": true
    },
    "kernel": "Markdown"
   },
   "outputs": [
    {
     "data": {
      "text/markdown": [
       "# Result Interpretation\n",
       "\n",
       "MR-JTI performs causal inference by modeling the heterogeneity (extra effect) which mainly due to horizontal pleiotropy and unobserved confounding factors. The output of 'CI_significant' tells you whether it is significant ('sig' or 'nonsig'). Here, the significance is not defined by p-value but by the confidence interval (CI) estimated from the bootstrap in a non-parametric way. The Bonferroni-adjusted CI includes 0 mean not significant. 'Bonferroni-adjusted CI' means, when 100 genes were tested, 1-0.05/100 CI (99.95% CI) is applied.\n",
       "\n",
       "The significance of \"expression\" (2nd row in result file) is the primary result of MR-JTI, indicating the significance of the causality between the gene expression and trait.\n",
       "\n",
       "The ld-score is considered as a covariate here.\n",
       "\n",
       "The significance for each IV (SNP) indicates whether the 'extra effect' of the IVs is significantly different from 0. The 'extra effect' denotes the effect from IV to trait but not mediated by the target gene's expression.\n"
      ]
     },
     "metadata": {},
     "output_type": "display_data"
    }
   ],
   "source": [
    "# Result Interpretation\n",
    "\n",
    "MR-JTI performs causal inference by modeling the heterogeneity (extra effect) which mainly due to horizontal pleiotropy and unobserved confounding factors. The output of 'CI_significant' tells you whether it is significant ('sig' or 'nonsig'). Here, the significance is not defined by p-value but by the confidence interval (CI) estimated from the bootstrap in a non-parametric way. The Bonferroni-adjusted CI includes 0 mean not significant. 'Bonferroni-adjusted CI' means, when 100 genes were tested, 1-0.05/100 CI (99.95% CI) is applied.\n",
    "\n",
    "The significance of \"expression\" (2nd row in result file) is the primary result of MR-JTI, indicating the significance of the causality between the gene expression and trait.\n",
    "\n",
    "The ld-score is considered as a covariate here.\n",
    "\n",
    "The significance for each IV (SNP) indicates whether the 'extra effect' of the IVs is significantly different from 0. The 'extra effect' denotes the effect from IV to trait but not mediated by the target gene's expression.\n"
   ]
  },
  {
   "cell_type": "code",
   "execution_count": null,
   "id": "fresh-medication",
   "metadata": {
    "kernel": "Bash"
   },
   "outputs": [],
   "source": []
  },
  {
   "cell_type": "code",
   "execution_count": null,
   "id": "meaning-retail",
   "metadata": {
    "kernel": "Bash"
   },
   "outputs": [],
   "source": []
  }
 ],
 "metadata": {
  "kernelspec": {
   "display_name": "SoS",
   "language": "sos",
   "name": "sos"
  },
  "language_info": {
   "codemirror_mode": "sos",
   "file_extension": ".sos",
   "mimetype": "text/x-sos",
   "name": "sos",
   "nbconvert_exporter": "sos_notebook.converter.SoS_Exporter",
   "pygments_lexer": "sos"
  },
  "sos": {
   "kernels": [
    [
     "Bash",
     "bash",
     "Bash",
     "#E6EEFF",
     "shell"
    ],
    [
     "Markdown",
     "markdown",
     "markdown",
     "",
     "markdown"
    ],
    [
     "R",
     "ir",
     "R",
     "#DCDCDA",
     "r"
    ],
    [
     "SoS",
     "sos",
     "",
     "",
     "sos"
    ]
   ],
   "version": "0.22.4"
  },
  "toc-autonumbering": false
 },
 "nbformat": 4,
 "nbformat_minor": 5
}
