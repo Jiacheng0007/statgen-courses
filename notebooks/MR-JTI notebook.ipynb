{
 "cells": [
  {
   "cell_type": "markdown",
   "id": "documented-affairs",
   "metadata": {
    "kernel": "Markdown",
    "tags": []
   },
   "source": [
    "# Overview:\n",
    "\n",
    "  1. JTI leverages the shared regulatory architecture of gene expression to substantially improve prediction.\n",
    "  Find association between:\n",
    "  Y = predicted expression gene A\n",
    "  X = Trait\n",
    "  \n",
    "  Data = transcriptome data\n",
    "  \n",
    "\n"
   ]
  },
  {
   "cell_type": "code",
   "execution_count": null,
   "id": "ignored-luxury",
   "metadata": {
    "kernel": "SoS"
   },
   "outputs": [],
   "source": [
    "# Resources\n"
   ]
  },
  {
   "cell_type": "code",
   "execution_count": null,
   "id": "labeled-findings",
   "metadata": {
    "kernel": "SoS"
   },
   "outputs": [],
   "source": [
    "# Input Data\n",
    "\n",
    "Genotype data"
   ]
  },
  {
   "cell_type": "code",
   "execution_count": null,
   "id": "latin-sister",
   "metadata": {
    "kernel": "SoS"
   },
   "outputs": [],
   "source": [
    "# Part i\n",
    "Prediction model training (Joint-Tissue Imputation, JTI)\n",
    "\n",
    "# Part ii\n",
    "Association test\n",
    "\n",
    "# Part iii\n",
    "Mendelian Randomization (MR-JTI)"
   ]
  },
  {
   "cell_type": "code",
   "execution_count": 1,
   "id": "heard-passing",
   "metadata": {
    "kernel": "Bash",
    "tags": []
   },
   "outputs": [
    {
     "ename": "RuntimeError",
     "evalue": "Failed to start kernel \"Bash\". Kernel died before replying to kernel_info\nError Message:\nTraceback (most recent call last):\r\n  File \"C:\\ProgramData\\Miniconda3\\lib\\runpy.py\", line 194, in _run_module_as_main\r\n    return _run_code(code, main_globals, None,\r\n  File \"C:\\ProgramData\\Miniconda3\\lib\\runpy.py\", line 87, in _run_code\r\n    exec(code, run_globals)\r\n  File \"C:\\ProgramData\\Miniconda3\\lib\\site-packages\\bash_kernel\\__main__.py\", line 3, in <module>\r\n    IPKernelApp.launch_instance(kernel_class=BashKernel)\r\n  File \"C:\\ProgramData\\Miniconda3\\lib\\site-packages\\traitlets\\config\\application.py\", line 844, in launch_instance\r\n    app.initialize(argv)\r\n  File \"C:\\ProgramData\\Miniconda3\\lib\\site-packages\\traitlets\\config\\application.py\", line 87, in inner\r\n    return method(app, *args, **kwargs)\r\n  File \"C:\\ProgramData\\Miniconda3\\lib\\site-packages\\ipykernel\\kernelapp.py\", line 582, in initialize\r\n    self.init_kernel()\r\n  File \"C:\\ProgramData\\Miniconda3\\lib\\site-packages\\ipykernel\\kernelapp.py\", line 444, in init_kernel\r\n    kernel = kernel_factory(parent=self, session=self.session,\r\n  File \"C:\\ProgramData\\Miniconda3\\lib\\site-packages\\traitlets\\config\\configurable.py\", line 537, in instance\r\n    inst = cls(*args, **kwargs)\r\n  File \"C:\\ProgramData\\Miniconda3\\lib\\site-packages\\bash_kernel\\kernel.py\", line 81, in __init__\r\n    self._start_bash()\r\n  File \"C:\\ProgramData\\Miniconda3\\lib\\site-packages\\bash_kernel\\kernel.py\", line 95, in _start_bash\r\n    child = pexpect.spawn(\"bash\", ['--rcfile', bashrc], echo=False,\r\nAttributeError: module 'pexpect' has no attribute 'spawn'\r\n",
     "execution_count": 1,
     "output_type": "error",
     "status": "error",
     "traceback": [
      "\u001b[91mFailed to start kernel \"Bash\". Kernel died before replying to kernel_info\nError Message:\nTraceback (most recent call last):\r\n  File \"C:\\ProgramData\\Miniconda3\\lib\\runpy.py\", line 194, in _run_module_as_main\r\n    return _run_code(code, main_globals, None,\r\n  File \"C:\\ProgramData\\Miniconda3\\lib\\runpy.py\", line 87, in _run_code\r\n    exec(code, run_globals)\r\n  File \"C:\\ProgramData\\Miniconda3\\lib\\site-packages\\bash_kernel\\__main__.py\", line 3, in <module>\r\n    IPKernelApp.launch_instance(kernel_class=BashKernel)\r\n  File \"C:\\ProgramData\\Miniconda3\\lib\\site-packages\\traitlets\\config\\application.py\", line 844, in launch_instance\r\n    app.initialize(argv)\r\n  File \"C:\\ProgramData\\Miniconda3\\lib\\site-packages\\traitlets\\config\\application.py\", line 87, in inner\r\n    return method(app, *args, **kwargs)\r\n  File \"C:\\ProgramData\\Miniconda3\\lib\\site-packages\\ipykernel\\kernelapp.py\", line 582, in initialize\r\n    self.init_kernel()\r\n  File \"C:\\ProgramData\\Miniconda3\\lib\\site-packages\\ipykernel\\kernelapp.py\", line 444, in init_kernel\r\n    kernel = kernel_factory(parent=self, session=self.session,\r\n  File \"C:\\ProgramData\\Miniconda3\\lib\\site-packages\\traitlets\\config\\configurable.py\", line 537, in instance\r\n    inst = cls(*args, **kwargs)\r\n  File \"C:\\ProgramData\\Miniconda3\\lib\\site-packages\\bash_kernel\\kernel.py\", line 81, in __init__\r\n    self._start_bash()\r\n  File \"C:\\ProgramData\\Miniconda3\\lib\\site-packages\\bash_kernel\\kernel.py\", line 95, in _start_bash\r\n    child = pexpect.spawn(\"bash\", ['--rcfile', bashrc], echo=False,\r\nAttributeError: module 'pexpect' has no attribute 'spawn'\r\n\u001b[0m"
     ]
    }
   ],
   "source": [
    "%preview data/jti_example_geno.bed"
   ]
  },
  {
   "cell_type": "code",
   "execution_count": 4,
   "id": "corresponding-scene",
   "metadata": {
    "kernel": "SoS",
    "tags": []
   },
   "outputs": [
    {
     "ename": "ParsingError",
     "evalue": "File contains parsing errors: \n\t[line  2]: jupyter kernelspec list\n\nInvalid statements: SyntaxError('invalid syntax', ('<string>', 1, 9, 'jupyter kernelspec list\\n'))",
     "execution_count": 4,
     "output_type": "error",
     "status": "error",
     "traceback": [
      "\u001b[91mFile contains parsing errors: \n\t[line  2]: jupyter kernelspec list\n\nInvalid statements: SyntaxError('invalid syntax', ('<string>', 1, 9, 'jupyter kernelspec list\\n'))\u001b[0m"
     ]
    }
   ],
   "source": [
    "jupyter kernelspec list"
   ]
  },
  {
   "cell_type": "code",
   "execution_count": null,
   "id": "hourly-charge",
   "metadata": {
    "kernel": "Bash"
   },
   "outputs": [],
   "source": []
  }
 ],
 "metadata": {
  "kernelspec": {
   "display_name": "SoS",
   "language": "sos",
   "name": "sos"
  },
  "language_info": {
   "codemirror_mode": "sos",
   "file_extension": ".sos",
   "mimetype": "text/x-sos",
   "name": "sos",
   "nbconvert_exporter": "sos_notebook.converter.SoS_Exporter",
   "pygments_lexer": "sos"
  },
  "sos": {
   "kernels": [
    [
     "Bash",
     "bash",
     "Bash",
     "#E6EEFF",
     ""
    ],
    [
     "SoS",
     "sos",
     "",
     "",
     "sos"
    ]
   ],
   "version": "0.22.4"
  }
 },
 "nbformat": 4,
 "nbformat_minor": 5
}
