{
 "cells": [
  {
   "cell_type": "code",
   "execution_count": 32,
   "id": "strange-friendly",
   "metadata": {
    "jupyter": {
     "source_hidden": true
    },
    "kernel": "Markdown"
   },
   "outputs": [
    {
     "data": {
      "text/markdown": [
       "# MR-JTI workflow\n",
       "\n",
       "## Overview\n",
       "\n",
       "This notebook shows the workflow for MR-JTI, which utilizes imputation to perform trait prediction according to multi-tissue relationship gene expression. MR-JTI acheives a higher prediction accuracy by leveraging multi-tissue information and also performes Causal Inference on trait and gene expression.\n",
       "\n",
       " \n",
       "`Goal`  \n",
       "  \n",
       "     1. Imputation prediction for genes\n",
       "  \n",
       "     2. Causal Inference between Trait and Gene Expression\n",
       "     \n",
       "  \n",
       "`Model`\n",
       "  \n",
       "     Y = Trait\n",
       "  \n",
       "     X = Predicted expression Gene A\n",
       "  \n",
       "     Data = transcriptome data as the information about the mapping between Gene A's expression and SNP.\n"
      ]
     },
     "metadata": {},
     "output_type": "display_data"
    }
   ],
   "source": [
    "# MR-JTI workflow\n",
    "\n",
    "## Overview\n",
    "\n",
    "This notebook shows the workflow for MR-JTI, which utilizes imputation to perform trait prediction according to multi-tissue relationship gene expression. MR-JTI acheives a higher prediction accuracy by leveraging multi-tissue information and also performes Causal Inference on trait and gene expression.\n",
    "\n",
    " \n",
    "`Goal`  \n",
    "  \n",
    "     1. Imputation prediction for genes\n",
    "  \n",
    "     2. Causal Inference between Trait and Gene Expression\n",
    "     \n",
    "  \n",
    "`Model`\n",
    "  \n",
    "     Y = Trait\n",
    "  \n",
    "     X = Predicted expression Gene A\n",
    "  \n",
    "     Data = transcriptome data as the information about the mapping between Gene A's expression and SNP.\n"
   ]
  },
  {
   "cell_type": "code",
   "execution_count": 42,
   "id": "floating-dealer",
   "metadata": {
    "jupyter": {
     "source_hidden": true
    },
    "kernel": "Markdown"
   },
   "outputs": [
    {
     "data": {
      "text/markdown": [
       "## Command Interface\n"
      ]
     },
     "metadata": {},
     "output_type": "display_data"
    }
   ],
   "source": [
    "## Command Interface"
   ]
  },
  {
   "cell_type": "code",
   "execution_count": 16,
   "id": "spiritual-fossil",
   "metadata": {
    "kernel": "SoS"
   },
   "outputs": [
    {
     "name": "stdout",
     "output_type": "stream",
     "text": [
      "/Users/malong/Documents/neuro_twas"
     ]
    }
   ],
   "source": [
    "%cd '/Users/malong/Documents/neuro_twas'"
   ]
  },
  {
   "cell_type": "code",
   "execution_count": 25,
   "id": "structural-walter",
   "metadata": {
    "jupyter": {
     "source_hidden": true
    },
    "kernel": "Markdown"
   },
   "outputs": [
    {
     "data": {
      "text/markdown": [
       "## MWE\n",
       "\n",
       "The minimal working example files can be downloaded from dropbox https://www.dropbox.com/sh/i9elg3m4wav4o5g/AAABdxZbVyBclbfa_1KKVftDa?dl=0.\n",
       "In here we assume the folder structure is the same as this link.\n"
      ]
     },
     "metadata": {},
     "output_type": "display_data"
    }
   ],
   "source": [
    "## MWE\n",
    "\n",
    "The minimal working example files can be downloaded from dropbox https://www.dropbox.com/sh/i9elg3m4wav4o5g/AAABdxZbVyBclbfa_1KKVftDa?dl=0.\n",
    "In here we assume the folder structure is the same as this link."
   ]
  },
  {
   "cell_type": "code",
   "execution_count": 26,
   "id": "australian-virgin",
   "metadata": {
    "kernel": "SoS"
   },
   "outputs": [
    {
     "ename": "ParsingError",
     "evalue": "File contains parsing errors: \n\t[line  2]: nohup sos run ～/0324_MR_JTI.ipynb JTI \\\n  --tissue=Adipose_Subcutaneous \\\n  --geneid=ENSG00000182957 \\     # for_each 'geneid'\n  --genotype_path=${example_file_dir}/jti_example_geno.bed \\\n  --expression_path=${example_file_dir}/jti_example_exp.txt \\\n\nInvalid statements: SyntaxError('invalid syntax', ('<string>', 1, 7, 'nohup sos run ～/0324_MR_JTI.ipynb JTI \\\\\\n'))",
     "execution_count": 26,
     "output_type": "error",
     "status": "error",
     "traceback": [
      "\u001b[91mFile contains parsing errors: \n\t[line  2]: nohup sos run ～/0324_MR_JTI.ipynb JTI \\\n  --tissue=Adipose_Subcutaneous \\\n  --geneid=ENSG00000182957 \\     # for_each 'geneid'\n  --genotype_path=${example_file_dir}/jti_example_geno.bed \\\n  --expression_path=${example_file_dir}/jti_example_exp.txt \\\n\nInvalid statements: SyntaxError('invalid syntax', ('<string>', 1, 7, 'nohup sos run ～/0324_MR_JTI.ipynb JTI \\\\\\n'))\u001b[0m"
     ]
    }
   ],
   "source": [
    "nohup sos run ～/0324_MR_JTI.ipynb JTI \\\n",
    "  --tissue=Adipose_Subcutaneous \\\n",
    "  --geneid=ENSG00000182957 \\     # for_each 'geneid'\n",
    "  --genotype_path=${example_file_dir}/jti_example_geno.bed \\\n",
    "  --expression_path=${example_file_dir}/jti_example_exp.txt \\\n",
    "  --tmp_folder=${example_file_dir}/tmp \\\n",
    "  --gencode_path ${example_file_dir}/gencode.v32.GRCh37.txt \\\n",
    "  --plink_path \"/Users/Shared/OneDrive/Wang_Lab/plink_mac_20201019/plink\"\\\n",
    "  --out_path ${example_file_dir}     #--outpath ${_output}\n",
    " &\n",
    "\n",
    " \n",
    "nohub sos docker run -it --rm --name my-running-script -v \"$PWD\":/usr/src/myapp -w /usr/src/myapp python:2 python /Users/malong/Vpy27/bin/MetaXcan.py\n",
    "  --model_db_path ${input_folder}/${model}_${tissue}.db \\\n",
    "  --covariance_directory ${input_folder}/${model}_${tissue}.txt.gz \\\n",
    "  --gwas_file ${input_folder}/${trait}.txt.gz \\\n",
    "  --snp_column rsid \\\n",
    "  --effect_allele_column eff_allele \\\n",
    "  --non_effect_allele_column ref_allele \\\n",
    "  --beta_column beta \\\n",
    "  --se_column se \\\n",
    "  --output_file ${output_folder}/${trait}_${model}_${tissue}.csv\n",
    "\n",
    "\n",
    "nohub sos run ~/0324_MR_JTI.ipynb MR \\\n",
    "  --df_path ${example_file_dir}/mrjti_example.txt \\\n",
    "  --n_genes 100 \\\n",
    "  --out_path ${example_file_dir}/mrjti_result.csv\n"
   ]
  },
  {
   "cell_type": "code",
   "execution_count": 36,
   "id": "competitive-glasgow",
   "metadata": {
    "jupyter": {
     "source_hidden": true
    },
    "kernel": "Markdown"
   },
   "outputs": [
    {
     "data": {
      "text/markdown": [
       "## Global Parameter Setting\n"
      ]
     },
     "metadata": {},
     "output_type": "display_data"
    }
   ],
   "source": [
    "## Global Parameter Setting"
   ]
  },
  {
   "cell_type": "code",
   "execution_count": 17,
   "id": "sunset-pendant",
   "metadata": {
    "kernel": "SoS"
   },
   "outputs": [],
   "source": [
    "[global]\n",
    "# path to the working directory\n",
    "parameter: wd = path\n",
    "# path to script where you put software JTI script\n",
    "parameter: script_dir = f'{wd:a}/src'\n",
    "# path to exmpale file \n",
    "parameter: example_file_dir = f'{wd:a}/data'\n",
    "# path to JTI python script\n",
    "parameter: py_script_dir = f'{wd:a}/src/MetaXcan'\n",
    "# path to output file\n",
    "parameter: out_path = f'{wd:a}/result'\n",
    "# path to your local PLINK software\n",
    "parameter: plink_path = path\n",
    "# target tissue name\n",
    "parameter: tissue = \"chr\"\n",
    "# provide the geneid which will be used to locate chromosome position\n",
    "parameter: geneid = \"chr\"\n",
    "# genotype file in PLINK format \n",
    "parameter: genotype_path = f'{wd:a}/jti_example_geno.bed'\n",
    "# expression file\n",
    "parameter: expression_path = f'{wd:a}/jti_example_exp.txt'\n",
    "# path for temperary files, will be clened up after model training\n",
    "parameter: tmp_folder = f'{wd:a}/tmp'\n",
    "# the gene annotation file\n",
    "parameter: gencode_path = f'{wd:a}/gencode.v32.GRCh37.txt'\n",
    "\n",
    "\n",
    "\n",
    "\n",
    "# Get geneid of interest to focus on.\n",
    "geneid = [x.strip().split() for x in open(gencode_path).readlines() if x.strip() and not x.strip().startswith('#')]\n",
    "\n",
    "# NEEDFIX:\n",
    "# molecular_pheno = [x.strip().split() for x in open(molecular_pheno_dir).readlines() if x.strip() and not x.strip().startswith('#')]"
   ]
  },
  {
   "cell_type": "code",
   "execution_count": 29,
   "id": "identical-promise",
   "metadata": {
    "jupyter": {
     "source_hidden": true
    },
    "kernel": "Markdown"
   },
   "outputs": [
    {
     "data": {
      "text/markdown": [
       "## JTI Input\n",
       "\n",
       "* --tissue, target tissue name \n",
       "\n",
       "* --geneid, gene id The ENSG gene ID. Provide the real ENSG gene ID which will be used to find the chromosome and position for the gene.\n",
       "\n",
       "* --genotype_path, Genotype file in plink bfile format '.bed, .bim, .fam', used for data preprocessing in QC, filtering, calculating MAF, call rate, and R-sq,\n",
       "it contains a snp matrix for snp name and family information. The example file here is like: ${genotype_path}.bed/fam/bim\n",
       "\n",
       "      jti_example_geno.bed\n",
       "      jti_example_geno.bim\n",
       "      jti_example_geno.fam\n",
       "\n",
       "* --expression_path, expression data that will be used to normalize and residulize for age, gender, PCs, PEERs, and so on. It contains tissue name, sample id and expression level\n",
       "\n",
       "* --gencode_path, gene annotation file in .txt format, includes each gene's gene id, name, strand and so on. We use the colum 'geneid' as the list to iterate our workflow through all the genes.\n",
       "\n",
       "* --plink_path\n",
       "\n",
       "       Path to plink software. If not specified, you will need to add the path of plink to $PATH in ~/.bash_profile\n"
      ]
     },
     "metadata": {},
     "output_type": "display_data"
    }
   ],
   "source": [
    "## JTI Input\n",
    "\n",
    "* --tissue, target tissue name \n",
    "\n",
    "* --geneid, gene id The ENSG gene ID. Provide the real ENSG gene ID which will be used to find the chromosome and position for the gene.\n",
    "\n",
    "* --genotype_path, Genotype file in plink bfile format '.bed, .bim, .fam', used for data preprocessing in QC, filtering, calculating MAF, call rate, and R-sq,\n",
    "it contains a snp matrix for snp name and family information. The example file here is like: ${genotype_path}.bed/fam/bim\n",
    "\n",
    "      jti_example_geno.bed\n",
    "      jti_example_geno.bim\n",
    "      jti_example_geno.fam\n",
    "\n",
    "* --expression_path, expression data that will be used to normalize and residulize for age, gender, PCs, PEERs, and so on. It contains tissue name, sample id and expression level\n",
    "\n",
    "* --gencode_path, gene annotation file in .txt format, includes each gene's gene id, name, strand and so on. We use the colum 'geneid' as the list to iterate our workflow through all the genes.\n",
    "\n",
    "* --plink_path\n",
    "\n",
    "       Path to plink software. If not specified, you will need to add the path of plink to $PATH in ~/.bash_profile\n"
   ]
  },
  {
   "cell_type": "code",
   "execution_count": 3,
   "id": "special-designer",
   "metadata": {
    "kernel": "SoS"
   },
   "outputs": [],
   "source": [
    "[JTI]\n",
    "input: example_file_dir, for_each = \"geneid\"\n",
    "output: f'{wd:a}/{_geneid[0]}_{tissue}.txt'   #ENSG00000182957_Adipose_Subcutaneous.txt\n",
    "\n",
    "bash: expand = \"{ }\", stderr = f'{_output[1]}.stderr', stdout = f'{_output[1]}.stdout',container = container\n",
    "\n",
    "#-----start-----\n",
    "# ml GCC OpenMPI R\n",
    "# openMPI : multi-progress tool, on CU Cluster\n",
    "\n",
    "    Rscript ${script_dir}/JTI_yutian_debuged.r \\\n",
    "      --tissue=${tissue} \\\n",
    "      --geneid=${geneid} \\              # for_each 'geneid'\n",
    "      --genotype_path=${example_file_dir}/jti_example_geno.bed \\\n",
    "      --expression_path=${example_file_dir}/jti_example_exp.txt \\\n",
    "      --tmp_folder=${tmp_folder} \\\n",
    "      --gencode_path ${example_file_dir}/gencode.v32.GRCh37.txt \\\n",
    "      --plink_path \"${plink_path}/plink\"\\\n",
    "      --out_path ${_output:b}        # :b option: make output file to ${_input[0]}, ${_input[1]} for next step\n"
   ]
  },
  {
   "cell_type": "code",
   "execution_count": 34,
   "id": "attempted-worship",
   "metadata": {
    "jupyter": {
     "source_hidden": true
    },
    "kernel": "Markdown"
   },
   "outputs": [
    {
     "data": {
      "text/markdown": [
       "## AssoTest Input\n",
       "\n",
       "* --db_path, prediciton model, pre-trained and in db format\n",
       "\n",
       "* --snp_cov, snp covariance matrix estimated from a reference dataset (e.g., 1000g, GTEx). The covariance matrix is needed for association test using GWAS summary statistics.\n"
      ]
     },
     "metadata": {},
     "output_type": "display_data"
    }
   ],
   "source": [
    "## AssoTest Input\n",
    "\n",
    "* --db_path, prediciton model, pre-trained and in db format\n",
    "\n",
    "* --snp_cov, snp covariance matrix estimated from a reference dataset (e.g., 1000g, GTEx). The covariance matrix is needed for association test using GWAS summary statistics."
   ]
  },
  {
   "cell_type": "code",
   "execution_count": null,
   "id": "preceding-liver",
   "metadata": {
    "kernel": "Bash"
   },
   "outputs": [],
   "source": [
    "[AssoTest]\n",
    "input: db_path\n",
    "output: '${trait}_${model}_${tissue}.csv'\n",
    "\n",
    "# a pre-downloaded database with prediction models\n",
    "parameter: db_path = path\n",
    "# snp covariance matrix\n",
    "parameter: snp_cov = path\n",
    "# model used in AssoTest\n",
    "parameter: model = 'JTI'\n",
    "# data folder\n",
    "parameter: input_folder = f'{wd:a}/data'\n",
    "\n",
    "R: expand = \"$[ ]\", stderr = f'{_output[0]}.stderr', stdout = f'{_output[0]}.stdout'\n",
    "    #ml GCC/8.2.0  OpenMPI/3.1.4 Intel/2019.1.144  IntelMPI/2018.4.274 R/3.6.0\n",
    "    library(RSQLite)\n",
    "    con <- dbConnect(RSQLite::SQLite(), dbname='${db_path}')             #establish connections\n",
    "    dbListTables(con)  #datasets\n",
    "    dbListFields(con, 'weights')   #cols\n",
    "    weights = dbReadTable(con,\"weights\")\n",
    "    dbDisconnect(con) #disconnect\n",
    "\n",
    "# convert to dosage file\n",
    "bash: expand = \"$[ ]\", stderr = f'{_output[0]}.stderr', stdout = f'{_output[0]}.stdout'\n",
    "    plink --bfile %{genotype_path} --recode A --out ./dosage\n",
    "\n",
    "\n",
    "#association test\n",
    "    #ml GCC/5.4.0-2.26  OpenMPI/1.10.3 pandas/0.18.1-Python-2.7.12 numpy/1.11.1-Python-2.7.12 scipy/0.17.0-Python-2.7.12\n",
    "    ${py_script_dir}/MetaXcan.py \n",
    "        --model_db_path ${input_folder}/${model}_${tissue}.db \\\n",
    "        --covariance_directory ${input_folder}/${model}_${tissue}.txt.gz \\\n",
    "        --gwas_file ${input_folder}/${trait}.txt.gz \\\n",
    "        --snp_column rsid \\\n",
    "        --effect_allele_column eff_allele \\\n",
    "        --non_effect_allele_column ref_allele \\\n",
    "        --beta_column beta \\\n",
    "        --se_column se \\\n",
    "        --output_file ${out_path}/${trait}_${model}_${tissue}.csv\n"
   ]
  },
  {
   "cell_type": "code",
   "execution_count": 35,
   "id": "confused-matter",
   "metadata": {
    "jupyter": {
     "source_hidden": true
    },
    "kernel": "Markdown"
   },
   "outputs": [
    {
     "data": {
      "text/markdown": [
       "## MR Input\n",
       "\n",
       "* -- mrjti_example, The SNP, eQTL and GWAS estimation information\n"
      ]
     },
     "metadata": {},
     "output_type": "display_data"
    }
   ],
   "source": [
    "## MR Input\n",
    "\n",
    "* -- mrjti_example, The SNP, eQTL and GWAS estimation information"
   ]
  },
  {
   "cell_type": "code",
   "execution_count": 22,
   "id": "secure-probe",
   "metadata": {
    "kernel": "SoS"
   },
   "outputs": [],
   "source": [
    "[MR]\n",
    "input: ${example_file_dir}/mrjti_example.txt\n",
    "output: 'mrjti_result.csv'\n",
    "\n",
    "bash: expand = \"$[ ]\", stderr = f'{_output[0]}.stderr', stdout = f'{_output[0]}.stdout'\n",
    "    Rscript ${script_dir}/MR-JTI.r \\\n",
    "        --df_path ${example_file_dir}/mrjti_example.txt \\\n",
    "        --n_genes 100 \\\n",
    "        --out_path ${example_file_dir}/mrjti_result.csv\n",
    "        "
   ]
  }
 ],
 "metadata": {
  "kernelspec": {
   "display_name": "SoS",
   "language": "sos",
   "name": "sos"
  },
  "language_info": {
   "codemirror_mode": "sos",
   "file_extension": ".sos",
   "mimetype": "text/x-sos",
   "name": "sos",
   "nbconvert_exporter": "sos_notebook.converter.SoS_Exporter",
   "pygments_lexer": "sos"
  },
  "sos": {
   "kernels": [
    [
     "Bash",
     "bash",
     "Bash",
     "#E6EEFF",
     "shell"
    ],
    [
     "Markdown",
     "markdown",
     "markdown",
     "",
     "markdown"
    ],
    [
     "SoS",
     "sos",
     "",
     "",
     "sos"
    ]
   ],
   "version": "0.22.4"
  }
 },
 "nbformat": 4,
 "nbformat_minor": 5
}
