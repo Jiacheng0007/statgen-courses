{
 "cells": [
  {
   "cell_type": "markdown",
   "id": "classified-aluminum",
   "metadata": {
    "kernel": "SoS",
    "tags": []
   },
   "source": [
    "# Multivariate TWAS using joint-tissue imputation with Mendelian Randomization\n",
    "\n",
    "Copyrighted © 2021 Guangyou Li and Dan Zhou"
   ]
  },
  {
   "cell_type": "markdown",
   "id": "palestinian-pregnancy",
   "metadata": {
    "kernel": "SoS"
   },
   "source": [
    "This MR-JTI exercise comes from [Eric R. Gamazon's lab](https://github.com/gamazonlab/MR-JTI). It's written in SoS notebook here and uses a pre-build docker image. This notebook shows the workflow for MR-JTI, which utilizes imputation to perform trait prediction according to multi-tissue relationship gene expression. MR-JTI acheives a higher prediction accuracy by leveraging multi-tissue information and also performes Causal Inference on trait and gene expression.\n",
    "\n",
    "> [Zhou, Dan, et al. \"A unified framework for joint-tissue transcriptome-wide association and Mendelian randomization analysis.\" Nature Genetics (2020)](https://www.nature.com/articles/s41588-020-0706-2)\n",
    "\n",
    "> Alvaro N., et al. \"Exploring the phenotypic consequences of tissue specific gene expression variation inferred from GWAS summary statistics.\" Nature communications (2018)\n",
    "\n",
    "> Gamazon, Eric R., et al. \"A gene-based association method for mapping traits using reference transcriptome data.\" Nature genetics (2015)"
   ]
  },
  {
   "cell_type": "markdown",
   "id": "fitted-guard",
   "metadata": {
    "kernel": "SoS"
   },
   "source": [
    "## Analysis outline\n",
    "\n",
    "1. Build multi-tissue gene expression prediction model \n",
    "2. Imputation / prediction of gene expression for each tissue\n",
    "3. Perform association testing with imputed expression for each tissue\n",
    "4. Causal Inference between Trait and imputed Gene Expression\n",
    "\n",
    "## JTI based phenotype prediction\n",
    " \n",
    "### Input\n",
    "\n",
    "* `--tissue`, target tissue name \n",
    "* `--geneid`, gene id The ENSG gene ID. Provide the real ENSG gene ID which will be used to find the chromosome and position for the gene.\n",
    "* `--genotype_path`, Genotype file in plink bfile format `.bed/.bim/.fam`, used for data preprocessing in QC, filtering, calculating MAF, call rate, and R-sq,\n",
    "it contains a snp matrix for snp name and family information. The example file here is like:  {genotype_path}.bed/fam/bim\n",
    "\n",
    "      jti_example_geno.bed\n",
    "      jti_example_geno.bim\n",
    "      jti_example_geno.fam\n",
    "\n",
    "* `--expression_path`, expression data that will be used to normalize and residulize for age, gender, PCs, PEERs, and so on. It contains tissue name, sample id and expression level\n",
    "* `--gencode_path`, gene annotation file in .txt format, includes each gene's gene id, name, strand and so on. We use the colum 'geneid' as the list to iterate our workflow through all the genes.\n",
    "* `--plink_path`, the path to plink software. It's been implanted in the docker image.\n",
    "    \n",
    "### Output\n",
    "\n",
    "The output file (weight file) `{out_path}/{_geneid}_{tissue}.txt`contains the following columns\n",
    "* gene: geneid\n",
    "* rsid: snpid\n",
    "* chr_bp: chromosome_position\n",
    "* ref_allele: reference allele (uncounted allele when generating the dosage file.)\n",
    "* counted_allele: counted_allele (counted allele when generating the dosage file.)\n",
    "* weight: weight for each counted allele\n",
    "* r2: cross-validation r2. The square of the correlation between the predicted and observed expression levels.\n",
    "* p: cross-validation p-value. The significance of the correlation test (correlation between the predicted and observed expression levels)\n",
    "* lambda: The final hyperparameter.\n",
    "\n",
    "## Association testing\n",
    "\n",
    "### Input\n",
    "\n",
    "* `--model_db_path` Path to tissue transriptome model\n",
    "* `--covariance` Path to file containing covariance information. This covariance should have information related to the tissue transcriptome model.\n",
    "* `--gwas_folder` Folder containing GWAS summary statistics data.\n",
    "* `--beta_column` Tells the program the name of a column containing -phenotype beta data for each SNP- in the input GWAS files.\n",
    "* `--pvalue_column `Tells the program the name of a column containing -PValue for each SNP- in the input GWAS files.\n",
    "* `--output_file` Path where results will be saved to.\n",
    "\n",
    "### Output\n",
    "The output file `{out_path}/{trait}_{model}_{tissue}.csv`contains the following columns\n",
    "* gene: a gene's id: as listed in the Tissue Transcriptome model. Ensemble Id for some, while some others (mainly DGN Whole Blood) provide Genquant's gene name\n",
    "* gene_name: gene name as listed by the Transcriptome Model, generally extracted from Genquant\n",
    "* zscore: MetaXcan's association result for the gene\n",
    "* effect_size: MetaXcan's association effect size for the gene\n",
    "* pvalue: P-value of the aforementioned statistic.\n",
    "* pred_perf_r2: R2 of tissue model's correlation to gene's measured transcriptome (prediction performance)\n",
    "* pred_perf_pval: pval of tissue model's correlation to gene's measured transcriptome (prediction performance)\n",
    "* pred_perf_qval: qval of tissue model's correlation to gene's measured transcriptome (prediction performance)\n",
    "* n_snps_used: number of snps from GWAS that got used in MetaXcan analysis\n",
    "* n_snps_in_cov: number of snps in the covariance matrix\n",
    "* n_snps_in_model: number of snps in the model\n",
    "* var_g: variance of the gene expression, calculated as W' * G * W (where W is the vector of SNP weights in a gene's model, W' is its transpose, and G is the covariance matrix)\n",
    "\n",
    "## MR \n",
    "### Input\n",
    "\n",
    "* `--df_path`, Path to dataframe of GWAS and eQTL summary statistics. This input file contains six elements, as listed below (The headers are required)\n",
    "    * rsid: rsid. SNPs need to be clumped (plink --clump) before running MR-JTI. \n",
    "    * effect_allele: The effect allele. Harmonization needs to be performed to make sure the effect alleles of eQTL and GWAS are correctly aligned.\n",
    "    * ldscore: The LD score of each SNP. GCTA could be used to generate LD score based on reference dataset (e.g. 1000g, GTEx). gcta64 --bfile test --ld-score --ld-wind 1000 --ld-rsq-cutoff 0.01 --out test\n",
    "    * eqtl_beta: the marginal effect of SNP. Available on GTEx portal\n",
    "    * eqtl_se: SE of eQTL effect size\n",
    "    * eqtl_p: eQTL p-value\n",
    "    * gwas_beta: GWAS effect size\n",
    "    * gwas_p: GWAS p-value\n",
    "* `--n_genes` Total number of genes tested (Bonferroni correction will be applied). n_genes=1 denotes user requires only nominal significance level (i.e., p<0.05 will be considered as significant). \n",
    "* `--out_path` Output path. \n",
    "\n",
    "### Output\n",
    "The output file `{out_path}/*.csv` contains the following columns\n",
    "* variable: Variables including the gene's effect and the heterogeneity effects\n",
    "* beta: Point estimate of the effect size\n",
    "* beta_CI_lower: Bonferroni adjusted confidence interval (CI), lower\n",
    "* beta_CI_upper: Bonferroni adjusted CI, upper\n",
    "* CI_significance: Significant if the CI does not overlap the null hypothesis (i.e., 0)."
   ]
  },
  {
   "cell_type": "markdown",
   "id": "juvenile-detector",
   "metadata": {
    "kernel": "SoS"
   },
   "source": [
    "## MWE\n",
    "\n",
    "The minimal working example files can be downloaded from [Google Drive](https://drive.google.com/drive/folders/1Yv_wipKz0jP0pd-gEhFBZzO4jU9m-mqs?usp=sharing).\n",
    "In here we assume the folder structure is the same as this link."
   ]
  },
  {
   "cell_type": "markdown",
   "id": "geological-germany",
   "metadata": {
    "kernel": "SoS"
   },
   "source": [
    "## Step 1: Prediction model training (Joint-Tissue Imputation, JTI)"
   ]
  },
  {
   "cell_type": "code",
   "execution_count": 17,
   "id": "innocent-appraisal",
   "metadata": {
    "kernel": "Bash",
    "tags": []
   },
   "outputs": [
    {
     "name": "stdout",
     "output_type": "stream",
     "text": [
      "INFO: Running \u001b[32mJTI\u001b[0m: Part 1 Prediction model training (Joint-Tissue Imputation, JTI)\n",
      "INFO: \u001b[32mJTI\u001b[0m (index=0) is \u001b[32mignored\u001b[0m due to saved signature\n",
      "INFO: \u001b[32mJTI\u001b[0m output:   \u001b[32mresult/ENSG00000182957_Adipose_Subcutaneous.txt\u001b[0m\n",
      "INFO: Workflow JTI (ID=w61fee8a1d90a2377) is ignored with 1 ignored step.\n"
     ]
    }
   ],
   "source": [
    "sos run MR_JTI.ipynb JTI \\\n",
    "    --tissue Adipose_Subcutaneous \\\n",
    "    --geneid ENSG00000182957 \\\n",
    "    --genotype_path data/jti_example_geno \\\n",
    "    --expression_path data/jti_example_exp.txt \\\n",
    "    --gencode_path data/gencode.v32.GRCh37.txt \\\n",
    "    --container \"statisticalgenetics/twas\" \\\n",
    "    --out_path result"
   ]
  },
  {
   "cell_type": "code",
   "execution_count": 11,
   "id": "facial-bankruptcy",
   "metadata": {
    "kernel": "Bash"
   },
   "outputs": [
    {
     "name": "stdout",
     "output_type": "stream",
     "text": [
      "gene\trsid\tchr_bp\tref_allele\tcounted_allele\tweight\tr2\tp\tlambda\n",
      "ENSG00000182957\trs73455777\t13_24879413\tT\tA\t-0.280248818627714\t0.147611877506574\t4.06941769922718e-16\t0.153641011307056\n",
      "ENSG00000182957\trs73455781\t13_24884598\tT\tC\t-0.108027909059419\t0.147611877506574\t4.06941769922718e-16\t0.153641011307056\n",
      "ENSG00000182957\trs9507302\t13_24893568\tC\tT\t-0.0520308509795799\t0.147611877506574\t4.06941769922718e-16\t0.153641011307056\n",
      "ENSG00000182957\trs56314653\t13_24962979\tT\tC\t-0.0154395733291027\t0.147611877506574\t4.06941769922718e-16\t0.153641011307056\n"
     ]
    }
   ],
   "source": [
    "head result/ENSG00000182957_Liver.txt"
   ]
  },
  {
   "cell_type": "markdown",
   "id": "reserved-bacon",
   "metadata": {
    "kernel": "Bash"
   },
   "source": [
    "## Step 2: Association test"
   ]
  },
  {
   "cell_type": "code",
   "execution_count": 14,
   "id": "missing-weekend",
   "metadata": {
    "kernel": "Bash"
   },
   "outputs": [
    {
     "name": "stdout",
     "output_type": "stream",
     "text": [
      "INFO: Running \u001b[32massociation\u001b[0m: Part 2 Association test\n",
      "HINT: Pulling docker image statisticalgenetics/twas\n",
      "HINT: Docker image statisticalgenetics/twas is now up to date\n",
      "INFO: \u001b[32massociation\u001b[0m is \u001b[32mcompleted\u001b[0m.\n",
      "INFO: \u001b[32massociation\u001b[0m output:   \u001b[32mresult/LDLq_JTI_Liver.csv\u001b[0m\n",
      "INFO: Workflow association (ID=wcb65c2b94acb7707) is executed successfully with 1 completed step.\n"
     ]
    }
   ],
   "source": [
    "sos run MR_JTI.ipynb association \\\n",
    "    --db_path data/JTI_Liver.db \\\n",
    "    --genotype_path data/jti_example_geno \\\n",
    "    --input_folder data \\\n",
    "    --container \"statisticalgenetics/twas\" \\\n",
    "    --out_path result"
   ]
  },
  {
   "cell_type": "code",
   "execution_count": 15,
   "id": "direct-resort",
   "metadata": {
    "kernel": "Bash"
   },
   "outputs": [
    {
     "name": "stdout",
     "output_type": "stream",
     "text": [
      "gene,gene_name,zscore,effect_size,pvalue,var_g,pred_perf_r2,pred_perf_pval,pred_perf_qval,n_snps_used,n_snps_in_cov,n_snps_in_model\n",
      "ENSG00000143126,CELSR2,-42.30416059384626,-0.13424459985966838,0.0,0.26893507546188206,0.38689762880709166,1.1569946316677617e-23,7.149017436823504e-22,5,5,5\n",
      "ENSG00000187244,BCAM,45.713683456250074,0.4493915104248329,0.0,0.030827889220000557,0.034484524780590185,0.0072429262005854625,0.022196934693451447,6,7,7\n",
      "ENSG00000134243,SORT1,-41.97254744508827,-0.5058718693908261,0.0,0.018351693484898984,0.5584770598624752,1.9930967434199894e-38,6.85552803491261e-36,4,4,4\n",
      "ENSG00000134222,PSRC1,-42.4925634626502,-0.125248472285708,0.0,0.3173165322628121,0.423336551426874,2.0106974450869275e-26,1.5849322610897707e-24,8,8,8\n",
      "ENSG00000105726,ATP13A1,-21.520920063766447,-0.44611033803918193,9.917490808077277e-103,0.006385253790336975,0.05160172865637287,0.0009680533861656873,0.0038874196475233436,3,3,3\n",
      "ENSG00000122008,POLK,18.347020954415058,0.22066026893028257,3.4871522660161197e-75,0.019355314315270735,0.034972344068140426,0.00683597088909186,0.021141555873768158,7,7,7\n",
      "ENSG00000186567,CEACAM19,17.70665169014706,0.10370418111131482,3.725880711723654e-70,0.0759048155964607,0.13826321966104405,3.2029260053069247e-08,3.2385330929126887e-07,9,11,11\n",
      "ENSG00000253111,AC091114.1,17.211398887473596,0.17204619404777824,2.1809909956149448e-66,0.027805847416957182,0.04891103122503061,0.0013263567411393716,0.005123685161191854,6,6,6\n",
      "ENSG00000130202,NECTIN2,15.66917625951104,0.04795247098717582,2.457436355394101e-55,0.2769125336859511,0.506517452360611,1.9822855220634258e-33,3.6058536063842205e-31,16,17,17\n"
     ]
    }
   ],
   "source": [
    "head result/LDLq_JTI_Liver.csv"
   ]
  },
  {
   "cell_type": "markdown",
   "id": "protective-insertion",
   "metadata": {
    "kernel": "Bash"
   },
   "source": [
    "## Step 3: Mendelian Randomization (MR-JTI)"
   ]
  },
  {
   "cell_type": "code",
   "execution_count": 18,
   "id": "assumed-lyric",
   "metadata": {
    "kernel": "Bash"
   },
   "outputs": [
    {
     "name": "stdout",
     "output_type": "stream",
     "text": [
      "INFO: Running \u001b[32mMR\u001b[0m: Part 3 Mendelian Randomization (MR-JTI)\n",
      "HINT: Pulling docker image statisticalgenetics/twas\n",
      "HINT: Docker image statisticalgenetics/twas is now up to date\n",
      "INFO: \u001b[32mMR\u001b[0m is \u001b[32mcompleted\u001b[0m.\n",
      "INFO: \u001b[32mMR\u001b[0m output:   \u001b[32mresult/mrjti_example.csv\u001b[0m\n",
      "INFO: Workflow MR (ID=w1f80581b365d8b45) is executed successfully with 1 completed step.\n"
     ]
    }
   ],
   "source": [
    "sos run MR_JTI.ipynb MR \\\n",
    "  --df_path data/mrjti_example.txt \\\n",
    "  --n_genes 1 \\\n",
    "  --out_path result"
   ]
  },
  {
   "cell_type": "code",
   "execution_count": 19,
   "id": "integral-romantic",
   "metadata": {
    "kernel": "Bash"
   },
   "outputs": [
    {
     "name": "stdout",
     "output_type": "stream",
     "text": [
      "variable,beta,beta_CI_lower,beta_CI_upper,CI_significance\n",
      "expression,-0.710254392485374,-0.824646380720042,-0.602677624454241,sig\n",
      "ldsc,-0.060532183500575,-0.165689662168061,0.0518012673488733,nonsig\n",
      "rs3902354,0,0,0,nonsig\n",
      "rs68104325,0,0,0,nonsig\n",
      "rs585362,0,0,0,nonsig\n",
      "rs17035665,0,0,0,nonsig\n",
      "rs651649,0,0,0,nonsig\n",
      "rs6677122,0,0,0,nonsig\n",
      "rs4970835,0,0,0,nonsig\n"
     ]
    }
   ],
   "source": [
    "head result/mrjti_example.csv"
   ]
  },
  {
   "cell_type": "markdown",
   "id": "radio-vintage",
   "metadata": {
    "kernel": "Bash"
   },
   "source": [
    "## Workflow implementation"
   ]
  },
  {
   "cell_type": "code",
   "execution_count": null,
   "id": "aquatic-scale",
   "metadata": {
    "kernel": "SoS"
   },
   "outputs": [],
   "source": [
    "[global]\n",
    "# path to the working directory\n",
    "parameter: cwd = path(\".\")\n",
    "cwd = f\"{cwd:a}\" \n",
    "# path to output file\n",
    "parameter: out_path = path\n",
    "# container \n",
    "parameter: container = \"statisticalgenetics/twas\""
   ]
  },
  {
   "cell_type": "code",
   "execution_count": null,
   "id": "international-catholic",
   "metadata": {
    "kernel": "SoS"
   },
   "outputs": [],
   "source": [
    "# Part 1 Prediction model training (Joint-Tissue Imputation, JTI)\n",
    "[JTI]\n",
    "# target tissue name\n",
    "parameter: tissue = str\n",
    "# expression file\n",
    "parameter: expression_path = path\n",
    "# path for temperary files, will be clened up after model training\n",
    "parameter: tmp_folder = f'{cwd}/tmp'\n",
    "# genotype file in PLINK format \n",
    "parameter: genotype_path = path\n",
    "# provide the geneid of interest to focus on\n",
    "parameter: geneid = []\n",
    "# the gene annotation file\n",
    "parameter: gencode_path = path\n",
    "# To get all the geneid in the list, use this option for geneid\n",
    "## It would take a long time to run the whole list and not all genes have snps\n",
    "# import pandas as pd\n",
    "# n = 5 \n",
    "# geneid = pd.read_csv(gencode_path,header=0,sep=\"\\t\")[\"geneid\"].to_list()[:5]\n",
    "input: for_each = \"geneid\"\n",
    "output: f'{out_path}/{_geneid}_{tissue}.txt'  \n",
    "bash: expand = \"${ }\", stderr = f'{_output:n}.stderr', stdout = f'{_output:n}.stdout',container = container \n",
    "    Rscript /opt/MR_JTI/JTI.r \\\n",
    "      --tissue ${tissue} \\\n",
    "      --geneid ${_geneid} \\\n",
    "      --genotype_path ${genotype_path} \\\n",
    "      --expression_path ${expression_path} \\\n",
    "      --tmp_folder ${tmp_folder} \\\n",
    "      --gencode_path ${gencode_path} \\\n",
    "      --out_path ${out_path} "
   ]
  },
  {
   "cell_type": "code",
   "execution_count": null,
   "id": "tracked-syria",
   "metadata": {
    "kernel": "SoS"
   },
   "outputs": [],
   "source": [
    "# Part 2 Association test\n",
    "[association]\n",
    "# a pre-downloaded database with prediction models\n",
    "parameter: db_path = path\n",
    "# genotype file in PLINK format \n",
    "parameter: genotype_path = path\n",
    "# model used in AssoTest\n",
    "parameter: model = 'JTI'\n",
    "parameter: trait = 'LDLq'\n",
    "parameter: tissue = 'Liver'\n",
    "# data folder\n",
    "parameter: input_folder = f'{cwd}/data'\n",
    "input: db_path\n",
    "output: f'{out_path}/{trait}_{model}_{tissue}.csv'\n",
    "R: expand = \"${ }\", stderr = f'{_output:n}.stderr', stdout = f'{_output:n}.stdout',container = container\n",
    "    # Prediction model includes the genetic variants and their effect allele, reference allele, and weight. It usually packaged into SQLitle file with postfix ‘.db’.\n",
    "    library(RSQLite)\n",
    "    con <- dbConnect(RSQLite::SQLite(), dbname='${db_path}')             #establish connections\n",
    "    dbListTables(con)  #datasets\n",
    "    dbListFields(con, 'weights')   #cols\n",
    "    weights = dbReadTable(con,\"weights\")\n",
    "    dbDisconnect(con) #disconnect\n",
    "\n",
    "# convert to dosage file\n",
    "bash: expand = \"${ }\", stderr = f'{_output:n}.stderr', stdout = f'{_output:n}.stdout',container = container\n",
    "    plink --bfile ${genotype_path} --recode A --out ${out_path}/dosage\n",
    "    MetaXcan.py \\\n",
    "        --model_db_path ${input_folder}/${model}_${tissue}.db \\\n",
    "        --covariance ${input_folder}/${model}_${tissue}.txt.gz \\\n",
    "        --gwas_file ${input_folder}/${trait}.txt.gz \\\n",
    "        --snp_column rsid \\\n",
    "        --effect_allele_column eff_allele \\\n",
    "        --non_effect_allele_column ref_allele \\\n",
    "        --beta_column beta \\\n",
    "        --se_column se \\\n",
    "        --output_file ${out_path}/${trait}_${model}_${tissue}.csv"
   ]
  },
  {
   "cell_type": "code",
   "execution_count": 11,
   "id": "super-campus",
   "metadata": {
    "kernel": "SoS"
   },
   "outputs": [],
   "source": [
    "# Part 3 Mendelian Randomization (MR-JTI)\n",
    "[MR]\n",
    "# Path to dataframe of GWAS and eQTL summary statistics \n",
    "parameter: df_path = path\n",
    "# Total number of genes tested \n",
    "parameter: n_genes = int\n",
    "input: f\"{df_path}\"\n",
    "output: f\"{out_path}/{df_path:nb}.csv\"\n",
    "bash: expand = \"${ }\", stderr = f'{_output:n}.stderr', stdout = f'{_output:n}.stdout',container = container\n",
    "    Rscript  /opt/MR_JTI/MR-JTI.r \\\n",
    "        --df_path ${df_path} \\\n",
    "        --n_genes ${n_genes} \\\n",
    "        --out_path ${_output}"
   ]
  }
 ],
 "metadata": {
  "kernelspec": {
   "display_name": "SoS",
   "language": "sos",
   "name": "sos"
  },
  "language_info": {
   "codemirror_mode": "sos",
   "file_extension": ".sos",
   "mimetype": "text/x-sos",
   "name": "sos",
   "nbconvert_exporter": "sos_notebook.converter.SoS_Exporter",
   "pygments_lexer": "sos"
  },
  "sos": {
   "kernels": [
    [
     "Bash",
     "bash",
     "Bash",
     "#E6EEFF",
     "shell"
    ],
    [
     "Python3",
     "python3",
     "Python3",
     "#FFD91A",
     ""
    ],
    [
     "SoS",
     "sos",
     "",
     "",
     "sos"
    ]
   ],
   "version": "0.22.4"
  }
 },
 "nbformat": 4,
 "nbformat_minor": 5
}
