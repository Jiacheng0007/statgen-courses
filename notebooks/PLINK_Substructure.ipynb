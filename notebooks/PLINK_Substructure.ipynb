{
 "cells": [
  {
   "cell_type": "markdown",
   "metadata": {
    "kernel": "SoS"
   },
   "source": [
    "# Genome-Wide Association Exercise Association Analysis Controlling for Population Substructure\n",
    "\n",
    "Copyrighted © 2021 Merry-Lynn N. McDonald, Isabelle Schrauwen & Suzanne M. Leal"
   ]
  },
  {
   "cell_type": "markdown",
   "metadata": {
    "kernel": "SoS"
   },
   "source": [
    "## 1. Population Stratification and Association Testing"
   ]
  },
  {
   "cell_type": "markdown",
   "metadata": {
    "kernel": "SoS"
   },
   "source": [
    "The dataset from part I of this exercise which you performed data quality control (QC) on was obtained from HapMap Phase III data. It contains CEU founders (Caucasians from Utah), MEX founders (Mexicans from Los Angeles) and TSI (Tuscans from Italy). The CEU pedigree identifiers begin with only numbers e.g., 1347, the MEX pedigree identifies all start with M e.g., M017 and the TSI pedigree identifiers all start with NA e.g., NA0217. Before we start testing for association, we want to know if there are outliers. Even after removing the outliers when association analysis is performed population substructure and admixture may need to be controlled. If not, we risk observing an association, which is due to a difference in genotype frequencies in cases and controls, because of population substructure/admixture and not because of linkage disequilibrium (LD) between tagSNP(s) and the functional variant(s). We are going to use multidimensional scaling (MDS) and principal components analysis (PCA) within the PLINK software to generate 10 components. \n",
    "\n",
    "**Disclaimer: You usually should not analyze data from European-Americans, Mexican- Americans and Italians together even if you control for population stratification. They can be analyzed separately, and the data combined using meta-analysis.**\n",
    "\n",
    "**Note:** For a GWAS study instead of this toy study, you will have a denser set of markers of which some will be in LD. You should first prune your SNPs to obtain a subset in linkage equilibrium/weak LD (R2<0.5) prior to performing MDS or PCA analysis on the data. Although for association analysis is performed on the entire data set will be analyzed only this a subset of SNPs which are not in LD will be used to construct PCA and MDS components. For more information on how to do this in PLINK see https://www.cog-genomics.org/plink/1.9/ld."
   ]
  },
  {
   "cell_type": "code",
   "execution_count": 1,
   "metadata": {
    "kernel": "Bash"
   },
   "outputs": [],
   "source": [
    "cd ~/work/Plink_substructure"
   ]
  },
  {
   "cell_type": "code",
   "execution_count": 2,
   "metadata": {
    "kernel": "Bash"
   },
   "outputs": [
    {
     "name": "stdout",
     "output_type": "stream",
     "text": [
      "PLINK v1.90b6.18 64-bit (16 Jun 2020)          www.cog-genomics.org/plink/1.9/\n",
      "(C) 2005-2020 Shaun Purcell, Christopher Chang   GNU General Public License v3\n",
      "Logging to plink.log.\n",
      "Options in effect:\n",
      "  --cluster\n",
      "  --file GWAS_clean4\n",
      "  --genome\n",
      "  --mds-plot 10\n",
      "\n",
      "7960 MB RAM detected; reserving 3980 MB for main workspace.\n",
      ".ped scan complete (for binary autoconversion).51515161617171818181919202020212122222223232424242525262627272728282929293030313131323233333434343535363636373738383839394040404141424243434344444545454646474747484849494950505151525252535354545455555656565757585859595960606161616262636363646465656566666767686868696970707071717272727373747474757576767777777878797979808081818182828383848484858586868687878888888989909090919192929393939494959595969697979798989999100%\n",
      "Performing single-pass .bed write (6362 variants, 244 people).\n",
      "--file: plink-temporary.bed + plink-temporary.bim + plink-temporary.fam546474849505152535455565758596061626364656667686970717273747576777879808182838485868788899091929394%\n",
      "written.\n",
      "6362 variants loaded from .bim file.\n",
      "244 people (123 males, 121 females) loaded from .fam.\n",
      "Using up to 4 threads (change this with --threads).\n",
      "Before main variant filters, 244 founders and 0 nonfounders present.\n",
      "Calculating allele frequencies... 10111213141516171819202122232425262728293031323334353637383940414243444546474849505152535455565758596061626364656667686970717273747576777879808182838485868788899091929394959697989 done.\n",
      "Warning: 6 het. haploid genotypes present (see plink.hh ); many commands treat\n",
      "these as missing.\n",
      "Total genotyping rate is 0.997229.\n",
      "6362 variants and 244 people pass filters and QC.\n",
      "Note: No phenotypes present.\n",
      "Excluding 186 variants on non-autosomes from IBD calculation.\n",
      "IBD calculations complete.  \n",
      "Finished writing plink.genome .\n",
      "Clustering... done.                        \n",
      "Cluster solution written to plink.cluster1 , plink.cluster2 , and82930313233343536373839404142434445464748495051525354555657585960616263646566676869707172737475767778798081828384858687888990919293949596979899100%\n",
      "plink.cluster3 .\n",
      "Performing multidimensional scaling analysis (SVD algorithm, 10\n",
      "dimensions)... done.\n",
      "MDS solution written to plink.mds .\n"
     ]
    }
   ],
   "source": [
    "plink --file GWAS_clean4 --genome --cluster --mds-plot 10"
   ]
  },
  {
   "cell_type": "markdown",
   "metadata": {
    "kernel": "SoS"
   },
   "source": [
    "This command outputs the file `plink.mds` that contains the subject IDs and values for the 10 components we just generated. There is another file in your folder called `mds_components.txt`. This file is identical to your `plink.mds` file with the exception that a group column which codes CEU individuals as 1, MEX individuals as 2 and TSI individuals as 3. This is done so when we plot the MDS components in R you can see which group the points belong to and judge how well does the data cluster, e.g., are there outliers. The following commands will generate a jpeg image file containing the mds `plot (filename=mds.jpeg)` in your current working directory. Open R and use the following command:"
   ]
  },
  {
   "cell_type": "code",
   "execution_count": 3,
   "metadata": {
    "kernel": "R"
   },
   "outputs": [],
   "source": [
    "setwd('Plink_substructure/')"
   ]
  },
  {
   "cell_type": "code",
   "execution_count": 6,
   "metadata": {
    "kernel": "R"
   },
   "outputs": [
    {
     "data": {
      "text/html": [
       "<strong>null device:</strong> 1"
      ],
      "text/latex": [
       "\\textbf{null device:} 1"
      ],
      "text/markdown": [
       "**null device:** 1"
      ],
      "text/plain": [
       "null device \n",
       "          1 "
      ]
     },
     "metadata": {},
     "output_type": "display_data"
    },
    {
     "data": {
      "image/png": "[encoded data removed]",
      "text/plain": [
       "plot without title"
      ]
     },
     "metadata": {
      "image/png": {
       "height": 420,
       "width": 420
      },
      "text/plain": {
       "height": 420,
       "width": 420
      }
     },
     "output_type": "display_data"
    }
   ],
   "source": [
    "mydata = read.table(\"mds_components.txt\", header=T)\n",
    "mydata$pch[mydata$Group==1 ] <-15 \n",
    "mydata$pch[mydata$Group==2 ] <-16 \n",
    "mydata$pch[mydata$Group==3 ] <-2\n",
    "#jpeg(\"mds.jpeg\", height=500, width=500) \n",
    "plot(mydata$C1, mydata$C2 ,pch=mydata$pch) \n",
    "dev.off()"
   ]
  },
  {
   "cell_type": "markdown",
   "metadata": {
    "kernel": "SoS"
   },
   "source": [
    "Visualizing population structure using MDS is useful for identifying subpopulations, population stratification and systematic genotyping or sequencing errors, and can also be used to detect individual outliers that may need to be removed, e.g. European-Americans included in a study of African-Americans. MDS coordinates help with visualizing genetic distances and population substructure. PLINK also offers another dimension reduction, --pca, for PCA, the PC components which can also be used for visualizing data to detect outliers in the same manner which was performed using MDS. Additionally, covariates either from either MDS or PCA can be used in a regression model to aid in correcting for population substructure and admixture.\n",
    "\n",
    "We will now continue performing the analysis using PLINK but will use PCA instead of MDS. We will generate PCs and determine how many PC covariates should be included in the regression model. When SNPs are tested for an association with a trait analysis can be performed, first by including no PC components, then one PC component and then two PC components and so on. Please note that as each PC component is added all the SNPs are analyzed, e.g. a complete GWAS is performed. Examining λ can aid in determining how many PC components should be included in the analysis. If there is no population stratification or other biases, then λ should equal 1 or ~1. We will use λ to determine how many PC components from our analysis will be added to the logistic regression model. First, estimate λ without adjusting for any PC components:"
   ]
  },
  {
   "cell_type": "code",
   "execution_count": 8,
   "metadata": {
    "kernel": "Bash"
   },
   "outputs": [
    {
     "name": "stdout",
     "output_type": "stream",
     "text": [
      "PLINK v1.90b6.18 64-bit (16 Jun 2020)          www.cog-genomics.org/plink/1.9/\n",
      "(C) 2005-2020 Shaun Purcell, Christopher Chang   GNU General Public License v3\n",
      "Logging to unadj.log.\n",
      "Options in effect:\n",
      "  --adjust\n",
      "  --file GWAS_clean4\n",
      "  --logistic\n",
      "  --out unadj\n",
      "  --pheno pheno.txt\n",
      "  --pheno-name Aff\n",
      "\n",
      "7960 MB RAM detected; reserving 3980 MB for main workspace.\n",
      ".ped scan complete (for binary autoconversion).51515161617171818181919202020212122222223232424242525262627272728282929293030313131323233333434343535363636373738383839394040404141424243434344444545454646474747484849494950505151525252535354545455555656565757585859595960606161616262636363646465656566666767686868696970707071717272727373747474757576767777777878797979808081818182828383848484858586868687878888888989909090919192929393939494959595969697979798989999100%\n",
      "Performing single-pass .bed write (6362 variants, 244 people).\n",
      "--file: unadj-temporary.bed + unadj-temporary.bim + unadj-temporary.fam546474849505152535455565758596061626364656667686970717273747576777879808182838485868788899091929394%\n",
      "written.\n",
      "6362 variants loaded from .bim file.\n",
      "244 people (123 males, 121 females) loaded from .fam.\n",
      "244 phenotype values present after --pheno.\n",
      "Using 1 thread (no multithreaded calculations invoked).\n",
      "Before main variant filters, 244 founders and 0 nonfounders present.\n",
      "Calculating allele frequencies... 10111213141516171819202122232425262728293031323334353637383940414243444546474849505152535455565758596061626364656667686970717273747576777879808182838485868788899091929394959697989 done.\n",
      "Warning: 6 het. haploid genotypes present (see unadj.hh ); many commands treat\n",
      "these as missing.\n",
      "Total genotyping rate is 0.997229.\n",
      "6362 variants and 244 people pass filters and QC.\n",
      "Among remaining phenotypes, 87 are cases and 157 are controls.\n",
      "Writing logistic model association results to unadj.assoc.logistic ... 1515222834414652566166717578818487899194959799done.\n",
      "--adjust: Genomic inflation est. lambda (based on median chisq) = 1.12068.\n",
      "101112131415161718192021222324252627282930313233343536373839404142434445464748495051525354555657585960616263646566676869707172737475767778798081828384858687888990919293949596979899--adjust values (6346 variants) written to unadj.assoc.logistic.adjusted .\n"
     ]
    }
   ],
   "source": [
    "plink --file GWAS_clean4 --pheno pheno.txt --pheno-name Aff --logistic --adjust --out unadj"
   ]
  },
  {
   "cell_type": "markdown",
   "metadata": {
    "kernel": "SoS"
   },
   "source": [
    "Generated the first 10 PCA values:"
   ]
  },
  {
   "cell_type": "code",
   "execution_count": 9,
   "metadata": {
    "kernel": "Bash"
   },
   "outputs": [
    {
     "name": "stdout",
     "output_type": "stream",
     "text": [
      "PLINK v1.90b6.18 64-bit (16 Jun 2020)          www.cog-genomics.org/plink/1.9/\n",
      "(C) 2005-2020 Shaun Purcell, Christopher Chang   GNU General Public License v3\n",
      "Logging to plink.log.\n",
      "Options in effect:\n",
      "  --cluster\n",
      "  --file GWAS_clean4\n",
      "  --genome\n",
      "  --pca 10 header\n",
      "\n",
      "7960 MB RAM detected; reserving 3980 MB for main workspace.\n",
      ".ped scan complete (for binary autoconversion).51515161617171818181919202020212122222223232424242525262627272728282929293030313131323233333434343535363636373738383839394040404141424243434344444545454646474747484849494950505151525252535354545455555656565757585859595960606161616262636363646465656566666767686868696970707071717272727373747474757576767777777878797979808081818182828383848484858586868687878888888989909090919192929393939494959595969697979798989999100%\n",
      "Performing single-pass .bed write (6362 variants, 244 people).\n",
      "--file: plink-temporary.bed + plink-temporary.bim + plink-temporary.fam546474849505152535455565758596061626364656667686970717273747576777879808182838485868788899091929394%\n",
      "written.\n",
      "6362 variants loaded from .bim file.\n",
      "244 people (123 males, 121 females) loaded from .fam.\n",
      "Using up to 4 threads (change this with --threads).\n",
      "Before main variant filters, 244 founders and 0 nonfounders present.\n",
      "Calculating allele frequencies... 10111213141516171819202122232425262728293031323334353637383940414243444546474849505152535455565758596061626364656667686970717273747576777879808182838485868788899091929394959697989 done.\n",
      "Warning: 6 het. haploid genotypes present (see plink.hh ); many commands treat\n",
      "these as missing.\n",
      "Total genotyping rate is 0.997229.\n",
      "6362 variants and 244 people pass filters and QC.\n",
      "Note: No phenotypes present.\n",
      "Excluding 186 variants on non-autosomes from relationship matrix calc.\n",
      "Relationship matrix calculation complete.\n",
      "--pca: Results saved to plink.eigenval and plink.eigenvec .\n",
      "Excluding 186 variants on non-autosomes from IBD calculation.\n",
      "IBD calculations complete.  \n",
      "Finished writing plink.genome .\n",
      "Clustering... done.                        \n",
      "Cluster solution written to plink.cluster1 , plink.cluster2 , and82930313233343536373839404142434445464748495051525354555657585960616263646566676869707172737475767778798081828384858687888990919293949596979899100%\n",
      "plink.cluster3 .\n"
     ]
    }
   ],
   "source": [
    "plink --file GWAS_clean4 --genome --cluster --pca 10 header"
   ]
  },
  {
   "cell_type": "markdown",
   "metadata": {
    "kernel": "SoS"
   },
   "source": [
    "Eigenvectors are written to plink.eigenvec, and top eigenvalues are written to plink.eigenval. The 'header' modifier adds a header line to the .eigenvec file(s).\n",
    "And then find out what λ is when we adjust for the first component:"
   ]
  },
  {
   "cell_type": "code",
   "execution_count": 10,
   "metadata": {
    "kernel": "Bash"
   },
   "outputs": [
    {
     "name": "stdout",
     "output_type": "stream",
     "text": [
      "PLINK v1.90b6.18 64-bit (16 Jun 2020)          www.cog-genomics.org/plink/1.9/\n",
      "(C) 2005-2020 Shaun Purcell, Christopher Chang   GNU General Public License v3\n",
      "Logging to PC1.log.\n",
      "Options in effect:\n",
      "  --adjust\n",
      "  --covar plink.eigenvec\n",
      "  --covar-name PC1\n",
      "  --file GWAS_clean4\n",
      "  --logistic\n",
      "  --out PC1\n",
      "  --pheno pheno.txt\n",
      "  --pheno-name Aff\n",
      "\n",
      "7960 MB RAM detected; reserving 3980 MB for main workspace.\n",
      ".ped scan complete (for binary autoconversion).51515161617171818181919202020212122222223232424242525262627272728282929293030313131323233333434343535363636373738383839394040404141424243434344444545454646474747484849494950505151525252535354545455555656565757585859595960606161616262636363646465656566666767686868696970707071717272727373747474757576767777777878797979808081818182828383848484858586868687878888888989909090919192929393939494959595969697979798989999100%\n",
      "Performing single-pass .bed write (6362 variants, 244 people).\n",
      "--file: PC1-temporary.bed + PC1-temporary.bim + PC1-temporary.fam written.474849505152535455565758596061626364656667686970717273747576777879808182838485868788899091929394%\n",
      "6362 variants loaded from .bim file.\n",
      "244 people (123 males, 121 females) loaded from .fam.\n",
      "244 phenotype values present after --pheno.\n",
      "Using 1 thread (no multithreaded calculations invoked).\n",
      "--covar: 1 out of 10 covariates loaded.\n",
      "Before main variant filters, 244 founders and 0 nonfounders present.\n",
      "Calculating allele frequencies... 10111213141516171819202122232425262728293031323334353637383940414243444546474849505152535455565758596061626364656667686970717273747576777879808182838485868788899091929394959697989 done.\n",
      "Warning: 6 het. haploid genotypes present (see PC1.hh ); many commands treat\n",
      "these as missing.\n",
      "Total genotyping rate is 0.997229.\n",
      "6362 variants and 244 people pass filters and QC.\n",
      "Among remaining phenotypes, 87 are cases and 157 are controls.\n",
      "Writing logistic model association results to PC1.assoc.logistic ... 1515222834414652566166717578818487899194959799done.\n",
      "--adjust: Genomic inflation est. lambda (based on median chisq) = 1.08462.\n",
      "101112131415161718192021222324252627282930313233343536373839404142434445464748495051525354555657585960616263646566676869707172737475767778798081828384858687888990919293949596979899--adjust values (6346 variants) written to PC1.assoc.logistic.adjusted .\n"
     ]
    }
   ],
   "source": [
    "plink --file GWAS_clean4 --pheno pheno.txt --pheno-name Aff --covar plink.eigenvec --covar-name PC1 --logistic --adjust --out PC1"
   ]
  },
  {
   "cell_type": "markdown",
   "metadata": {
    "kernel": "SoS"
   },
   "source": [
    "And the first and second components:"
   ]
  },
  {
   "cell_type": "code",
   "execution_count": 11,
   "metadata": {
    "kernel": "Bash"
   },
   "outputs": [
    {
     "name": "stdout",
     "output_type": "stream",
     "text": [
      "PLINK v1.90b6.18 64-bit (16 Jun 2020)          www.cog-genomics.org/plink/1.9/\n",
      "(C) 2005-2020 Shaun Purcell, Christopher Chang   GNU General Public License v3\n",
      "Logging to PC1-PC2.log.\n",
      "Options in effect:\n",
      "  --adjust\n",
      "  --covar plink.eigenvec\n",
      "  --covar-name PC1-PC2\n",
      "  --file GWAS_clean4\n",
      "  --logistic\n",
      "  --out PC1-PC2\n",
      "  --pheno pheno.txt\n",
      "  --pheno-name Aff\n",
      "\n",
      "7960 MB RAM detected; reserving 3980 MB for main workspace.\n",
      ".ped scan complete (for binary autoconversion).51515161617171818181919202020212122222223232424242525262627272728282929293030313131323233333434343535363636373738383839394040404141424243434344444545454646474747484849494950505151525252535354545455555656565757585859595960606161616262636363646465656566666767686868696970707071717272727373747474757576767777777878797979808081818182828383848484858586868687878888888989909090919192929393939494959595969697979798989999100%\n",
      "Performing single-pass .bed write (6362 variants, 244 people).\n",
      "--file: PC1-PC2-temporary.bed + PC1-PC2-temporary.bim + PC1-PC2-temporary.fam849505152535455565758596061626364656667686970717273747576777879808182838485868788899091929394%\n",
      "written.\n",
      "6362 variants loaded from .bim file.\n",
      "244 people (123 males, 121 females) loaded from .fam.\n",
      "244 phenotype values present after --pheno.\n",
      "Using 1 thread (no multithreaded calculations invoked).\n",
      "--covar: 2 out of 10 covariates loaded.\n",
      "Before main variant filters, 244 founders and 0 nonfounders present.\n",
      "Calculating allele frequencies... 10111213141516171819202122232425262728293031323334353637383940414243444546474849505152535455565758596061626364656667686970717273747576777879808182838485868788899091929394959697989 done.\n",
      "Warning: 6 het. haploid genotypes present (see PC1-PC2.hh ); many commands\n",
      "treat these as missing.\n",
      "Total genotyping rate is 0.997229.\n",
      "6362 variants and 244 people pass filters and QC.\n",
      "Among remaining phenotypes, 87 are cases and 157 are controls.\n",
      "Writing logistic model association results to PC1-PC2.assoc.logistic ... 1515222834414652566166717578818487899194959799done.\n",
      "--adjust: Genomic inflation est. lambda (based on median chisq) = 1.02628.\n",
      "101112131415161718192021222324252627282930313233343536373839404142434445464748495051525354555657585960616263646566676869707172737475767778798081828384858687888990919293949596979899--adjust values (6346 variants) written to PC1-PC2.assoc.logistic.adjusted .\n"
     ]
    }
   ],
   "source": [
    "plink --file GWAS_clean4 --pheno pheno.txt --pheno-name Aff --covar plink.eigenvec --covar-name PC1-PC2 --logistic --adjust --out PC1-PC2"
   ]
  },
  {
   "cell_type": "markdown",
   "metadata": {
    "kernel": "SoS"
   },
   "source": [
    "and so forth for all 10 components in the .log file completing the table:"
   ]
  },
  {
   "cell_type": "markdown",
   "metadata": {
    "kernel": "SoS"
   },
   "source": [
    "The number closest to 1.0, with the least number of PC components, would be the best for adjusting without overfitting and introducing unnecessary noise. You can check your table against the one provided in the answers section.\n",
    "\n",
    "Go to the **`assoc.logistic` file that corresponds to that number of components** and make a note of how you named the `.assoc.logistic` file for it and when you did not adjust for any components. Then go back to the R program to load the results and create a jpeg image file containing QQ plots for the adjusted and unadjusted results (using a modified script from http://www.broad.mit.edu/node/555) as follows:\n"
   ]
  },
  {
   "cell_type": "code",
   "execution_count": 15,
   "metadata": {
    "kernel": "R",
    "tags": []
   },
   "outputs": [
    {
     "data": {
      "text/html": [
       "<strong>null device:</strong> 1"
      ],
      "text/latex": [
       "\\textbf{null device:} 1"
      ],
      "text/markdown": [
       "**null device:** 1"
      ],
      "text/plain": [
       "null device \n",
       "          1 "
      ]
     },
     "metadata": {},
     "output_type": "display_data"
    },
    {
     "data": {
      "image/png": "[encoded data removed]",
      "text/plain": [
       "Plot with title “Some Trait Adjusted for PC1 and PC2”"
      ]
     },
     "metadata": {
      "image/png": {
       "height": 420,
       "width": 420
      },
      "text/plain": {
       "height": 420,
       "width": 420
      }
     },
     "output_type": "display_data"
    }
   ],
   "source": [
    "broadqq <-function(pvals, title) {\n",
    "    observed <- sort(pvals) \n",
    "    lobs <- -(log10(observed))\n",
    "    expected <- c(1:length(observed))\n",
    "    lexp <- -(log10(expected / (length(expected)+1)))\n",
    "    plot(c(0,7), c(0,7), col=\"red\", lwd=3, type=\"l\", xlab=\"Expected (-logP)\", ylab=\"Observed (-logP)\",\n",
    "         xlim=c(0,max(lobs)), ylim=c(0,max(lobs)), las=1, xaxs=\"i\", yaxs=\"i\", bty=\"l\", main = title)\n",
    "    points(lexp, lobs, pch=23, cex=.4, bg=\"black\") \n",
    "}\n",
    "#jpeg(\"qqplot_compare.jpeg\", height=1000, width=500) \n",
    "par(mfrow=c(2,1))\n",
    "aff_unadj<-read.table(\"unadj.assoc.logistic\", header=TRUE) \n",
    "aff_unadj.add.p<-aff_unadj[aff_unadj$TEST==c(\"ADD\"),]$P \n",
    "broadqq(aff_unadj.add.p,\"Some Trait Unadjusted\") \n",
    "aff_C1C2<-read.table(\"PC1-PC2.assoc.logistic\", header=TRUE) \n",
    "aff_C1C2.add.p<-aff_C1C2[aff_C1C2$TEST==c(\"ADD\"),]$P \n",
    "broadqq(aff_C1C2.add.p, \"Some Trait Adjusted for PC1 and PC2\")\n",
    "dev.off()"
   ]
  },
  {
   "cell_type": "markdown",
   "metadata": {
    "kernel": "R"
   },
   "source": [
    "Now look for SNPs with genome-wide significance using the following R connamds:"
   ]
  },
  {
   "cell_type": "code",
   "execution_count": 16,
   "metadata": {
    "kernel": "R"
   },
   "outputs": [
    {
     "data": {
      "text/html": [
       "<table>\n",
       "<caption>A data.frame: 2 × 9</caption>\n",
       "<thead>\n",
       "\t<tr><th></th><th scope=col>CHR</th><th scope=col>SNP</th><th scope=col>BP</th><th scope=col>A1</th><th scope=col>TEST</th><th scope=col>NMISS</th><th scope=col>OR</th><th scope=col>STAT</th><th scope=col>P</th></tr>\n",
       "\t<tr><th></th><th scope=col>&lt;int&gt;</th><th scope=col>&lt;fct&gt;</th><th scope=col>&lt;int&gt;</th><th scope=col>&lt;fct&gt;</th><th scope=col>&lt;fct&gt;</th><th scope=col>&lt;int&gt;</th><th scope=col>&lt;dbl&gt;</th><th scope=col>&lt;dbl&gt;</th><th scope=col>&lt;dbl&gt;</th></tr>\n",
       "</thead>\n",
       "<tbody>\n",
       "\t<tr><th scope=row>1800</th><td>4</td><td>rs10008252</td><td>179853616</td><td>G</td><td>ADD</td><td>244</td><td>0.16650</td><td>-6.639</td><td>3.155e-11</td></tr>\n",
       "\t<tr><th scope=row>3131</th><td>8</td><td>rs4571722 </td><td> 60326734</td><td>T</td><td>ADD</td><td>242</td><td>0.04126</td><td>-7.436</td><td>1.037e-13</td></tr>\n",
       "</tbody>\n",
       "</table>\n"
      ],
      "text/latex": [
       "A data.frame: 2 × 9\n",
       "\\begin{tabular}{r|lllllllll}\n",
       "  & CHR & SNP & BP & A1 & TEST & NMISS & OR & STAT & P\\\\\n",
       "  & <int> & <fct> & <int> & <fct> & <fct> & <int> & <dbl> & <dbl> & <dbl>\\\\\n",
       "\\hline\n",
       "\t1800 & 4 & rs10008252 & 179853616 & G & ADD & 244 & 0.16650 & -6.639 & 3.155e-11\\\\\n",
       "\t3131 & 8 & rs4571722  &  60326734 & T & ADD & 242 & 0.04126 & -7.436 & 1.037e-13\\\\\n",
       "\\end{tabular}\n"
      ],
      "text/markdown": [
       "\n",
       "A data.frame: 2 × 9\n",
       "\n",
       "| <!--/--> | CHR &lt;int&gt; | SNP &lt;fct&gt; | BP &lt;int&gt; | A1 &lt;fct&gt; | TEST &lt;fct&gt; | NMISS &lt;int&gt; | OR &lt;dbl&gt; | STAT &lt;dbl&gt; | P &lt;dbl&gt; |\n",
       "|---|---|---|---|---|---|---|---|---|---|\n",
       "| 1800 | 4 | rs10008252 | 179853616 | G | ADD | 244 | 0.16650 | -6.639 | 3.155e-11 |\n",
       "| 3131 | 8 | rs4571722  |  60326734 | T | ADD | 242 | 0.04126 | -7.436 | 1.037e-13 |\n",
       "\n"
      ],
      "text/plain": [
       "     CHR SNP        BP        A1 TEST NMISS OR      STAT   P        \n",
       "1800 4   rs10008252 179853616 G  ADD  244   0.16650 -6.639 3.155e-11\n",
       "3131 8   rs4571722   60326734 T  ADD  242   0.04126 -7.436 1.037e-13"
      ]
     },
     "metadata": {},
     "output_type": "display_data"
    },
    {
     "data": {
      "text/html": [
       "<table>\n",
       "<caption>A data.frame: 2 × 9</caption>\n",
       "<thead>\n",
       "\t<tr><th></th><th scope=col>CHR</th><th scope=col>SNP</th><th scope=col>BP</th><th scope=col>A1</th><th scope=col>TEST</th><th scope=col>NMISS</th><th scope=col>OR</th><th scope=col>STAT</th><th scope=col>P</th></tr>\n",
       "\t<tr><th></th><th scope=col>&lt;int&gt;</th><th scope=col>&lt;fct&gt;</th><th scope=col>&lt;int&gt;</th><th scope=col>&lt;fct&gt;</th><th scope=col>&lt;fct&gt;</th><th scope=col>&lt;int&gt;</th><th scope=col>&lt;dbl&gt;</th><th scope=col>&lt;dbl&gt;</th><th scope=col>&lt;dbl&gt;</th></tr>\n",
       "</thead>\n",
       "<tbody>\n",
       "\t<tr><th scope=row>5398</th><td>4</td><td>rs10008252</td><td>179853616</td><td>G</td><td>ADD</td><td>244</td><td>0.13070</td><td>-6.707</td><td>1.985e-11</td></tr>\n",
       "\t<tr><th scope=row>9391</th><td>8</td><td>rs4571722 </td><td> 60326734</td><td>T</td><td>ADD</td><td>242</td><td>0.04382</td><td>-7.237</td><td>4.585e-13</td></tr>\n",
       "</tbody>\n",
       "</table>\n"
      ],
      "text/latex": [
       "A data.frame: 2 × 9\n",
       "\\begin{tabular}{r|lllllllll}\n",
       "  & CHR & SNP & BP & A1 & TEST & NMISS & OR & STAT & P\\\\\n",
       "  & <int> & <fct> & <int> & <fct> & <fct> & <int> & <dbl> & <dbl> & <dbl>\\\\\n",
       "\\hline\n",
       "\t5398 & 4 & rs10008252 & 179853616 & G & ADD & 244 & 0.13070 & -6.707 & 1.985e-11\\\\\n",
       "\t9391 & 8 & rs4571722  &  60326734 & T & ADD & 242 & 0.04382 & -7.237 & 4.585e-13\\\\\n",
       "\\end{tabular}\n"
      ],
      "text/markdown": [
       "\n",
       "A data.frame: 2 × 9\n",
       "\n",
       "| <!--/--> | CHR &lt;int&gt; | SNP &lt;fct&gt; | BP &lt;int&gt; | A1 &lt;fct&gt; | TEST &lt;fct&gt; | NMISS &lt;int&gt; | OR &lt;dbl&gt; | STAT &lt;dbl&gt; | P &lt;dbl&gt; |\n",
       "|---|---|---|---|---|---|---|---|---|---|\n",
       "| 5398 | 4 | rs10008252 | 179853616 | G | ADD | 244 | 0.13070 | -6.707 | 1.985e-11 |\n",
       "| 9391 | 8 | rs4571722  |  60326734 | T | ADD | 242 | 0.04382 | -7.237 | 4.585e-13 |\n",
       "\n"
      ],
      "text/plain": [
       "     CHR SNP        BP        A1 TEST NMISS OR      STAT   P        \n",
       "5398 4   rs10008252 179853616 G  ADD  244   0.13070 -6.707 1.985e-11\n",
       "9391 8   rs4571722   60326734 T  ADD  242   0.04382 -7.237 4.585e-13"
      ]
     },
     "metadata": {},
     "output_type": "display_data"
    }
   ],
   "source": [
    "gws_unadj = aff_unadj[which(aff_unadj$P < 0.0000001),] \n",
    "gws_unadj\n",
    "gws_adjusted = aff_C1C2[which(aff_C1C2$P < 0.0000001),] \n",
    "gws_adjusted"
   ]
  },
  {
   "cell_type": "markdown",
   "metadata": {
    "kernel": "R"
   },
   "source": [
    "**Note:** These are the uncorrected p-values for multiple testing. The p-values which have been corrected using various multiple testing methods can be found in the .adjusted file."
   ]
  },
  {
   "cell_type": "markdown",
   "metadata": {
    "kernel": "R"
   },
   "source": [
    "A common question when you have a finding with genome-wide significance in a GWAS is “Is the SNP in a known gene?” One way to look this information up is annotate variants in batch (please look at the annotating exercise for more information). You can do this using the Ensembl Variant Predictor. Go to the website:\n",
    "\n",
    "http://grch37.ensembl.org/Homo_sapiens/Tools/VEP (GRCh37 version)\n",
    "\n",
    "Type the rs number(s) of the SNP(s) with genome-wide significance in “Either paste data”, leave all options default and press run. In a few minutes you can view the results of your query."
   ]
  },
  {
   "cell_type": "markdown",
   "metadata": {
    "kernel": "R"
   },
   "source": [
    "## 2. Questions"
   ]
  },
  {
   "cell_type": "markdown",
   "metadata": {
    "kernel": "R"
   },
   "source": [
    "**Question 1:** Did this study have a finding with genome-wide significance after adjusting for population substructure? Did you notice any difference in the p-values before and after adjustment for substructure? How many PC components should you include in the regression model?"
   ]
  },
  {
   "cell_type": "markdown",
   "metadata": {
    "kernel": "R"
   },
   "source": [
    "**Question 2:** Why would you not want to include in your analysis individuals from different ethnic backgrounds even if you control for population substructure?"
   ]
  },
  {
   "cell_type": "markdown",
   "metadata": {
    "kernel": "R"
   },
   "source": [
    "**Question 3:** Are any SNPs with genome-wide significance in known genes?"
   ]
  },
  {
   "cell_type": "markdown",
   "metadata": {
    "kernel": "R"
   },
   "source": [
    "## 3. Answers"
   ]
  },
  {
   "cell_type": "markdown",
   "metadata": {
    "kernel": "R"
   },
   "source": [
    "**Answer 1:** Yes, see tables below. It is best to include to two PC components in the analysis, however the lambda is still inflated. Since we are analyzing three unique populations inclusion of PCs did not adequately control for substructure. If you compare the QQ plots below you can see that for this dataset the most significant SNPs were changed minimally when we adjusted for substructure but some of the moderately significant SNPs became less significant after adjustment. However, in some situations the p-values can become smaller."
   ]
  },
  {
   "cell_type": "markdown",
   "metadata": {
    "kernel": "R"
   },
   "source": [
    "**Answer 2:** Firstly, you may not be able to adequately control for population substructure. Secondly, even if within the different populations the same genes are involved, for common variants LD structure can vary between populations, e.g., the tagSNPs in the different populations can have different allele frequencies, therefore the functional variant will not be tagged equally well in all populations and power can be reduced. It is also possible that different variants are associated, but for common variants, which are very old, usually this is not the cause. If a study involves individuals of different ancestry analysis can be performed separately and the results can be combined via meta-analysis. Studying individuals of different ancestry can be highly beneficial to fine map loci."
   ]
  },
  {
   "cell_type": "markdown",
   "metadata": {
    "kernel": "R"
   },
   "source": [
    "**Answer 3:** No, both rs457122 and rs10008252 are intergenic/intronic."
   ]
  },
  {
   "cell_type": "code",
   "execution_count": null,
   "metadata": {
    "kernel": "R"
   },
   "outputs": [],
   "source": []
  }
 ],
 "metadata": {
  "kernelspec": {
   "display_name": "SoS",
   "language": "sos",
   "name": "sos"
  },
  "language_info": {
   "codemirror_mode": "sos",
   "file_extension": ".sos",
   "mimetype": "text/x-sos",
   "name": "sos",
   "nbconvert_exporter": "sos_notebook.converter.SoS_Exporter",
   "pygments_lexer": "sos"
  },
  "sos": {
   "kernels": [
    [
     "Bash",
     "bash",
     "Bash",
     "#E6EEFF",
     "shell"
    ],
    [
     "R",
     "ir",
     "R",
     "#DCDCDA",
     "r"
    ]
   ],
   "version": "0.21.7"
  }
 },
 "nbformat": 4,
 "nbformat_minor": 4
}
