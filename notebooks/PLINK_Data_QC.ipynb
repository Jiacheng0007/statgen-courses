{
 "cells": [
  {
   "cell_type": "markdown",
   "metadata": {
    "kernel": "SoS"
   },
   "source": [
    "# Genome-wide Association Analysis - Data Quality Control\n",
    "\n",
    "Copyright © 2021 Merry-Lynn McDonald, Isabelle Schrauwen & Suzanne M. Leal"
   ]
  },
  {
   "cell_type": "markdown",
   "metadata": {
    "kernel": "SoS"
   },
   "source": [
    "## Introduction\n",
    "In this exercise, you will learn how to perform data quality control (QC) by removing markers and samples that fail QC quality control criteria. You will also examine your samples for individuals that are related to each other and/or are duplicate samples. Each sample will also be tested for excess homozygosity and heterozygosity of genotype data. Each SNP will be tested for deviations from Hardy-Weinberg Equilibrium. These exercises will be carried out using PLINK1.9 and R."
   ]
  },
  {
   "cell_type": "markdown",
   "metadata": {
    "kernel": "SoS"
   },
   "source": [
    "## 1. Using PLINK\n",
    "PLINK can upload data in different formats please see the PLINK documentation (https://www.cog-genomics.org/plink/1.9/input) for additional details. The data for this exercise is in PLINK/LINKAGE file format. There are two files: a pedfile (`GWAS.ped`) and a map file (`GWAS.map`). Please examine these files and the PLINK documentation. Please note the commands must be given in the directory where the data residues.\n",
    "Navigate via the command prompt to the directory which contains the files for the exercise. Type plink in the command prompt and make note of the output. Next type:"
   ]
  },
  {
   "cell_type": "code",
   "execution_count": 1,
   "metadata": {
    "kernel": "Bash"
   },
   "outputs": [],
   "source": [
    "cd ~/work/Plink_DataQC"
   ]
  },
  {
   "cell_type": "code",
   "execution_count": 2,
   "metadata": {
    "kernel": "Bash"
   },
   "outputs": [
    {
     "name": "stdout",
     "output_type": "stream",
     "text": [
      "PLINK v1.90b6.18 64-bit (16 Jun 2020)          www.cog-genomics.org/plink/1.9/\n",
      "(C) 2005-2020 Shaun Purcell, Christopher Chang   GNU General Public License v3\n",
      "Logging to plink.log.\n",
      "Options in effect:\n",
      "  --file GWAS\n",
      "\n",
      "7960 MB RAM detected; reserving 3980 MB for main workspace.\n",
      ".ped scan complete (for binary autoconversion).4151516161617171818181919202020212122222223232424242525262627272728282929293030313131323233333334343535353636373737383839393940404141414242434343444445454546464747474848494949505051515252525353545454555556565657575858585959606060616162626263636464646565666666676768686869697070707171727272737374747475757676777777787879797980808181818282838383848485858586868787878888898989909091919192929393939494959595969697979798989999100%\n",
      "Performing single-pass .bed write (6424 variants, 248 people).\n",
      "--file: plink.bed + plink.bim + plink.fam written.353637383940414243444546474849505152535455565758596061626364656667686970717273747576777879808182838485868788899091929394%\n"
     ]
    }
   ],
   "source": [
    "plink --file GWAS"
   ]
  },
  {
   "cell_type": "markdown",
   "metadata": {
    "kernel": "SoS"
   },
   "source": [
    "Note, that PLINK outputs a file called plink.log that contains the same output which you see on the screen. To see all options, type plink `--help` for more information. Determine how many samples there are in your data set and fill in Oval 1 of the flowchart below."
   ]
  },
  {
   "cell_type": "markdown",
   "metadata": {
    "kernel": "SoS"
   },
   "source": [
    "## 2. Data Quality Control"
   ]
  },
  {
   "cell_type": "markdown",
   "metadata": {
    "kernel": "SoS"
   },
   "source": [
    "### a. Removing Samples and SNPs with Missing Genotypes.\n",
    "You will exclude samples that are missing more than 10% of their genotype calls. These samples are likely to have been generated using low quality DNA and can also have higher than average genotyping error rates."
   ]
  },
  {
   "cell_type": "code",
   "execution_count": 3,
   "metadata": {
    "kernel": "Bash"
   },
   "outputs": [
    {
     "name": "stdout",
     "output_type": "stream",
     "text": [
      "PLINK v1.90b6.18 64-bit (16 Jun 2020)          www.cog-genomics.org/plink/1.9/\n",
      "(C) 2005-2020 Shaun Purcell, Christopher Chang   GNU General Public License v3\n",
      "Logging to GWAS_clean_mind.log.\n",
      "Options in effect:\n",
      "  --file GWAS\n",
      "  --mind 0.10\n",
      "  --out GWAS_clean_mind\n",
      "  --recode\n",
      "\n",
      "7960 MB RAM detected; reserving 3980 MB for main workspace.\n",
      ".ped scan complete (for binary autoconversion).4151516161617171818181919202020212122222223232424242525262627272728282929293030313131323233333334343535353636373737383839393940404141414242434343444445454546464747474848494949505051515252525353545454555556565657575858585959606060616162626263636464646565666666676768686869697070707171727272737374747475757676777777787879797980808181818282838383848485858586868787878888898989909091919192929393939494959595969697979798989999100%\n",
      "Performing single-pass .bed write (6424 variants, 248 people).\n",
      "--file: GWAS_clean_mind-temporary.bed + GWAS_clean_mind-temporary.bim +546474849505152535455565758596061626364656667686970717273747576777879808182838485868788899091929394%\n",
      "GWAS_clean_mind-temporary.fam written.\n",
      "6424 variants loaded from .bim file.\n",
      "248 people (125 males, 123 females) loaded from .fam.\n",
      "1 person removed due to missing genotype data (--mind).\n",
      "ID written to GWAS_clean_mind.irem .\n",
      "Using 1 thread (no multithreaded calculations invoked).\n",
      "Before main variant filters, 247 founders and 0 nonfounders present.\n",
      "Calculating allele frequencies... 10111213141516171819202122232425262728293031323334353637383940414243444546474849505152535455565758596061626364656667686970717273747576777879808182838485868788899091929394959697989 done.\n",
      "Warning: 6 het. haploid genotypes present (see GWAS_clean_mind.hh ); many\n",
      "commands treat these as missing.\n",
      "Total genotyping rate in remaining samples is 0.996863.\n",
      "6424 variants and 247 people pass filters and QC.\n",
      "Note: No phenotypes present.\n",
      "--recode ped to GWAS_clean_mind.ped + GWAS_clean_mind.map ... 101112131415161718192021222324252627282930313233343536373839404142434445464748495051525354555657585960616263646566676869707172737475767778798081828384858687888990919293949596979899done.\n"
     ]
    }
   ],
   "source": [
    "plink --file GWAS --mind 0.10 --recode --out GWAS_clean_mind"
   ]
  },
  {
   "cell_type": "markdown",
   "metadata": {
    "kernel": "SoS"
   },
   "source": [
    "Examine `GWAS_clean_mind.log` to see how many samples are excluded based on this criterion and fill in Box 1."
   ]
  },
  {
   "cell_type": "markdown",
   "metadata": {
    "kernel": "SoS"
   },
   "source": [
    "Create two versions of your dataset, one with SNPs with a minor allele frequencies (MAFs) >5% and the other with SNPs with a MAFs <5%.\n",
    "\n",
    "You will now remove SNPs with MAFs>5% that are missing >5% of their genotypes and then remove SNPs with MAFs<5% that are missing >1% of their genotypes. SNPs which are missing genotypes can have higher error rates than those SNP markers without missing data."
   ]
  },
  {
   "cell_type": "code",
   "execution_count": 4,
   "metadata": {
    "kernel": "Bash"
   },
   "outputs": [
    {
     "name": "stdout",
     "output_type": "stream",
     "text": [
      "PLINK v1.90b6.18 64-bit (16 Jun 2020)          www.cog-genomics.org/plink/1.9/\n",
      "(C) 2005-2020 Shaun Purcell, Christopher Chang   GNU General Public License v3\n",
      "Logging to MAF_greater_5.log.\n",
      "Options in effect:\n",
      "  --file GWAS_clean_mind\n",
      "  --maf 0.05\n",
      "  --out MAF_greater_5\n",
      "  --recode\n",
      "\n",
      "7960 MB RAM detected; reserving 3980 MB for main workspace.\n",
      ".ped scan complete (for binary autoconversion).41515161617171718181919192020212121222223232324242525252626272727282829292930303131313232333334343435353636363737383838393940404041414242424343444444454546464647474848484949505051515152525353535454555555565657575758585959596060616161626263636364646565656666676768686869697070707171727272737374747475757676767777787878797980808081818282828383848485858586868787878888898989909091919192929393939494959595969697979798989999100%\n",
      "Performing single-pass .bed write (6424 variants, 247 people).\n",
      "--file: MAF_greater_5-temporary.bed + MAF_greater_5-temporary.bim +3444546474849505152535455565758596061626364656667686970717273747576777879808182838485868788899091929394%\n",
      "MAF_greater_5-temporary.fam written.\n",
      "6424 variants loaded from .bim file.\n",
      "247 people (125 males, 122 females) loaded from .fam.\n",
      "Using 1 thread (no multithreaded calculations invoked).\n",
      "Before main variant filters, 247 founders and 0 nonfounders present.\n",
      "Calculating allele frequencies... 10111213141516171819202122232425262728293031323334353637383940414243444546474849505152535455565758596061626364656667686970717273747576777879808182838485868788899091929394959697989 done.\n",
      "Warning: 6 het. haploid genotypes present (see MAF_greater_5.hh ); many\n",
      "commands treat these as missing.\n",
      "Total genotyping rate is 0.996863.\n",
      "556 variants removed due to minor allele threshold(s)\n",
      "(--maf/--max-maf/--mac/--max-mac).\n",
      "5868 variants and 247 people pass filters and QC.\n",
      "Note: No phenotypes present.\n",
      "--recode ped to MAF_greater_5.ped + MAF_greater_5.map ... 101112131415161718192021222324252627282930313233343536373839404142434445464748495051525354555657585960616263646566676869707172737475767778798081828384858687888990919293949596979899done.\n",
      "PLINK v1.90b6.18 64-bit (16 Jun 2020)          www.cog-genomics.org/plink/1.9/\n",
      "(C) 2005-2020 Shaun Purcell, Christopher Chang   GNU General Public License v3\n",
      "Logging to MAF_less_5.log.\n",
      "Options in effect:\n",
      "  --exclude MAF_greater_5.map\n",
      "  --file GWAS_clean_mind\n",
      "  --out MAF_less_5\n",
      "  --recode\n",
      "\n",
      "7960 MB RAM detected; reserving 3980 MB for main workspace.\n",
      ".ped scan complete (for binary autoconversion).41515161617171718181919192020212121222223232324242525252626272727282829292930303131313232333334343435353636363737383838393940404041414242424343444444454546464647474848484949505051515152525353535454555555565657575758585959596060616161626263636364646565656666676768686869697070707171727272737374747475757676767777787878797980808081818282828383848485858586868787878888898989909091919192929393939494959595969697979798989999100%\n",
      "Performing single-pass .bed write (6424 variants, 247 people).\n",
      "--file: MAF_less_5-temporary.bed + MAF_less_5-temporary.bim +0414243444546474849505152535455565758596061626364656667686970717273747576777879808182838485868788899091929394%\n",
      "MAF_less_5-temporary.fam written.\n",
      "6424 variants loaded from .bim file.\n",
      "247 people (125 males, 122 females) loaded from .fam.\n",
      "--exclude: 556 variants remaining.\n",
      "Using 1 thread (no multithreaded calculations invoked).\n",
      "Before main variant filters, 247 founders and 0 nonfounders present.\n",
      "Calculating allele frequencies... 10111213141516171819202122232425262728293031323334353637383940414243444546474849505152535455565758596061626364656667686970717273747576777879808182838485868788899091929394959697989 done.\n",
      "Total genotyping rate is 0.996913.\n",
      "556 variants and 247 people pass filters and QC.\n",
      "Note: No phenotypes present.\n",
      "--recode ped to MAF_less_5.ped + MAF_less_5.map ... 101112131415161718192021222324252627282930313233343536373839404142434445464748495051525354555657585960616263646566676869707172737475767778798081828384858687888990919293949596979899done.\n",
      "PLINK v1.90b6.18 64-bit (16 Jun 2020)          www.cog-genomics.org/plink/1.9/\n",
      "(C) 2005-2020 Shaun Purcell, Christopher Chang   GNU General Public License v3\n",
      "Logging to MAF_greater_5_clean.log.\n",
      "Options in effect:\n",
      "  --file MAF_greater_5\n",
      "  --geno 0.05\n",
      "  --out MAF_greater_5_clean\n",
      "  --recode\n",
      "\n",
      "7960 MB RAM detected; reserving 3980 MB for main workspace.\n",
      ".ped scan complete (for binary autoconversion).41515161617171718181919192020212121222223232324242525252626272727282829292930303131313232333334343435353636363737383838393940404041414242424343444444454546464647474848484949505051515152525353535454555555565657575758585959596060616161626263636364646565656666676768686869697070707171727272737374747475757676767777787878797980808081818282828383848485858586868787878888898989909091919192929393939494959595969697979798989999100%\n",
      "Performing single-pass .bed write (5868 variants, 247 people).\n",
      "--file: MAF_greater_5_clean-temporary.bed + MAF_greater_5_clean-temporary.bim +9505152535455565758596061626364656667686970717273747576777879808182838485868788899091929394%\n",
      "MAF_greater_5_clean-temporary.fam written.\n",
      "5868 variants loaded from .bim file.\n",
      "247 people (125 males, 122 females) loaded from .fam.\n",
      "Using 1 thread (no multithreaded calculations invoked).\n",
      "Before main variant filters, 247 founders and 0 nonfounders present.\n",
      "Calculating allele frequencies... 10111213141516171819202122232425262728293031323334353637383940414243444546474849505152535455565758596061626364656667686970717273747576777879808182838485868788899091929394959697989 done.\n",
      "Warning: 6 het. haploid genotypes present (see MAF_greater_5_clean.hh ); many\n",
      "commands treat these as missing.\n",
      "Total genotyping rate is 0.996858.\n",
      "2 variants removed due to missing genotype data (--geno).\n",
      "5866 variants and 247 people pass filters and QC.\n",
      "Note: No phenotypes present.\n",
      "--recode ped to MAF_greater_5_clean.ped + MAF_greater_5_clean.map ... 101112131415161718192021222324252627282930313233343536373839404142434445464748495051525354555657585960616263646566676869707172737475767778798081828384858687888990919293949596979899done.\n"
     ]
    }
   ],
   "source": [
    "plink --file GWAS_clean_mind --maf 0.05 --recode --out MAF_greater_5\n",
    "plink --file GWAS_clean_mind --exclude MAF_greater_5.map --recode --out MAF_less_5\n",
    "plink --file MAF_greater_5 --geno 0.05 --recode --out MAF_greater_5_clean"
   ]
  },
  {
   "cell_type": "markdown",
   "metadata": {
    "kernel": "SoS",
    "tags": []
   },
   "source": [
    "Fill in Box 2a."
   ]
  },
  {
   "cell_type": "code",
   "execution_count": 5,
   "metadata": {
    "kernel": "Bash",
    "tags": []
   },
   "outputs": [
    {
     "name": "stdout",
     "output_type": "stream",
     "text": [
      "PLINK v1.90b6.18 64-bit (16 Jun 2020)          www.cog-genomics.org/plink/1.9/\n",
      "(C) 2005-2020 Shaun Purcell, Christopher Chang   GNU General Public License v3\n",
      "Logging to MAF_less_5_clean.log.\n",
      "Options in effect:\n",
      "  --file MAF_less_5\n",
      "  --geno 0.01\n",
      "  --out MAF_less_5_clean\n",
      "  --recode\n",
      "\n",
      "7960 MB RAM detected; reserving 3980 MB for main workspace.\n",
      ".ped scan complete (for binary autoconversion).41515161616171718181919192020212121222223232324242525252626272727282829292930303131313232333333343435353636363737383838393940404041414242424343444444454546464647474848484949505050515152525353535454555555565657575758585959596060616161626263636364646565656666676767686869697070707171727272737374747475757676767777787878797980808081818282828383848485858586868787878888898989909091919192929393939494959595969697979798989999100%\n",
      "Performing single-pass .bed write (556 variants, 247 people).\n",
      "--file: MAF_less_5_clean-temporary.bed + MAF_less_5_clean-temporary.bim +6474849505152535455565758596061626364656667686970717273747576777879808182838485868788899091929394%\n",
      "MAF_less_5_clean-temporary.fam written.\n",
      "556 variants loaded from .bim file.\n",
      "247 people (125 males, 122 females) loaded from .fam.\n",
      "Using 1 thread (no multithreaded calculations invoked).\n",
      "Before main variant filters, 247 founders and 0 nonfounders present.\n",
      "Calculating allele frequencies... 10111213141516171819202122232425262728293031323334353637383940414243444546474849505152535455565758596061626364656667686970717273747576777879808182838485868788899091929394959697989 done.\n",
      "Total genotyping rate is 0.996913.\n",
      "59 variants removed due to missing genotype data (--geno).\n",
      "497 variants and 247 people pass filters and QC.\n",
      "Note: No phenotypes present.\n",
      "--recode ped to MAF_less_5_clean.ped + MAF_less_5_clean.map ... 101112131415161718192021222324252627282930313233343536373839404142434445464748495051525354555657585960616263646566676869707172737475767778798081828384858687888990919293949596979899done.\n"
     ]
    }
   ],
   "source": [
    "plink --file MAF_less_5 --geno 0.01 --recode --out MAF_less_5_clean"
   ]
  },
  {
   "cell_type": "markdown",
   "metadata": {
    "kernel": "SoS",
    "tags": []
   },
   "source": [
    "Fill in Box 2b. Merge the two files."
   ]
  },
  {
   "cell_type": "code",
   "execution_count": 6,
   "metadata": {
    "kernel": "Bash",
    "tags": []
   },
   "outputs": [
    {
     "name": "stdout",
     "output_type": "stream",
     "text": [
      "PLINK v1.90b6.18 64-bit (16 Jun 2020)          www.cog-genomics.org/plink/1.9/\n",
      "(C) 2005-2020 Shaun Purcell, Christopher Chang   GNU General Public License v3\n",
      "Logging to GWAS_MAF_clean.log.\n",
      "Options in effect:\n",
      "  --file MAF_greater_5_clean\n",
      "  --merge MAF_less_5_clean.ped MAF_less_5_clean.map\n",
      "  --out GWAS_MAF_clean\n",
      "  --recode\n",
      "\n",
      "7960 MB RAM detected; reserving 3980 MB for main workspace.\n",
      ".ped scan complete (for binary autoconversion).41515161617171718181919192020212121222223232324242525252626272727282829292930303131313232333334343435353636363737383838393940404041414242424343444444454546464647474848484949505051515152525353535454555555565657575758585959596060616161626263636364646565656666676768686869697070707171727272737374747475757676767777787878797980808081818282828383848485858586868787878888898989909091919192929393939494959595969697979798989999100%\n",
      "Performing single-pass .bed write (5866 variants, 247 people).\n",
      "--file: GWAS_MAF_clean-temporary.bed + GWAS_MAF_clean-temporary.bim +44546474849505152535455565758596061626364656667686970717273747576777879808182838485868788899091929394%\n",
      "GWAS_MAF_clean-temporary.fam written.\n",
      "247 people loaded from GWAS_MAF_clean-temporary.fam.\n",
      "247 people to be merged from MAF_less_5_clean.ped.\n",
      "Of these, 0 are new, while 247 are present in the base dataset.\n",
      "5866 markers loaded from GWAS_MAF_clean-temporary.bim.\n",
      "497 markers to be merged from MAF_less_5_clean.map.\n",
      "Of these, 497 are new, while 0 are present in the base dataset.\n",
      "Performing single-pass merge (247 people, 6363 variants).\n",
      "Merged fileset written to GWAS_MAF_clean.bed + GWAS_MAF_clean.bim +\n",
      "GWAS_MAF_clean.fam .\n",
      "6363 variants loaded from .bim file.\n",
      "247 people (125 males, 122 females) loaded from .fam.\n",
      "Using 1 thread (no multithreaded calculations invoked).\n",
      "Before main variant filters, 247 founders and 0 nonfounders present.\n",
      "Calculating allele frequencies... 10111213141516171819202122232425262728293031323334353637383940414243444546474849505152535455565758596061626364656667686970717273747576777879808182838485868788899091929394959697989 done.\n",
      "Warning: 6 het. haploid genotypes present (see GWAS_MAF_clean.hh ); many\n",
      "commands treat these as missing.\n",
      "Total genotyping rate is 0.99716.\n",
      "6363 variants and 247 people pass filters and QC.\n",
      "Note: No phenotypes present.\n",
      "--recode ped to GWAS_MAF_clean.ped + GWAS_MAF_clean.map ... 101112131415161718192021222324252627282930313233343536373839404142434445464748495051525354555657585960616263646566676869707172737475767778798081828384858687888990919293949596979899done.\n"
     ]
    }
   ],
   "source": [
    "plink --file MAF_greater_5_clean --merge MAF_less_5_clean.ped MAF_less_5_clean.map --recode --out GWAS_MAF_clean"
   ]
  },
  {
   "cell_type": "markdown",
   "metadata": {
    "kernel": "SoS",
    "tags": []
   },
   "source": [
    "A more stringent criterion for missing data is used, samples missing >3% of their genotypes are removed."
   ]
  },
  {
   "cell_type": "code",
   "execution_count": 7,
   "metadata": {
    "kernel": "Bash",
    "tags": []
   },
   "outputs": [
    {
     "name": "stdout",
     "output_type": "stream",
     "text": [
      "PLINK v1.90b6.18 64-bit (16 Jun 2020)          www.cog-genomics.org/plink/1.9/\n",
      "(C) 2005-2020 Shaun Purcell, Christopher Chang   GNU General Public License v3\n",
      "Logging to GWAS_clean2.log.\n",
      "Options in effect:\n",
      "  --file GWAS_MAF_clean\n",
      "  --mind 0.03\n",
      "  --out GWAS_clean2\n",
      "  --recode\n",
      "\n",
      "7960 MB RAM detected; reserving 3980 MB for main workspace.\n",
      ".ped scan complete (for binary autoconversion).41515161617171718181919192020212121222223232324242525252626272727282829292930303131313232333334343435353636363737383838393940404041414242424343444444454546464647474848484949505051515152525353535454555555565657575758585959596060616161626263636364646565656666676768686869697070707171727272737374747475757676767777787878797980808081818282828383848485858586868787878888898989909091919192929393939494959595969697979798989999100%\n",
      "Performing single-pass .bed write (6363 variants, 247 people).\n",
      "--file: GWAS_clean2-temporary.bed + GWAS_clean2-temporary.bim +14243444546474849505152535455565758596061626364656667686970717273747576777879808182838485868788899091929394%\n",
      "GWAS_clean2-temporary.fam written.\n",
      "6363 variants loaded from .bim file.\n",
      "247 people (125 males, 122 females) loaded from .fam.\n",
      "0 people removed due to missing genotype data (--mind).\n",
      "Using 1 thread (no multithreaded calculations invoked).\n",
      "Before main variant filters, 247 founders and 0 nonfounders present.\n",
      "Calculating allele frequencies... 10111213141516171819202122232425262728293031323334353637383940414243444546474849505152535455565758596061626364656667686970717273747576777879808182838485868788899091929394959697989 done.\n",
      "Warning: 6 het. haploid genotypes present (see GWAS_clean2.hh ); many commands\n",
      "treat these as missing.\n",
      "Total genotyping rate is 0.99716.\n",
      "6363 variants and 247 people pass filters and QC.\n",
      "Note: No phenotypes present.\n",
      "--recode ped to GWAS_clean2.ped + GWAS_clean2.map ... 101112131415161718192021222324252627282930313233343536373839404142434445464748495051525354555657585960616263646566676869707172737475767778798081828384858687888990919293949596979899done.\n"
     ]
    }
   ],
   "source": [
    "plink --file GWAS_MAF_clean --mind 0.03 --recode --out GWAS_clean2"
   ]
  },
  {
   "cell_type": "markdown",
   "metadata": {
    "kernel": "SoS",
    "tags": []
   },
   "source": [
    "Fill in Box 3."
   ]
  },
  {
   "cell_type": "markdown",
   "metadata": {
    "kernel": "SoS"
   },
   "source": [
    "### b. Checking Sex\n",
    "Error of the reported sex of an individual can occur. Information from the SNP genotypes can be used to verify the sex of individuals, by examining homozygosity (F) on the X chromosome for every individual. F is expected to be <0.2 in females and >0.8 in males. To check sex run"
   ]
  },
  {
   "cell_type": "code",
   "execution_count": 8,
   "metadata": {
    "kernel": "Bash"
   },
   "outputs": [
    {
     "name": "stdout",
     "output_type": "stream",
     "text": [
      "PLINK v1.90b6.18 64-bit (16 Jun 2020)          www.cog-genomics.org/plink/1.9/\n",
      "(C) 2005-2020 Shaun Purcell, Christopher Chang   GNU General Public License v3\n",
      "Logging to GWAS_sex_checking.log.\n",
      "Options in effect:\n",
      "  --check-sex\n",
      "  --file GWAS_clean2\n",
      "  --out GWAS_sex_checking\n",
      "\n",
      "7960 MB RAM detected; reserving 3980 MB for main workspace.\n",
      ".ped scan complete (for binary autoconversion).41515161617171718181919192020212121222223232324242525252626272727282829292930303131313232333334343435353636363737383838393940404041414242424343444444454546464647474848484949505051515152525353535454555555565657575758585959596060616161626263636364646565656666676768686869697070707171727272737374747475757676767777787878797980808081818282828383848485858586868787878888898989909091919192929393939494959595969697979798989999100%\n",
      "Performing single-pass .bed write (6363 variants, 247 people).\n",
      "--file: GWAS_sex_checking-temporary.bed + GWAS_sex_checking-temporary.bim +74849505152535455565758596061626364656667686970717273747576777879808182838485868788899091929394%\n",
      "GWAS_sex_checking-temporary.fam written.\n",
      "6363 variants loaded from .bim file.\n",
      "247 people (125 males, 122 females) loaded from .fam.\n",
      "Using 1 thread (no multithreaded calculations invoked).\n",
      "Before main variant filters, 247 founders and 0 nonfounders present.\n",
      "Calculating allele frequencies... 10111213141516171819202122232425262728293031323334353637383940414243444546474849505152535455565758596061626364656667686970717273747576777879808182838485868788899091929394959697989 done.\n",
      "Warning: 6 het. haploid genotypes present (see GWAS_sex_checking.hh ); many\n",
      "commands treat these as missing.\n",
      "Total genotyping rate is 0.99716.\n",
      "6363 variants and 247 people pass filters and QC.\n",
      "Note: No phenotypes present.\n",
      "--check-sex: 186 Xchr and 0 Ychr variant(s) scanned, 5 problems detected.\n",
      "Report written to GWAS_sex_checking.sexcheck .\n"
     ]
    }
   ],
   "source": [
    "plink --file GWAS_clean2 --check-sex --out GWAS_sex_checking"
   ]
  },
  {
   "cell_type": "markdown",
   "metadata": {
    "kernel": "SoS"
   },
   "source": [
    "Use R to examine the GWAS_sex_checking.sexcheck file and determine if there are individuals whose recorded sex is inconsistent with genetic sex."
   ]
  },
  {
   "cell_type": "code",
   "execution_count": 14,
   "metadata": {
    "kernel": "R"
   },
   "outputs": [],
   "source": [
    "setwd('Plink_DataQC/')"
   ]
  },
  {
   "cell_type": "code",
   "execution_count": 15,
   "metadata": {
    "kernel": "R",
    "tags": []
   },
   "outputs": [
    {
     "data": {
      "text/html": [
       "<ol class=list-inline>\n",
       "\t<li>'FID'</li>\n",
       "\t<li>'IID'</li>\n",
       "\t<li>'PEDSEX'</li>\n",
       "\t<li>'SNPSEX'</li>\n",
       "\t<li>'STATUS'</li>\n",
       "\t<li>'F'</li>\n",
       "</ol>\n"
      ],
      "text/latex": [
       "\\begin{enumerate*}\n",
       "\\item 'FID'\n",
       "\\item 'IID'\n",
       "\\item 'PEDSEX'\n",
       "\\item 'SNPSEX'\n",
       "\\item 'STATUS'\n",
       "\\item 'F'\n",
       "\\end{enumerate*}\n"
      ],
      "text/markdown": [
       "1. 'FID'\n",
       "2. 'IID'\n",
       "3. 'PEDSEX'\n",
       "4. 'SNPSEX'\n",
       "5. 'STATUS'\n",
       "6. 'F'\n",
       "\n",
       "\n"
      ],
      "text/plain": [
       "[1] \"FID\"    \"IID\"    \"PEDSEX\" \"SNPSEX\" \"STATUS\" \"F\"     "
      ]
     },
     "metadata": {},
     "output_type": "display_data"
    },
    {
     "data": {
      "text/html": [
       "<table>\n",
       "<caption>A data.frame: 5 × 6</caption>\n",
       "<thead>\n",
       "\t<tr><th></th><th scope=col>FID</th><th scope=col>IID</th><th scope=col>PEDSEX</th><th scope=col>SNPSEX</th><th scope=col>STATUS</th><th scope=col>F</th></tr>\n",
       "\t<tr><th></th><th scope=col>&lt;fct&gt;</th><th scope=col>&lt;fct&gt;</th><th scope=col>&lt;int&gt;</th><th scope=col>&lt;int&gt;</th><th scope=col>&lt;fct&gt;</th><th scope=col>&lt;dbl&gt;</th></tr>\n",
       "</thead>\n",
       "<tbody>\n",
       "\t<tr><th scope=row>163</th><td>NA20506</td><td>NA20506</td><td>2</td><td>1</td><td>PROBLEM</td><td>1.0000</td></tr>\n",
       "\t<tr><th scope=row>181</th><td>NA20530</td><td>NA20530</td><td>2</td><td>1</td><td>PROBLEM</td><td>1.0000</td></tr>\n",
       "\t<tr><th scope=row>202</th><td>NA20757</td><td>NA20757</td><td>2</td><td>0</td><td>PROBLEM</td><td>0.2141</td></tr>\n",
       "\t<tr><th scope=row>208</th><td>NA20766</td><td>NA20766</td><td>2</td><td>0</td><td>PROBLEM</td><td>0.2292</td></tr>\n",
       "\t<tr><th scope=row>212</th><td>NA20771</td><td>NA20771</td><td>2</td><td>0</td><td>PROBLEM</td><td>0.2234</td></tr>\n",
       "</tbody>\n",
       "</table>\n"
      ],
      "text/latex": [
       "A data.frame: 5 × 6\n",
       "\\begin{tabular}{r|llllll}\n",
       "  & FID & IID & PEDSEX & SNPSEX & STATUS & F\\\\\n",
       "  & <fct> & <fct> & <int> & <int> & <fct> & <dbl>\\\\\n",
       "\\hline\n",
       "\t163 & NA20506 & NA20506 & 2 & 1 & PROBLEM & 1.0000\\\\\n",
       "\t181 & NA20530 & NA20530 & 2 & 1 & PROBLEM & 1.0000\\\\\n",
       "\t202 & NA20757 & NA20757 & 2 & 0 & PROBLEM & 0.2141\\\\\n",
       "\t208 & NA20766 & NA20766 & 2 & 0 & PROBLEM & 0.2292\\\\\n",
       "\t212 & NA20771 & NA20771 & 2 & 0 & PROBLEM & 0.2234\\\\\n",
       "\\end{tabular}\n"
      ],
      "text/markdown": [
       "\n",
       "A data.frame: 5 × 6\n",
       "\n",
       "| <!--/--> | FID &lt;fct&gt; | IID &lt;fct&gt; | PEDSEX &lt;int&gt; | SNPSEX &lt;int&gt; | STATUS &lt;fct&gt; | F &lt;dbl&gt; |\n",
       "|---|---|---|---|---|---|---|\n",
       "| 163 | NA20506 | NA20506 | 2 | 1 | PROBLEM | 1.0000 |\n",
       "| 181 | NA20530 | NA20530 | 2 | 1 | PROBLEM | 1.0000 |\n",
       "| 202 | NA20757 | NA20757 | 2 | 0 | PROBLEM | 0.2141 |\n",
       "| 208 | NA20766 | NA20766 | 2 | 0 | PROBLEM | 0.2292 |\n",
       "| 212 | NA20771 | NA20771 | 2 | 0 | PROBLEM | 0.2234 |\n",
       "\n"
      ],
      "text/plain": [
       "    FID     IID     PEDSEX SNPSEX STATUS  F     \n",
       "163 NA20506 NA20506 2      1      PROBLEM 1.0000\n",
       "181 NA20530 NA20530 2      1      PROBLEM 1.0000\n",
       "202 NA20757 NA20757 2      0      PROBLEM 0.2141\n",
       "208 NA20766 NA20766 2      0      PROBLEM 0.2292\n",
       "212 NA20771 NA20771 2      0      PROBLEM 0.2234"
      ]
     },
     "metadata": {},
     "output_type": "display_data"
    }
   ],
   "source": [
    "sexcheck = read.table(\"GWAS_sex_checking.sexcheck\", header=T) \n",
    "names(sexcheck)\n",
    "sex_problem = sexcheck[which(sexcheck$STATUS==\"PROBLEM\"),] \n",
    "sex_problem\n",
    "q()"
   ]
  },
  {
   "cell_type": "markdown",
   "metadata": {
    "kernel": "R"
   },
   "source": [
    "NA20530 and NA20506 were coded as a female (2) and from the genotypes appear to be males (1). In addition, 3 individuals (NA20766, NA20771 and NA20757) do not have enough information to determine if they are males or females and PLINK reports sex = 0 for the genotyped sex.Fill in the table below:\n",
    "\n",
    "![](./img/plink/plink_qc_table1.png)"
   ]
  },
  {
   "cell_type": "markdown",
   "metadata": {
    "kernel": "R"
   },
   "source": [
    "Reasons for these kinds of discrepancies, include the records are incorrect, incorrect data entry, sample swap, unreported Turner or Klinefelter syndromes. Additionally, if a sufficient number of SNPs have not been genotyped on the X chromosome it can be difficult to accurately predict the sex of an individual. In this dataset, there are only 194 X chromosomal SNPs. If you cannot validate the sex of the individual they should be removed. For this exercise, we are going to assume that when the sex was checked, we found it was incorrectly recorded (i.e. these samples were male). Therefore, this error could simply be corrected."
   ]
  },
  {
   "cell_type": "markdown",
   "metadata": {
    "kernel": "R"
   },
   "source": [
    "### c. Duplicate Samples"
   ]
  },
  {
   "cell_type": "markdown",
   "metadata": {
    "kernel": "R"
   },
   "source": [
    "The following PLINK command can be used to check for duplicate samples"
   ]
  },
  {
   "cell_type": "code",
   "execution_count": 11,
   "metadata": {
    "kernel": "Bash",
    "tags": []
   },
   "outputs": [
    {
     "name": "stdout",
     "output_type": "stream",
     "text": [
      "PLINK v1.90b6.18 64-bit (16 Jun 2020)          www.cog-genomics.org/plink/1.9/\n",
      "(C) 2005-2020 Shaun Purcell, Christopher Chang   GNU General Public License v3\n",
      "Logging to duplicates.log.\n",
      "Options in effect:\n",
      "  --file GWAS_clean2\n",
      "  --genome\n",
      "  --out duplicates\n",
      "\n",
      "7960 MB RAM detected; reserving 3980 MB for main workspace.\n",
      ".ped scan complete (for binary autoconversion).41515161617171718181919192020212121222223232324242525252626272727282829292930303131313232333334343435353636363737383838393940404041414242424343444444454546464647474848484949505051515152525353535454555555565657575758585959596060616161626263636364646565656666676768686869697070707171727272737374747475757676767777787878797980808081818282828383848485858586868787878888898989909091919192929393939494959595969697979798989999100%\n",
      "Performing single-pass .bed write (6363 variants, 247 people).\n",
      "--file: duplicates-temporary.bed + duplicates-temporary.bim +0414243444546474849505152535455565758596061626364656667686970717273747576777879808182838485868788899091929394%\n",
      "duplicates-temporary.fam written.\n",
      "6363 variants loaded from .bim file.\n",
      "247 people (125 males, 122 females) loaded from .fam.\n",
      "Using up to 4 threads (change this with --threads).\n",
      "Before main variant filters, 247 founders and 0 nonfounders present.\n",
      "Calculating allele frequencies... 10111213141516171819202122232425262728293031323334353637383940414243444546474849505152535455565758596061626364656667686970717273747576777879808182838485868788899091929394959697989 done.\n",
      "Warning: 6 het. haploid genotypes present (see duplicates.hh ); many commands\n",
      "treat these as missing.\n",
      "Total genotyping rate is 0.99716.\n",
      "6363 variants and 247 people pass filters and QC.\n",
      "Note: No phenotypes present.\n",
      "Excluding 186 variants on non-autosomes from IBD calculation.\n",
      "IBD calculations complete.  \n",
      "Finished writing duplicates.genome .\n"
     ]
    }
   ],
   "source": [
    "plink --file GWAS_clean2 --genome --out duplicates"
   ]
  },
  {
   "cell_type": "markdown",
   "metadata": {
    "kernel": "R"
   },
   "source": [
    "Open the `duplicates.genome` file in R with the following command:"
   ]
  },
  {
   "cell_type": "code",
   "execution_count": 16,
   "metadata": {
    "kernel": "R"
   },
   "outputs": [],
   "source": [
    "dups = read.table(\"duplicates.genome\", header = T)"
   ]
  },
  {
   "cell_type": "markdown",
   "metadata": {
    "kernel": "R"
   },
   "source": [
    "We are interested in the Pi-Hat (the estimated proportion IBD sharing) value. You may notice that there is more than one duplicate (Pi-Hat=~1). Also, examine the output for pairs of individuals with high Pi-Hat values which can indicate they are related. The amount of allele sharing [Z(0), Z(1) and Z(2)] across all SNPs provides information on the type of relative pair."
   ]
  },
  {
   "cell_type": "code",
   "execution_count": 17,
   "metadata": {
    "kernel": "R"
   },
   "outputs": [
    {
     "data": {
      "text/html": [
       "<table>\n",
       "<caption>A data.frame: 4 × 14</caption>\n",
       "<thead>\n",
       "\t<tr><th></th><th scope=col>FID1</th><th scope=col>IID1</th><th scope=col>FID2</th><th scope=col>IID2</th><th scope=col>RT</th><th scope=col>EZ</th><th scope=col>Z0</th><th scope=col>Z1</th><th scope=col>Z2</th><th scope=col>PI_HAT</th><th scope=col>PHE</th><th scope=col>DST</th><th scope=col>PPC</th><th scope=col>RATIO</th></tr>\n",
       "\t<tr><th></th><th scope=col>&lt;fct&gt;</th><th scope=col>&lt;fct&gt;</th><th scope=col>&lt;fct&gt;</th><th scope=col>&lt;fct&gt;</th><th scope=col>&lt;fct&gt;</th><th scope=col>&lt;int&gt;</th><th scope=col>&lt;dbl&gt;</th><th scope=col>&lt;dbl&gt;</th><th scope=col>&lt;dbl&gt;</th><th scope=col>&lt;dbl&gt;</th><th scope=col>&lt;int&gt;</th><th scope=col>&lt;dbl&gt;</th><th scope=col>&lt;dbl&gt;</th><th scope=col>&lt;dbl&gt;</th></tr>\n",
       "</thead>\n",
       "<tbody>\n",
       "\t<tr><th scope=row>4138</th><td>1344</td><td>NA12057</td><td>13291</td><td>NA25001</td><td>UN</td><td>NA</td><td>0.0000</td><td>0.0025</td><td>0.9975</td><td>0.9988</td><td>-1</td><td>0.999594</td><td>1</td><td> NA</td></tr>\n",
       "\t<tr><th scope=row>15331</th><td>1444</td><td>NA12739</td><td>1444 </td><td>NA12748</td><td>OT</td><td> 0</td><td>0.0026</td><td>0.9949</td><td>0.0025</td><td>0.5000</td><td>-1</td><td>0.835832</td><td>1</td><td>867</td></tr>\n",
       "\t<tr><th scope=row>15332</th><td>1444</td><td>NA12739</td><td>1444 </td><td>NA12749</td><td>OT</td><td> 0</td><td>0.0026</td><td>0.9807</td><td>0.0168</td><td>0.5071</td><td>-1</td><td>0.838175</td><td>1</td><td>869</td></tr>\n",
       "\t<tr><th scope=row>25442</th><td>M033</td><td>NA19774</td><td>M041 </td><td>NA25000</td><td>UN</td><td>NA</td><td>0.0000</td><td>0.0000</td><td>1.0000</td><td>1.0000</td><td>-1</td><td>1.000000</td><td>1</td><td> NA</td></tr>\n",
       "</tbody>\n",
       "</table>\n"
      ],
      "text/latex": [
       "A data.frame: 4 × 14\n",
       "\\begin{tabular}{r|llllllllllllll}\n",
       "  & FID1 & IID1 & FID2 & IID2 & RT & EZ & Z0 & Z1 & Z2 & PI\\_HAT & PHE & DST & PPC & RATIO\\\\\n",
       "  & <fct> & <fct> & <fct> & <fct> & <fct> & <int> & <dbl> & <dbl> & <dbl> & <dbl> & <int> & <dbl> & <dbl> & <dbl>\\\\\n",
       "\\hline\n",
       "\t4138 & 1344 & NA12057 & 13291 & NA25001 & UN & NA & 0.0000 & 0.0025 & 0.9975 & 0.9988 & -1 & 0.999594 & 1 &  NA\\\\\n",
       "\t15331 & 1444 & NA12739 & 1444  & NA12748 & OT &  0 & 0.0026 & 0.9949 & 0.0025 & 0.5000 & -1 & 0.835832 & 1 & 867\\\\\n",
       "\t15332 & 1444 & NA12739 & 1444  & NA12749 & OT &  0 & 0.0026 & 0.9807 & 0.0168 & 0.5071 & -1 & 0.838175 & 1 & 869\\\\\n",
       "\t25442 & M033 & NA19774 & M041  & NA25000 & UN & NA & 0.0000 & 0.0000 & 1.0000 & 1.0000 & -1 & 1.000000 & 1 &  NA\\\\\n",
       "\\end{tabular}\n"
      ],
      "text/markdown": [
       "\n",
       "A data.frame: 4 × 14\n",
       "\n",
       "| <!--/--> | FID1 &lt;fct&gt; | IID1 &lt;fct&gt; | FID2 &lt;fct&gt; | IID2 &lt;fct&gt; | RT &lt;fct&gt; | EZ &lt;int&gt; | Z0 &lt;dbl&gt; | Z1 &lt;dbl&gt; | Z2 &lt;dbl&gt; | PI_HAT &lt;dbl&gt; | PHE &lt;int&gt; | DST &lt;dbl&gt; | PPC &lt;dbl&gt; | RATIO &lt;dbl&gt; |\n",
       "|---|---|---|---|---|---|---|---|---|---|---|---|---|---|---|\n",
       "| 4138 | 1344 | NA12057 | 13291 | NA25001 | UN | NA | 0.0000 | 0.0025 | 0.9975 | 0.9988 | -1 | 0.999594 | 1 |  NA |\n",
       "| 15331 | 1444 | NA12739 | 1444  | NA12748 | OT |  0 | 0.0026 | 0.9949 | 0.0025 | 0.5000 | -1 | 0.835832 | 1 | 867 |\n",
       "| 15332 | 1444 | NA12739 | 1444  | NA12749 | OT |  0 | 0.0026 | 0.9807 | 0.0168 | 0.5071 | -1 | 0.838175 | 1 | 869 |\n",
       "| 25442 | M033 | NA19774 | M041  | NA25000 | UN | NA | 0.0000 | 0.0000 | 1.0000 | 1.0000 | -1 | 1.000000 | 1 |  NA |\n",
       "\n"
      ],
      "text/plain": [
       "      FID1 IID1    FID2  IID2    RT EZ Z0     Z1     Z2     PI_HAT PHE DST     \n",
       "4138  1344 NA12057 13291 NA25001 UN NA 0.0000 0.0025 0.9975 0.9988 -1  0.999594\n",
       "15331 1444 NA12739 1444  NA12748 OT  0 0.0026 0.9949 0.0025 0.5000 -1  0.835832\n",
       "15332 1444 NA12739 1444  NA12749 OT  0 0.0026 0.9807 0.0168 0.5071 -1  0.838175\n",
       "25442 M033 NA19774 M041  NA25000 UN NA 0.0000 0.0000 1.0000 1.0000 -1  1.000000\n",
       "      PPC RATIO\n",
       "4138  1    NA  \n",
       "15331 1   867  \n",
       "15332 1   869  \n",
       "25442 1    NA  "
      ]
     },
     "metadata": {},
     "output_type": "display_data"
    }
   ],
   "source": [
    "problem_pairs = dups[which(dups$PI_HAT > 0.4),] \n",
    "problem_pairs"
   ]
  },
  {
   "cell_type": "markdown",
   "metadata": {
    "kernel": "SoS"
   },
   "source": [
    "![](./img/plink/plink_qc_table2.png)"
   ]
  },
  {
   "cell_type": "markdown",
   "metadata": {
    "kernel": "R"
   },
   "source": [
    "**Note:** Pi-hat can be inflated and individuals appear to be related to each other if you have samples from different populations. This explains why we observe pairs of individuals with Pi-hat >0.05 since threedistinctpopulationswereanalyzed. Additionally,thisphenomenoncanbeobservedifasubset(s) of samples have higher genotyping/sequencing error rates, which creates two or more “populations” and the individuals within these “populations” incorrectly appear to be related.\n",
    "\n",
    "Using this R script please observe how many sample pairs have pi-hat >0.05:"
   ]
  },
  {
   "cell_type": "code",
   "execution_count": 18,
   "metadata": {
    "kernel": "R"
   },
   "outputs": [
    {
     "data": {
      "text/html": [
       "<table>\n",
       "<caption>A data.frame: 1464 × 5</caption>\n",
       "<thead>\n",
       "\t<tr><th></th><th scope=col>FID1</th><th scope=col>IID1</th><th scope=col>FID2</th><th scope=col>IID2</th><th scope=col>PI_HAT</th></tr>\n",
       "\t<tr><th></th><th scope=col>&lt;fct&gt;</th><th scope=col>&lt;fct&gt;</th><th scope=col>&lt;fct&gt;</th><th scope=col>&lt;fct&gt;</th><th scope=col>&lt;dbl&gt;</th></tr>\n",
       "</thead>\n",
       "<tbody>\n",
       "\t<tr><th scope=row>26</th><td>1328</td><td>NA06984</td><td>1347   </td><td>NA11882</td><td>0.0677</td></tr>\n",
       "\t<tr><th scope=row>83</th><td>1328</td><td>NA06984</td><td>1451   </td><td>NA12776</td><td>0.0546</td></tr>\n",
       "\t<tr><th scope=row>259</th><td>1328</td><td>NA06989</td><td>1341   </td><td>NA06993</td><td>0.0537</td></tr>\n",
       "\t<tr><th scope=row>328</th><td>1328</td><td>NA06989</td><td>1451   </td><td>NA12776</td><td>0.0501</td></tr>\n",
       "\t<tr><th scope=row>344</th><td>1328</td><td>NA06989</td><td>1459   </td><td>NA12875</td><td>0.0525</td></tr>\n",
       "\t<tr><th scope=row>503</th><td>1330</td><td>NA12340</td><td>1341   </td><td>NA06993</td><td>0.0671</td></tr>\n",
       "\t<tr><th scope=row>524</th><td>1330</td><td>NA12340</td><td>1353   </td><td>NA12489</td><td>0.0616</td></tr>\n",
       "\t<tr><th scope=row>557</th><td>1330</td><td>NA12340</td><td>1423   </td><td>NA11918</td><td>0.0530</td></tr>\n",
       "\t<tr><th scope=row>565</th><td>1330</td><td>NA12340</td><td>1444   </td><td>NA12750</td><td>0.0740</td></tr>\n",
       "\t<tr><th scope=row>583</th><td>1330</td><td>NA12340</td><td>1458   </td><td>NA12842</td><td>0.0536</td></tr>\n",
       "\t<tr><th scope=row>589</th><td>1330</td><td>NA12340</td><td>1463   </td><td>NA12889</td><td>0.0543</td></tr>\n",
       "\t<tr><th scope=row>651</th><td>1330</td><td>NA12340</td><td>NA20506</td><td>NA20506</td><td>0.0533</td></tr>\n",
       "\t<tr><th scope=row>669</th><td>1330</td><td>NA12340</td><td>NA20530</td><td>NA20530</td><td>0.0518</td></tr>\n",
       "\t<tr><th scope=row>986</th><td>1330</td><td>NA12343</td><td>1340   </td><td>NA07056</td><td>0.0551</td></tr>\n",
       "\t<tr><th scope=row>987</th><td>1330</td><td>NA12343</td><td>1341   </td><td>NA06985</td><td>0.0658</td></tr>\n",
       "\t<tr><th scope=row>988</th><td>1330</td><td>NA12343</td><td>1341   </td><td>NA06993</td><td>0.0537</td></tr>\n",
       "\t<tr><th scope=row>997</th><td>1330</td><td>NA12343</td><td>1346   </td><td>NA12044</td><td>0.0606</td></tr>\n",
       "\t<tr><th scope=row>1000</th><td>1330</td><td>NA12343</td><td>1347   </td><td>NA11882</td><td>0.0866</td></tr>\n",
       "\t<tr><th scope=row>1004</th><td>1330</td><td>NA12343</td><td>1350   </td><td>NA11829</td><td>0.0577</td></tr>\n",
       "\t<tr><th scope=row>1006</th><td>1330</td><td>NA12343</td><td>1350   </td><td>NA11831</td><td>0.0555</td></tr>\n",
       "\t<tr><th scope=row>1010</th><td>1330</td><td>NA12343</td><td>1353   </td><td>NA12546</td><td>0.0765</td></tr>\n",
       "\t<tr><th scope=row>1014</th><td>1330</td><td>NA12343</td><td>1358   </td><td>NA12716</td><td>0.0568</td></tr>\n",
       "\t<tr><th scope=row>1016</th><td>1330</td><td>NA12343</td><td>1362   </td><td>NA11992</td><td>0.0585</td></tr>\n",
       "\t<tr><th scope=row>1019</th><td>1330</td><td>NA12343</td><td>1362   </td><td>NA11995</td><td>0.0541</td></tr>\n",
       "\t<tr><th scope=row>1023</th><td>1330</td><td>NA12343</td><td>1377   </td><td>NA11892</td><td>0.0578</td></tr>\n",
       "\t<tr><th scope=row>1028</th><td>1330</td><td>NA12343</td><td>1408   </td><td>NA12156</td><td>0.0580</td></tr>\n",
       "\t<tr><th scope=row>1032</th><td>1330</td><td>NA12343</td><td>1418   </td><td>NA12273</td><td>0.0691</td></tr>\n",
       "\t<tr><th scope=row>1037</th><td>1330</td><td>NA12343</td><td>1421   </td><td>NA12282</td><td>0.0613</td></tr>\n",
       "\t<tr><th scope=row>1040</th><td>1330</td><td>NA12343</td><td>1421   </td><td>NA12287</td><td>0.0616</td></tr>\n",
       "\t<tr><th scope=row>1042</th><td>1330</td><td>NA12343</td><td>1423   </td><td>NA11918</td><td>0.0520</td></tr>\n",
       "\t<tr><th scope=row>⋮</th><td>⋮</td><td>⋮</td><td>⋮</td><td>⋮</td><td>⋮</td></tr>\n",
       "\t<tr><th scope=row>29899</th><td>NA20775</td><td>NA20775</td><td>NA20802</td><td>NA20802</td><td>0.0656</td></tr>\n",
       "\t<tr><th scope=row>29907</th><td>NA20775</td><td>NA20775</td><td>NA20810</td><td>NA20810</td><td>0.0501</td></tr>\n",
       "\t<tr><th scope=row>29911</th><td>NA20775</td><td>NA20775</td><td>NA20815</td><td>NA20815</td><td>0.0516</td></tr>\n",
       "\t<tr><th scope=row>29916</th><td>NA20775</td><td>NA20775</td><td>NA20828</td><td>NA20828</td><td>0.0658</td></tr>\n",
       "\t<tr><th scope=row>29935</th><td>NA20778</td><td>NA20778</td><td>NA20808</td><td>NA20808</td><td>0.0561</td></tr>\n",
       "\t<tr><th scope=row>29953</th><td>NA20783</td><td>NA20783</td><td>NA20796</td><td>NA20796</td><td>0.0665</td></tr>\n",
       "\t<tr><th scope=row>29983</th><td>NA20785</td><td>NA20785</td><td>NA20799</td><td>NA20799</td><td>0.0559</td></tr>\n",
       "\t<tr><th scope=row>30017</th><td>NA20786</td><td>NA20786</td><td>NA20806</td><td>NA20806</td><td>0.0579</td></tr>\n",
       "\t<tr><th scope=row>30022</th><td>NA20786</td><td>NA20786</td><td>NA20811</td><td>NA20811</td><td>0.0505</td></tr>\n",
       "\t<tr><th scope=row>30064</th><td>NA20790</td><td>NA20790</td><td>NA20802</td><td>NA20802</td><td>0.0585</td></tr>\n",
       "\t<tr><th scope=row>30105</th><td>NA20792</td><td>NA20792</td><td>NA20828</td><td>NA20828</td><td>0.0717</td></tr>\n",
       "\t<tr><th scope=row>30106</th><td>NA20795</td><td>NA20795</td><td>NA20796</td><td>NA20796</td><td>0.0586</td></tr>\n",
       "\t<tr><th scope=row>30117</th><td>NA20795</td><td>NA20795</td><td>NA20808</td><td>NA20808</td><td>0.0552</td></tr>\n",
       "\t<tr><th scope=row>30125</th><td>NA20795</td><td>NA20795</td><td>NA20818</td><td>NA20818</td><td>0.0654</td></tr>\n",
       "\t<tr><th scope=row>30137</th><td>NA20796</td><td>NA20796</td><td>NA20806</td><td>NA20806</td><td>0.0511</td></tr>\n",
       "\t<tr><th scope=row>30145</th><td>NA20796</td><td>NA20796</td><td>NA20815</td><td>NA20815</td><td>0.0610</td></tr>\n",
       "\t<tr><th scope=row>30147</th><td>NA20796</td><td>NA20796</td><td>NA20818</td><td>NA20818</td><td>0.0629</td></tr>\n",
       "\t<tr><th scope=row>30150</th><td>NA20796</td><td>NA20796</td><td>NA20828</td><td>NA20828</td><td>0.0660</td></tr>\n",
       "\t<tr><th scope=row>30199</th><td>NA20800</td><td>NA20800</td><td>NA20808</td><td>NA20808</td><td>0.0612</td></tr>\n",
       "\t<tr><th scope=row>30211</th><td>NA20801</td><td>NA20801</td><td>NA20802</td><td>NA20802</td><td>0.0838</td></tr>\n",
       "\t<tr><th scope=row>30219</th><td>NA20801</td><td>NA20801</td><td>NA20810</td><td>NA20810</td><td>0.0603</td></tr>\n",
       "\t<tr><th scope=row>30233</th><td>NA20802</td><td>NA20802</td><td>NA20807</td><td>NA20807</td><td>0.0677</td></tr>\n",
       "\t<tr><th scope=row>30236</th><td>NA20802</td><td>NA20802</td><td>NA20810</td><td>NA20810</td><td>0.0523</td></tr>\n",
       "\t<tr><th scope=row>30238</th><td>NA20802</td><td>NA20802</td><td>NA20812</td><td>NA20812</td><td>0.0702</td></tr>\n",
       "\t<tr><th scope=row>30242</th><td>NA20802</td><td>NA20802</td><td>NA20818</td><td>NA20818</td><td>0.0584</td></tr>\n",
       "\t<tr><th scope=row>30245</th><td>NA20802</td><td>NA20802</td><td>NA20828</td><td>NA20828</td><td>0.0620</td></tr>\n",
       "\t<tr><th scope=row>30271</th><td>NA20804</td><td>NA20804</td><td>NA20815</td><td>NA20815</td><td>0.0551</td></tr>\n",
       "\t<tr><th scope=row>30300</th><td>NA20806</td><td>NA20806</td><td>NA20818</td><td>NA20818</td><td>0.0561</td></tr>\n",
       "\t<tr><th scope=row>30319</th><td>NA20808</td><td>NA20808</td><td>NA20812</td><td>NA20812</td><td>0.0532</td></tr>\n",
       "\t<tr><th scope=row>30378</th><td>NA20818</td><td>NA20818</td><td>NA20828</td><td>NA20828</td><td>0.0816</td></tr>\n",
       "</tbody>\n",
       "</table>\n"
      ],
      "text/latex": [
       "A data.frame: 1464 × 5\n",
       "\\begin{tabular}{r|lllll}\n",
       "  & FID1 & IID1 & FID2 & IID2 & PI\\_HAT\\\\\n",
       "  & <fct> & <fct> & <fct> & <fct> & <dbl>\\\\\n",
       "\\hline\n",
       "\t26 & 1328 & NA06984 & 1347    & NA11882 & 0.0677\\\\\n",
       "\t83 & 1328 & NA06984 & 1451    & NA12776 & 0.0546\\\\\n",
       "\t259 & 1328 & NA06989 & 1341    & NA06993 & 0.0537\\\\\n",
       "\t328 & 1328 & NA06989 & 1451    & NA12776 & 0.0501\\\\\n",
       "\t344 & 1328 & NA06989 & 1459    & NA12875 & 0.0525\\\\\n",
       "\t503 & 1330 & NA12340 & 1341    & NA06993 & 0.0671\\\\\n",
       "\t524 & 1330 & NA12340 & 1353    & NA12489 & 0.0616\\\\\n",
       "\t557 & 1330 & NA12340 & 1423    & NA11918 & 0.0530\\\\\n",
       "\t565 & 1330 & NA12340 & 1444    & NA12750 & 0.0740\\\\\n",
       "\t583 & 1330 & NA12340 & 1458    & NA12842 & 0.0536\\\\\n",
       "\t589 & 1330 & NA12340 & 1463    & NA12889 & 0.0543\\\\\n",
       "\t651 & 1330 & NA12340 & NA20506 & NA20506 & 0.0533\\\\\n",
       "\t669 & 1330 & NA12340 & NA20530 & NA20530 & 0.0518\\\\\n",
       "\t986 & 1330 & NA12343 & 1340    & NA07056 & 0.0551\\\\\n",
       "\t987 & 1330 & NA12343 & 1341    & NA06985 & 0.0658\\\\\n",
       "\t988 & 1330 & NA12343 & 1341    & NA06993 & 0.0537\\\\\n",
       "\t997 & 1330 & NA12343 & 1346    & NA12044 & 0.0606\\\\\n",
       "\t1000 & 1330 & NA12343 & 1347    & NA11882 & 0.0866\\\\\n",
       "\t1004 & 1330 & NA12343 & 1350    & NA11829 & 0.0577\\\\\n",
       "\t1006 & 1330 & NA12343 & 1350    & NA11831 & 0.0555\\\\\n",
       "\t1010 & 1330 & NA12343 & 1353    & NA12546 & 0.0765\\\\\n",
       "\t1014 & 1330 & NA12343 & 1358    & NA12716 & 0.0568\\\\\n",
       "\t1016 & 1330 & NA12343 & 1362    & NA11992 & 0.0585\\\\\n",
       "\t1019 & 1330 & NA12343 & 1362    & NA11995 & 0.0541\\\\\n",
       "\t1023 & 1330 & NA12343 & 1377    & NA11892 & 0.0578\\\\\n",
       "\t1028 & 1330 & NA12343 & 1408    & NA12156 & 0.0580\\\\\n",
       "\t1032 & 1330 & NA12343 & 1418    & NA12273 & 0.0691\\\\\n",
       "\t1037 & 1330 & NA12343 & 1421    & NA12282 & 0.0613\\\\\n",
       "\t1040 & 1330 & NA12343 & 1421    & NA12287 & 0.0616\\\\\n",
       "\t1042 & 1330 & NA12343 & 1423    & NA11918 & 0.0520\\\\\n",
       "\t⋮ & ⋮ & ⋮ & ⋮ & ⋮ & ⋮\\\\\n",
       "\t29899 & NA20775 & NA20775 & NA20802 & NA20802 & 0.0656\\\\\n",
       "\t29907 & NA20775 & NA20775 & NA20810 & NA20810 & 0.0501\\\\\n",
       "\t29911 & NA20775 & NA20775 & NA20815 & NA20815 & 0.0516\\\\\n",
       "\t29916 & NA20775 & NA20775 & NA20828 & NA20828 & 0.0658\\\\\n",
       "\t29935 & NA20778 & NA20778 & NA20808 & NA20808 & 0.0561\\\\\n",
       "\t29953 & NA20783 & NA20783 & NA20796 & NA20796 & 0.0665\\\\\n",
       "\t29983 & NA20785 & NA20785 & NA20799 & NA20799 & 0.0559\\\\\n",
       "\t30017 & NA20786 & NA20786 & NA20806 & NA20806 & 0.0579\\\\\n",
       "\t30022 & NA20786 & NA20786 & NA20811 & NA20811 & 0.0505\\\\\n",
       "\t30064 & NA20790 & NA20790 & NA20802 & NA20802 & 0.0585\\\\\n",
       "\t30105 & NA20792 & NA20792 & NA20828 & NA20828 & 0.0717\\\\\n",
       "\t30106 & NA20795 & NA20795 & NA20796 & NA20796 & 0.0586\\\\\n",
       "\t30117 & NA20795 & NA20795 & NA20808 & NA20808 & 0.0552\\\\\n",
       "\t30125 & NA20795 & NA20795 & NA20818 & NA20818 & 0.0654\\\\\n",
       "\t30137 & NA20796 & NA20796 & NA20806 & NA20806 & 0.0511\\\\\n",
       "\t30145 & NA20796 & NA20796 & NA20815 & NA20815 & 0.0610\\\\\n",
       "\t30147 & NA20796 & NA20796 & NA20818 & NA20818 & 0.0629\\\\\n",
       "\t30150 & NA20796 & NA20796 & NA20828 & NA20828 & 0.0660\\\\\n",
       "\t30199 & NA20800 & NA20800 & NA20808 & NA20808 & 0.0612\\\\\n",
       "\t30211 & NA20801 & NA20801 & NA20802 & NA20802 & 0.0838\\\\\n",
       "\t30219 & NA20801 & NA20801 & NA20810 & NA20810 & 0.0603\\\\\n",
       "\t30233 & NA20802 & NA20802 & NA20807 & NA20807 & 0.0677\\\\\n",
       "\t30236 & NA20802 & NA20802 & NA20810 & NA20810 & 0.0523\\\\\n",
       "\t30238 & NA20802 & NA20802 & NA20812 & NA20812 & 0.0702\\\\\n",
       "\t30242 & NA20802 & NA20802 & NA20818 & NA20818 & 0.0584\\\\\n",
       "\t30245 & NA20802 & NA20802 & NA20828 & NA20828 & 0.0620\\\\\n",
       "\t30271 & NA20804 & NA20804 & NA20815 & NA20815 & 0.0551\\\\\n",
       "\t30300 & NA20806 & NA20806 & NA20818 & NA20818 & 0.0561\\\\\n",
       "\t30319 & NA20808 & NA20808 & NA20812 & NA20812 & 0.0532\\\\\n",
       "\t30378 & NA20818 & NA20818 & NA20828 & NA20828 & 0.0816\\\\\n",
       "\\end{tabular}\n"
      ],
      "text/markdown": [
       "\n",
       "A data.frame: 1464 × 5\n",
       "\n",
       "| <!--/--> | FID1 &lt;fct&gt; | IID1 &lt;fct&gt; | FID2 &lt;fct&gt; | IID2 &lt;fct&gt; | PI_HAT &lt;dbl&gt; |\n",
       "|---|---|---|---|---|---|\n",
       "| 26 | 1328 | NA06984 | 1347    | NA11882 | 0.0677 |\n",
       "| 83 | 1328 | NA06984 | 1451    | NA12776 | 0.0546 |\n",
       "| 259 | 1328 | NA06989 | 1341    | NA06993 | 0.0537 |\n",
       "| 328 | 1328 | NA06989 | 1451    | NA12776 | 0.0501 |\n",
       "| 344 | 1328 | NA06989 | 1459    | NA12875 | 0.0525 |\n",
       "| 503 | 1330 | NA12340 | 1341    | NA06993 | 0.0671 |\n",
       "| 524 | 1330 | NA12340 | 1353    | NA12489 | 0.0616 |\n",
       "| 557 | 1330 | NA12340 | 1423    | NA11918 | 0.0530 |\n",
       "| 565 | 1330 | NA12340 | 1444    | NA12750 | 0.0740 |\n",
       "| 583 | 1330 | NA12340 | 1458    | NA12842 | 0.0536 |\n",
       "| 589 | 1330 | NA12340 | 1463    | NA12889 | 0.0543 |\n",
       "| 651 | 1330 | NA12340 | NA20506 | NA20506 | 0.0533 |\n",
       "| 669 | 1330 | NA12340 | NA20530 | NA20530 | 0.0518 |\n",
       "| 986 | 1330 | NA12343 | 1340    | NA07056 | 0.0551 |\n",
       "| 987 | 1330 | NA12343 | 1341    | NA06985 | 0.0658 |\n",
       "| 988 | 1330 | NA12343 | 1341    | NA06993 | 0.0537 |\n",
       "| 997 | 1330 | NA12343 | 1346    | NA12044 | 0.0606 |\n",
       "| 1000 | 1330 | NA12343 | 1347    | NA11882 | 0.0866 |\n",
       "| 1004 | 1330 | NA12343 | 1350    | NA11829 | 0.0577 |\n",
       "| 1006 | 1330 | NA12343 | 1350    | NA11831 | 0.0555 |\n",
       "| 1010 | 1330 | NA12343 | 1353    | NA12546 | 0.0765 |\n",
       "| 1014 | 1330 | NA12343 | 1358    | NA12716 | 0.0568 |\n",
       "| 1016 | 1330 | NA12343 | 1362    | NA11992 | 0.0585 |\n",
       "| 1019 | 1330 | NA12343 | 1362    | NA11995 | 0.0541 |\n",
       "| 1023 | 1330 | NA12343 | 1377    | NA11892 | 0.0578 |\n",
       "| 1028 | 1330 | NA12343 | 1408    | NA12156 | 0.0580 |\n",
       "| 1032 | 1330 | NA12343 | 1418    | NA12273 | 0.0691 |\n",
       "| 1037 | 1330 | NA12343 | 1421    | NA12282 | 0.0613 |\n",
       "| 1040 | 1330 | NA12343 | 1421    | NA12287 | 0.0616 |\n",
       "| 1042 | 1330 | NA12343 | 1423    | NA11918 | 0.0520 |\n",
       "| ⋮ | ⋮ | ⋮ | ⋮ | ⋮ | ⋮ |\n",
       "| 29899 | NA20775 | NA20775 | NA20802 | NA20802 | 0.0656 |\n",
       "| 29907 | NA20775 | NA20775 | NA20810 | NA20810 | 0.0501 |\n",
       "| 29911 | NA20775 | NA20775 | NA20815 | NA20815 | 0.0516 |\n",
       "| 29916 | NA20775 | NA20775 | NA20828 | NA20828 | 0.0658 |\n",
       "| 29935 | NA20778 | NA20778 | NA20808 | NA20808 | 0.0561 |\n",
       "| 29953 | NA20783 | NA20783 | NA20796 | NA20796 | 0.0665 |\n",
       "| 29983 | NA20785 | NA20785 | NA20799 | NA20799 | 0.0559 |\n",
       "| 30017 | NA20786 | NA20786 | NA20806 | NA20806 | 0.0579 |\n",
       "| 30022 | NA20786 | NA20786 | NA20811 | NA20811 | 0.0505 |\n",
       "| 30064 | NA20790 | NA20790 | NA20802 | NA20802 | 0.0585 |\n",
       "| 30105 | NA20792 | NA20792 | NA20828 | NA20828 | 0.0717 |\n",
       "| 30106 | NA20795 | NA20795 | NA20796 | NA20796 | 0.0586 |\n",
       "| 30117 | NA20795 | NA20795 | NA20808 | NA20808 | 0.0552 |\n",
       "| 30125 | NA20795 | NA20795 | NA20818 | NA20818 | 0.0654 |\n",
       "| 30137 | NA20796 | NA20796 | NA20806 | NA20806 | 0.0511 |\n",
       "| 30145 | NA20796 | NA20796 | NA20815 | NA20815 | 0.0610 |\n",
       "| 30147 | NA20796 | NA20796 | NA20818 | NA20818 | 0.0629 |\n",
       "| 30150 | NA20796 | NA20796 | NA20828 | NA20828 | 0.0660 |\n",
       "| 30199 | NA20800 | NA20800 | NA20808 | NA20808 | 0.0612 |\n",
       "| 30211 | NA20801 | NA20801 | NA20802 | NA20802 | 0.0838 |\n",
       "| 30219 | NA20801 | NA20801 | NA20810 | NA20810 | 0.0603 |\n",
       "| 30233 | NA20802 | NA20802 | NA20807 | NA20807 | 0.0677 |\n",
       "| 30236 | NA20802 | NA20802 | NA20810 | NA20810 | 0.0523 |\n",
       "| 30238 | NA20802 | NA20802 | NA20812 | NA20812 | 0.0702 |\n",
       "| 30242 | NA20802 | NA20802 | NA20818 | NA20818 | 0.0584 |\n",
       "| 30245 | NA20802 | NA20802 | NA20828 | NA20828 | 0.0620 |\n",
       "| 30271 | NA20804 | NA20804 | NA20815 | NA20815 | 0.0551 |\n",
       "| 30300 | NA20806 | NA20806 | NA20818 | NA20818 | 0.0561 |\n",
       "| 30319 | NA20808 | NA20808 | NA20812 | NA20812 | 0.0532 |\n",
       "| 30378 | NA20818 | NA20818 | NA20828 | NA20828 | 0.0816 |\n",
       "\n"
      ],
      "text/plain": [
       "      FID1    IID1    FID2    IID2    PI_HAT\n",
       "26    1328    NA06984 1347    NA11882 0.0677\n",
       "83    1328    NA06984 1451    NA12776 0.0546\n",
       "259   1328    NA06989 1341    NA06993 0.0537\n",
       "328   1328    NA06989 1451    NA12776 0.0501\n",
       "344   1328    NA06989 1459    NA12875 0.0525\n",
       "503   1330    NA12340 1341    NA06993 0.0671\n",
       "524   1330    NA12340 1353    NA12489 0.0616\n",
       "557   1330    NA12340 1423    NA11918 0.0530\n",
       "565   1330    NA12340 1444    NA12750 0.0740\n",
       "583   1330    NA12340 1458    NA12842 0.0536\n",
       "589   1330    NA12340 1463    NA12889 0.0543\n",
       "651   1330    NA12340 NA20506 NA20506 0.0533\n",
       "669   1330    NA12340 NA20530 NA20530 0.0518\n",
       "986   1330    NA12343 1340    NA07056 0.0551\n",
       "987   1330    NA12343 1341    NA06985 0.0658\n",
       "988   1330    NA12343 1341    NA06993 0.0537\n",
       "997   1330    NA12343 1346    NA12044 0.0606\n",
       "1000  1330    NA12343 1347    NA11882 0.0866\n",
       "1004  1330    NA12343 1350    NA11829 0.0577\n",
       "1006  1330    NA12343 1350    NA11831 0.0555\n",
       "1010  1330    NA12343 1353    NA12546 0.0765\n",
       "1014  1330    NA12343 1358    NA12716 0.0568\n",
       "1016  1330    NA12343 1362    NA11992 0.0585\n",
       "1019  1330    NA12343 1362    NA11995 0.0541\n",
       "1023  1330    NA12343 1377    NA11892 0.0578\n",
       "1028  1330    NA12343 1408    NA12156 0.0580\n",
       "1032  1330    NA12343 1418    NA12273 0.0691\n",
       "1037  1330    NA12343 1421    NA12282 0.0613\n",
       "1040  1330    NA12343 1421    NA12287 0.0616\n",
       "1042  1330    NA12343 1423    NA11918 0.0520\n",
       "⋮     ⋮       ⋮       ⋮       ⋮       ⋮     \n",
       "29899 NA20775 NA20775 NA20802 NA20802 0.0656\n",
       "29907 NA20775 NA20775 NA20810 NA20810 0.0501\n",
       "29911 NA20775 NA20775 NA20815 NA20815 0.0516\n",
       "29916 NA20775 NA20775 NA20828 NA20828 0.0658\n",
       "29935 NA20778 NA20778 NA20808 NA20808 0.0561\n",
       "29953 NA20783 NA20783 NA20796 NA20796 0.0665\n",
       "29983 NA20785 NA20785 NA20799 NA20799 0.0559\n",
       "30017 NA20786 NA20786 NA20806 NA20806 0.0579\n",
       "30022 NA20786 NA20786 NA20811 NA20811 0.0505\n",
       "30064 NA20790 NA20790 NA20802 NA20802 0.0585\n",
       "30105 NA20792 NA20792 NA20828 NA20828 0.0717\n",
       "30106 NA20795 NA20795 NA20796 NA20796 0.0586\n",
       "30117 NA20795 NA20795 NA20808 NA20808 0.0552\n",
       "30125 NA20795 NA20795 NA20818 NA20818 0.0654\n",
       "30137 NA20796 NA20796 NA20806 NA20806 0.0511\n",
       "30145 NA20796 NA20796 NA20815 NA20815 0.0610\n",
       "30147 NA20796 NA20796 NA20818 NA20818 0.0629\n",
       "30150 NA20796 NA20796 NA20828 NA20828 0.0660\n",
       "30199 NA20800 NA20800 NA20808 NA20808 0.0612\n",
       "30211 NA20801 NA20801 NA20802 NA20802 0.0838\n",
       "30219 NA20801 NA20801 NA20810 NA20810 0.0603\n",
       "30233 NA20802 NA20802 NA20807 NA20807 0.0677\n",
       "30236 NA20802 NA20802 NA20810 NA20810 0.0523\n",
       "30238 NA20802 NA20802 NA20812 NA20812 0.0702\n",
       "30242 NA20802 NA20802 NA20818 NA20818 0.0584\n",
       "30245 NA20802 NA20802 NA20828 NA20828 0.0620\n",
       "30271 NA20804 NA20804 NA20815 NA20815 0.0551\n",
       "30300 NA20806 NA20806 NA20818 NA20818 0.0561\n",
       "30319 NA20808 NA20808 NA20812 NA20812 0.0532\n",
       "30378 NA20818 NA20818 NA20828 NA20828 0.0816"
      ]
     },
     "metadata": {},
     "output_type": "display_data"
    }
   ],
   "source": [
    "problem_pairs = dups[which(dups$PI_HAT > 0.05),] \n",
    "myvars = c(\"FID1\", \"IID1\", \"FID2\", \"IID2\", \"PI_HAT\") \n",
    "problem_pairs[myvars]"
   ]
  },
  {
   "cell_type": "markdown",
   "metadata": {
    "kernel": "R"
   },
   "source": [
    "Create the following txt file:\n",
    "```\n",
    "1344 NA12057\n",
    "1444 NA12739\n",
    "M033 NA19774\n",
    "```"
   ]
  },
  {
   "cell_type": "markdown",
   "metadata": {
    "kernel": "R"
   },
   "source": [
    "name it ‘IBS_excluded.txt’ and save it to the folder with your PLINK data. Give the command:"
   ]
  },
  {
   "cell_type": "code",
   "execution_count": 21,
   "metadata": {
    "kernel": "Python3"
   },
   "outputs": [
    {
     "name": "stdout",
     "output_type": "stream",
     "text": [
      "Writing Plink_DataQC/IBS_excluded.txt\n"
     ]
    }
   ],
   "source": [
    "%%writefile Plink_DataQC/IBS_excluded.txt\n",
    "1344 NA12057\n",
    "1444 NA12739\n",
    "M033 NA19774"
   ]
  },
  {
   "cell_type": "code",
   "execution_count": 22,
   "metadata": {
    "kernel": "Bash"
   },
   "outputs": [
    {
     "name": "stdout",
     "output_type": "stream",
     "text": [
      "PLINK v1.90b6.18 64-bit (16 Jun 2020)          www.cog-genomics.org/plink/1.9/\n",
      "(C) 2005-2020 Shaun Purcell, Christopher Chang   GNU General Public License v3\n",
      "Logging to GWAS_clean3.log.\n",
      "Options in effect:\n",
      "  --file GWAS_clean2\n",
      "  --out GWAS_clean3\n",
      "  --recode\n",
      "  --remove IBS_excluded.txt\n",
      "\n",
      "7960 MB RAM detected; reserving 3980 MB for main workspace.\n",
      ".ped scan complete (for binary autoconversion).41515161617171718181919192020212121222223232324242525252626272727282829292930303131313232333334343435353636363737383838393940404041414242424343444444454546464647474848484949505051515152525353535454555555565657575758585959596060616161626263636364646565656666676768686869697070707171727272737374747475757676767777787878797980808081818282828383848485858586868787878888898989909091919192929393939494959595969697979798989999100%\n",
      "Performing single-pass .bed write (6363 variants, 247 people).\n",
      "--file: GWAS_clean3-temporary.bed + GWAS_clean3-temporary.bim +14243444546474849505152535455565758596061626364656667686970717273747576777879808182838485868788899091929394%\n",
      "GWAS_clean3-temporary.fam written.\n",
      "6363 variants loaded from .bim file.\n",
      "247 people (125 males, 122 females) loaded from .fam.\n",
      "--remove: 244 people remaining.\n",
      "Using 1 thread (no multithreaded calculations invoked).\n",
      "Before main variant filters, 244 founders and 0 nonfounders present.\n",
      "Calculating allele frequencies... 10111213141516171819202122232425262728293031323334353637383940414243444546474849505152535455565758596061626364656667686970717273747576777879808182838485868788899091929394959697989 done.\n",
      "Warning: 6 het. haploid genotypes present (see GWAS_clean3.hh ); many commands\n",
      "treat these as missing.\n",
      "Total genotyping rate in remaining samples is 0.997225.\n",
      "6363 variants and 244 people pass filters and QC.\n",
      "Note: No phenotypes present.\n",
      "--recode ped to GWAS_clean3.ped + GWAS_clean3.map ... 101112131415161718192021222324252627282930313233343536373839404142434445464748495051525354555657585960616263646566676869707172737475767778798081828384858687888990919293949596979899done.\n"
     ]
    }
   ],
   "source": [
    "plink --file GWAS_clean2 --remove IBS_excluded.txt --recode --out GWAS_clean3"
   ]
  },
  {
   "cell_type": "markdown",
   "metadata": {
    "kernel": "R"
   },
   "source": [
    "Fill in Box 4 and Oval 3."
   ]
  },
  {
   "cell_type": "markdown",
   "metadata": {
    "kernel": "R"
   },
   "source": [
    "As part of QC usually the data is examined for outliers by plotting the first and second principal or multidimensional scaling (MDS) components. Using a subset of markers that have been trimmed to remove LD (r2<0.5). Principal components analysis (PCA) and MDS will be performed in the\n",
    "second part of the exercise to detect outliers and control for populations substructure. Outlier can be due to study subjects coming from different populations e.g. European- and African-Americans or batch effects. If it is suspected that outliers are due to study subjects having been sampled from different populations than data from HapMap can be included to elucidate population membership, e.g. for a study of European-Americans if African-American study subjects are included they would cluster between the European and African HapMap samples. If you perform this type of analysis you should remove the HapMap samples and re-estimate the MDS or PC components before adjusting for population substructure or stratification. For this exercise data is used from HapMap Phase III which consists of CEU (Europeans from Utah), MEX (Mexicans from Los Angeles) and TSI (Tuscans from Italy). Three clusters can be observed that consist of the three data sets but no extreme outliers are observed. This data set is being used for demonstration purposes. Different populations should be analyzed separately and the results can be combined using meta-analysis. In part two of this exercise MDS and PC components will be constructed and analyzed."
   ]
  },
  {
   "cell_type": "markdown",
   "metadata": {
    "kernel": "R"
   },
   "source": [
    "### d. Hardy-Weinberg Equilibrium (HWE):\n",
    "To test for HWE we will test separately in each ancestry group and by case-control status. Therefore, we will need to use information on ancestry and cases-control status. Please note that this should be tested in the 3 different populations separately (CEU, MEX, TSI), but due to the small sample sizes, we tested it in the 3 populations together for example purposes. It should also be noted if the sample sizes are small it is difficult to detect a deviation from HWE."
   ]
  },
  {
   "cell_type": "code",
   "execution_count": 24,
   "metadata": {
    "kernel": "Bash"
   },
   "outputs": [
    {
     "name": "stdout",
     "output_type": "stream",
     "text": [
      "PLINK v1.90b6.18 64-bit (16 Jun 2020)          www.cog-genomics.org/plink/1.9/\n",
      "(C) 2005-2020 Shaun Purcell, Christopher Chang   GNU General Public License v3\n",
      "Logging to plink.log.\n",
      "Options in effect:\n",
      "  --file GWAS_clean3\n",
      "  --hardy\n",
      "  --pheno pheno.txt\n",
      "  --pheno-name Aff\n",
      "\n",
      "7960 MB RAM detected; reserving 3980 MB for main workspace.\n",
      ".ped scan complete (for binary autoconversion).51515161617171818181919202020212122222223232424242525262627272728282929293030313131323233333434343535363636373738383839394040404141424243434344444545454646474747484849494950505151525252535354545455555656565757585859595960606161616262636363646465656566666767686868696970707071717272727373747474757576767777777878797979808081818182828383848484858586868687878888888989909090919192929393939494959595969697979798989999100%\n",
      "Performing single-pass .bed write (6363 variants, 244 people).\n",
      "--file: plink-temporary.bed + plink-temporary.bim + plink-temporary.fam546474849505152535455565758596061626364656667686970717273747576777879808182838485868788899091929394%\n",
      "written.\n",
      "6363 variants loaded from .bim file.\n",
      "244 people (123 males, 121 females) loaded from .fam.\n",
      "244 phenotype values present after --pheno.\n",
      "Using 1 thread (no multithreaded calculations invoked).\n",
      "Before main variant filters, 244 founders and 0 nonfounders present.\n",
      "Calculating allele frequencies... 10111213141516171819202122232425262728293031323334353637383940414243444546474849505152535455565758596061626364656667686970717273747576777879808182838485868788899091929394959697989 done.\n",
      "Warning: 6 het. haploid genotypes present (see plink.hh ); many commands treat\n",
      "these as missing.\n",
      "Total genotyping rate is 0.997225.\n",
      "--hardy: Writing Hardy-Weinberg report (founders only) to plink.hwe ... 101112131415161718192021222324252627282930313233343536373839404142434445464748495051525354555657585960616263646566676869707172737475767778798081828384858687888990919293949596979899done.\n"
     ]
    }
   ],
   "source": [
    "plink --file GWAS_clean3 --pheno pheno.txt --pheno-name Aff --hardy"
   ]
  },
  {
   "cell_type": "markdown",
   "metadata": {
    "kernel": "R"
   },
   "source": [
    "Using R examine the file `plink.hwe` and look for SNPs with p-values of 10-7 or smaller."
   ]
  },
  {
   "cell_type": "code",
   "execution_count": 25,
   "metadata": {
    "kernel": "R"
   },
   "outputs": [
    {
     "data": {
      "text/html": [
       "<ol class=list-inline>\n",
       "\t<li>'CHR'</li>\n",
       "\t<li>'SNP'</li>\n",
       "\t<li>'TEST'</li>\n",
       "\t<li>'A1'</li>\n",
       "\t<li>'A2'</li>\n",
       "\t<li>'GENO'</li>\n",
       "\t<li>'O.HET.'</li>\n",
       "\t<li>'E.HET.'</li>\n",
       "\t<li>'P'</li>\n",
       "</ol>\n"
      ],
      "text/latex": [
       "\\begin{enumerate*}\n",
       "\\item 'CHR'\n",
       "\\item 'SNP'\n",
       "\\item 'TEST'\n",
       "\\item 'A1'\n",
       "\\item 'A2'\n",
       "\\item 'GENO'\n",
       "\\item 'O.HET.'\n",
       "\\item 'E.HET.'\n",
       "\\item 'P'\n",
       "\\end{enumerate*}\n"
      ],
      "text/markdown": [
       "1. 'CHR'\n",
       "2. 'SNP'\n",
       "3. 'TEST'\n",
       "4. 'A1'\n",
       "5. 'A2'\n",
       "6. 'GENO'\n",
       "7. 'O.HET.'\n",
       "8. 'E.HET.'\n",
       "9. 'P'\n",
       "\n",
       "\n"
      ],
      "text/plain": [
       "[1] \"CHR\"    \"SNP\"    \"TEST\"   \"A1\"     \"A2\"     \"GENO\"   \"O.HET.\" \"E.HET.\"\n",
       "[9] \"P\"     "
      ]
     },
     "metadata": {},
     "output_type": "display_data"
    },
    {
     "data": {
      "text/html": [
       "<table>\n",
       "<caption>A data.frame: 4 × 9</caption>\n",
       "<thead>\n",
       "\t<tr><th></th><th scope=col>CHR</th><th scope=col>SNP</th><th scope=col>TEST</th><th scope=col>A1</th><th scope=col>A2</th><th scope=col>GENO</th><th scope=col>O.HET.</th><th scope=col>E.HET.</th><th scope=col>P</th></tr>\n",
       "\t<tr><th></th><th scope=col>&lt;int&gt;</th><th scope=col>&lt;fct&gt;</th><th scope=col>&lt;fct&gt;</th><th scope=col>&lt;fct&gt;</th><th scope=col>&lt;fct&gt;</th><th scope=col>&lt;fct&gt;</th><th scope=col>&lt;dbl&gt;</th><th scope=col>&lt;dbl&gt;</th><th scope=col>&lt;dbl&gt;</th></tr>\n",
       "</thead>\n",
       "<tbody>\n",
       "\t<tr><th scope=row>622</th><td>1</td><td>rs2968487 </td><td>ALL  </td><td>T</td><td>C</td><td>0/124/114</td><td>0.5210</td><td>0.3853</td><td>3.877e-10</td></tr>\n",
       "\t<tr><th scope=row>624</th><td>1</td><td>rs2968487 </td><td>UNAFF</td><td>T</td><td>C</td><td>0/83/70  </td><td>0.5425</td><td>0.3953</td><td>2.262e-07</td></tr>\n",
       "\t<tr><th scope=row>787</th><td>1</td><td>rs11239985</td><td>ALL  </td><td>G</td><td>A</td><td>0/111/128</td><td>0.4644</td><td>0.3566</td><td>7.625e-08</td></tr>\n",
       "\t<tr><th scope=row>2386</th><td>2</td><td>rs12988076</td><td>ALL  </td><td>C</td><td>A</td><td>69/82/93 </td><td>0.3361</td><td>0.4952</td><td>6.973e-07</td></tr>\n",
       "</tbody>\n",
       "</table>\n"
      ],
      "text/latex": [
       "A data.frame: 4 × 9\n",
       "\\begin{tabular}{r|lllllllll}\n",
       "  & CHR & SNP & TEST & A1 & A2 & GENO & O.HET. & E.HET. & P\\\\\n",
       "  & <int> & <fct> & <fct> & <fct> & <fct> & <fct> & <dbl> & <dbl> & <dbl>\\\\\n",
       "\\hline\n",
       "\t622 & 1 & rs2968487  & ALL   & T & C & 0/124/114 & 0.5210 & 0.3853 & 3.877e-10\\\\\n",
       "\t624 & 1 & rs2968487  & UNAFF & T & C & 0/83/70   & 0.5425 & 0.3953 & 2.262e-07\\\\\n",
       "\t787 & 1 & rs11239985 & ALL   & G & A & 0/111/128 & 0.4644 & 0.3566 & 7.625e-08\\\\\n",
       "\t2386 & 2 & rs12988076 & ALL   & C & A & 69/82/93  & 0.3361 & 0.4952 & 6.973e-07\\\\\n",
       "\\end{tabular}\n"
      ],
      "text/markdown": [
       "\n",
       "A data.frame: 4 × 9\n",
       "\n",
       "| <!--/--> | CHR &lt;int&gt; | SNP &lt;fct&gt; | TEST &lt;fct&gt; | A1 &lt;fct&gt; | A2 &lt;fct&gt; | GENO &lt;fct&gt; | O.HET. &lt;dbl&gt; | E.HET. &lt;dbl&gt; | P &lt;dbl&gt; |\n",
       "|---|---|---|---|---|---|---|---|---|---|\n",
       "| 622 | 1 | rs2968487  | ALL   | T | C | 0/124/114 | 0.5210 | 0.3853 | 3.877e-10 |\n",
       "| 624 | 1 | rs2968487  | UNAFF | T | C | 0/83/70   | 0.5425 | 0.3953 | 2.262e-07 |\n",
       "| 787 | 1 | rs11239985 | ALL   | G | A | 0/111/128 | 0.4644 | 0.3566 | 7.625e-08 |\n",
       "| 2386 | 2 | rs12988076 | ALL   | C | A | 69/82/93  | 0.3361 | 0.4952 | 6.973e-07 |\n",
       "\n"
      ],
      "text/plain": [
       "     CHR SNP        TEST  A1 A2 GENO      O.HET. E.HET. P        \n",
       "622  1   rs2968487  ALL   T  C  0/124/114 0.5210 0.3853 3.877e-10\n",
       "624  1   rs2968487  UNAFF T  C  0/83/70   0.5425 0.3953 2.262e-07\n",
       "787  1   rs11239985 ALL   G  A  0/111/128 0.4644 0.3566 7.625e-08\n",
       "2386 2   rs12988076 ALL   C  A  69/82/93  0.3361 0.4952 6.973e-07"
      ]
     },
     "metadata": {},
     "output_type": "display_data"
    }
   ],
   "source": [
    "hardy = read.table(\"plink.hwe\", header = T) \n",
    "names(hardy)\n",
    "hwe_prob = hardy[which(hardy$P < 0.0000009),] \n",
    "hwe_prob"
   ]
  },
  {
   "cell_type": "markdown",
   "metadata": {
    "kernel": "R"
   },
   "source": [
    "Using a criterion of p <10-7 to reject the null hypothesis of HWE, how many SNPs fail HWE in the controls? Fill out Oval 5 and Box 4. Using the same criteria, how many SNPs fail HWE in the controls? Complete Table 2 with this information.\n",
    "\n",
    "![](./img/plink/plink_qc_table3.png)"
   ]
  },
  {
   "cell_type": "markdown",
   "metadata": {
    "kernel": "R"
   },
   "source": [
    "Create a text file called HWE_out.txt with the following SNP in it:\n",
    "```\n",
    "rs2968487\n",
    "```\n",
    "and type the following command:"
   ]
  },
  {
   "cell_type": "code",
   "execution_count": 26,
   "metadata": {
    "kernel": "Python3"
   },
   "outputs": [
    {
     "name": "stdout",
     "output_type": "stream",
     "text": [
      "Writing Plink_DataQC/HWE_out.txt\n"
     ]
    }
   ],
   "source": [
    "%%writefile Plink_DataQC/HWE_out.txt\n",
    "rs2968487"
   ]
  },
  {
   "cell_type": "code",
   "execution_count": 28,
   "metadata": {
    "kernel": "Bash"
   },
   "outputs": [
    {
     "name": "stdout",
     "output_type": "stream",
     "text": [
      "PLINK v1.90b6.18 64-bit (16 Jun 2020)          www.cog-genomics.org/plink/1.9/\n",
      "(C) 2005-2020 Shaun Purcell, Christopher Chang   GNU General Public License v3\n",
      "Logging to GWAS_clean4.log.\n",
      "Options in effect:\n",
      "  --exclude HWE_out.txt\n",
      "  --file GWAS_clean3\n",
      "  --out GWAS_clean4\n",
      "  --recode\n",
      "\n",
      "7960 MB RAM detected; reserving 3980 MB for main workspace.\n",
      ".ped scan complete (for binary autoconversion).51515161617171818181919202020212122222223232424242525262627272728282929293030313131323233333434343535363636373738383839394040404141424243434344444545454646474747484849494950505151525252535354545455555656565757585859595960606161616262636363646465656566666767686868696970707071717272727373747474757576767777777878797979808081818182828383848484858586868687878888888989909090919192929393939494959595969697979798989999100%\n",
      "Performing single-pass .bed write (6363 variants, 244 people).\n",
      "--file: GWAS_clean4-temporary.bed + GWAS_clean4-temporary.bim +14243444546474849505152535455565758596061626364656667686970717273747576777879808182838485868788899091929394%\n",
      "GWAS_clean4-temporary.fam written.\n",
      "6363 variants loaded from .bim file.\n",
      "244 people (123 males, 121 females) loaded from .fam.\n",
      "--exclude: 6362 variants remaining.\n",
      "Using 1 thread (no multithreaded calculations invoked).\n",
      "Before main variant filters, 244 founders and 0 nonfounders present.\n",
      "Calculating allele frequencies... 10111213141516171819202122232425262728293031323334353637383940414243444546474849505152535455565758596061626364656667686970717273747576777879808182838485868788899091929394959697989 done.\n",
      "Warning: 6 het. haploid genotypes present (see GWAS_clean4.hh ); many commands\n",
      "treat these as missing.\n",
      "Total genotyping rate is 0.997229.\n",
      "6362 variants and 244 people pass filters and QC.\n",
      "Note: No phenotypes present.\n",
      "--recode ped to GWAS_clean4.ped + GWAS_clean4.map ... 101112131415161718192021222324252627282930313233343536373839404142434445464748495051525354555657585960616263646566676869707172737475767778798081828384858687888990919293949596979899done.\n"
     ]
    }
   ],
   "source": [
    "plink --file GWAS_clean3 --exclude HWE_out.txt --recode --out GWAS_clean4"
   ]
  },
  {
   "cell_type": "markdown",
   "metadata": {
    "kernel": "R"
   },
   "source": [
    "There are a number of SNPs with HWE p-values in the range of 10-5 to 10-6 in the controls. Based on above criterion they will not be excluded however, if they reach genome-wide significance during association testing they SNPs should be further investigated to ensure there is no genotyping error. You can now fill in Box 5 and Oval 4.\n",
    "\n",
    "![](./img/plink/plink_qc_boxandoval.png)"
   ]
  },
  {
   "cell_type": "markdown",
   "metadata": {
    "kernel": "R"
   },
   "source": [
    "## 3. Questions"
   ]
  },
  {
   "cell_type": "markdown",
   "metadata": {
    "kernel": "R"
   },
   "source": [
    "**Question 1:** Why do you expect the homozygosity rate to be higher on the X chromosome in males than females?"
   ]
  },
  {
   "cell_type": "markdown",
   "metadata": {
    "kernel": "R"
   },
   "source": [
    "**Question 2:** How many duplicate pairs do your find (hint: Pi-Hat = ~1)? Do pairs with a Pi-Hat = ~1 have to be duplicate samples? What is another explanation? What proportion would you expect a parent/ child to share IBD? Can you find any such relationship?"
   ]
  },
  {
   "cell_type": "markdown",
   "metadata": {
    "kernel": "R"
   },
   "source": [
    "## 4. Answers"
   ]
  },
  {
   "cell_type": "markdown",
   "metadata": {
    "kernel": "R"
   },
   "source": [
    "**Answer 1:** Because males only have one allele for each SNP on the X chromosome they\n",
    "  will appear homozygous.\n",
    "  \n",
    "![](./img/plink/plink_qc_table1_filled.png)\n",
    "\n",
    "![](./img/plink/plink_qc_table2_filled.png)"
   ]
  },
  {
   "cell_type": "markdown",
   "metadata": {
    "kernel": "R"
   },
   "source": [
    "**Answer 2:** There are two duplicate pairs and also a trio (two parents and a child). Parent/child relationships will have a Pi_Hat value of ~0.5, but so will sibpairs. We can tell that this is a parent child relationship by examine Z(0), Z(1) and Z(2). We will retain only one sample from each duplicate pair and the parents NA12749 and NA12748. If you perform mixed-model analysis related individuals can be retained in the sample.\n",
    "\n",
    "![](./img/plink/plink_qc_table3_filled.png)\n",
    "\n",
    "![](./img/plink/plink_qc_boxandoval_filled.png)"
   ]
  },
  {
   "cell_type": "code",
   "execution_count": null,
   "metadata": {
    "kernel": "SoS"
   },
   "outputs": [],
   "source": []
  }
 ],
 "metadata": {
  "kernelspec": {
   "display_name": "SoS",
   "language": "sos",
   "name": "sos"
  },
  "language_info": {
   "codemirror_mode": "sos",
   "file_extension": ".sos",
   "mimetype": "text/x-sos",
   "name": "sos",
   "nbconvert_exporter": "sos_notebook.converter.SoS_Exporter",
   "pygments_lexer": "sos"
  },
  "sos": {
   "kernels": [
    [
     "Bash",
     "bash",
     "Bash",
     "#E6EEFF",
     "shell"
    ],
    [
     "Python3",
     "python3",
     "Python3",
     "#FFD91A",
     {
      "name": "ipython",
      "version": 3
     }
    ],
    [
     "R",
     "ir",
     "R",
     "#DCDCDA",
     "r"
    ]
   ],
   "version": "0.22.9"
  }
 },
 "nbformat": 4,
 "nbformat_minor": 4
}
