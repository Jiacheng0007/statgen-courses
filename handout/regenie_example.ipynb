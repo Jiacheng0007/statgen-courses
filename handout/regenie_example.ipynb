{
 "cells": [
  {
   "cell_type": "markdown",
   "id": "8c754910-1461-4fed-963a-fc4c1b037c21",
   "metadata": {
    "kernel": "Bash"
   },
   "source": [
    "# GWAS: Regenie for single variant and burden analysis in a public data-set"
   ]
  },
  {
   "cell_type": "markdown",
   "id": "75645a3a-df60-4803-b498-c5f1ab286169",
   "metadata": {
    "kernel": "SoS"
   },
   "source": [
    "Here we show a how to run a genome wide association analysis (GWAS) using regenie with our `regenie.ipynb` pipeline using a public dataset from 1000 genomes. \n",
    "\n",
    "This tutorial has been created to be run on a single computer (a desktop, laptop, or a single interactive node on a cluster). The pipeline has been implemented in SoS workflow language and can be configured to run in parallel on a high performance computing cluster environment. Please read the [SoS documentation](https://vatlab.github.io/sos-docs/doc/user_guide/host_setup.html) on how to configure the software and workflow to efficiently perform the analysis for real-world data."
   ]
  },
  {
   "cell_type": "markdown",
   "id": "657aa690-10df-440b-ac0f-38377a596b95",
   "metadata": {
    "kernel": "SoS"
   },
   "source": [
    "## Introduction\n",
    "\n",
    "Over the past few years, there have been many tools created to run GWAS with increasing number of samples and genetic variants. Aditionally, these softwares use linear mixed models (LMM) to account for population structure, sample relatedness and estimate the genetic architecture of complex traits. BoltLMM, FastGWA and [Regenie](https://rgcgithub.github.io/regenie/) are some of them. \n",
    "\n",
    "Regenie can perform GWAS's in very large datases such as the UK Biobank.\n",
    "\n",
    "## Regenie properties\n",
    "\n",
    "1. Works with quantitative and binary traits (case-control), including those with unbalanced samples case-control ratio. Supports Firth logistic regression and SPA for binary traits.\n",
    "2. Uses linear mixed models (LMM) for quantitative traits and generalized LMM (GLMM) for binary traits, allowing for the inclusion of related individuals. \n",
    "3. Offers the advantage of processing multiple phenotypes at the same time. However you should be aware that quantitave or binary traits need to be analyzed separately. Also, the proportion of missing data should be similar for all of the traits analyzed at once, since it can impact predictions. Authors of regenie recommend to analyze traits in groups that have similar missingness patterns with resonably low amount of missingness (<15%).\n",
    "4. It can handle different types of data (microarray, imputed, exome sequencing) and formats (PLINK:bed/bim/fam, PLINK2:pgen/pvar/psam and BGEN).\n",
    "5. It is desgined to handle a large number of samples ~500K. Regenie is not appropiate to analyze small samples\n",
    "6. Integrates covariates into the model.\n",
    "\n",
    "## Method\n",
    "\n",
    "Regenie works in two different steps that are independent from each other. \n",
    "\n",
    "### Step 1. \n",
    "\n",
    "The first step is where it fits the null regression model, for this regenie uses a subset of genetic markers that capture a good proportion of the phenotype variance that is attributable to genetic effects\n",
    "\n",
    "- Level 0: Ridge regression applied to block of SNPs to reduce dimensions\n",
    "- Level 1: Linear or logistic ridge regressions within cross validation scheme\n",
    "\n",
    "### Step 2.\n",
    "\n",
    "A larger set of genetic markers is used to test for association, using a linear or logistic regression, with the traits conditional upon the prediction from the regression model on step 1. This is done by using the Leave One Chromosome Out (LOCO) scheme to avoid proximal contamination. "
   ]
  },
  {
   "cell_type": "markdown",
   "id": "f10c9750-45b8-4f01-aae6-83a0a89feb85",
   "metadata": {
    "kernel": "SoS"
   },
   "source": [
    "## Pre-requisites\n",
    "\n",
    "In order to run this workflow you will need to have installed [docker](https://docs.docker.com/get-docker/) in you local computer previously, and have created an account.\n"
   ]
  },
  {
   "cell_type": "markdown",
   "id": "2f16b830-702a-4b58-a8e1-68d7ffdf6439",
   "metadata": {
    "kernel": "SoS"
   },
   "source": [
    "## Data "
   ]
  },
  {
   "cell_type": "markdown",
   "id": "187cda84-d117-4db7-b2a1-6f1cd1992b28",
   "metadata": {
    "kernel": "SoS"
   },
   "source": [
    "## Genotype data\n",
    "\n",
    "For this exercise we will use data from 1000 genomes pubicly available database downloaded from [MAGMA](https://ctg.cncr.nl/software/magma).The number of individuals in this data is n=489.\n",
    "\n",
    "Please note that this is only an example dataset for real life applications a much larger sample size is necessary. Also due to the use of different populations the use of principal components may be necessary to avoid increased type I error. \n",
    "\n",
    "```\n",
    "1000G.EUR.mwe.pruned.fam\n",
    "1000G.EUR.mwe.pruned.bim\n",
    "1000G.EUR.mwe.pruned.bed\n",
    "```\n",
    "\n",
    "The genotype file has been pruned in advance to make sure the excercise can be finished in a reasonable amount of time. For reproducibility these are the commands that have been used for pruning\n",
    "\n",
    "```\n",
    "plink2 --bfile 1000G.EUR --indep-pairwise 100 10 0.01 --out 1000G.EUR.mwe\n",
    "plink2 --bfile 1000G.EUR --extract 1000G.EUR.mwe.prune.in --make-bed --out 1000G.EUR.mwe.pruned\n",
    "```\n",
    "\n",
    "\n",
    "## Phenotype file\n",
    "\n",
    "For the 1000G data there is not phenotype data available. Therefore we have create a phenotype `x` by randomly assigning study subjects as cases and controls. Therefore the data is generated under the null of no association. \n",
    "\n",
    "```\n",
    "library(dplyr)\n",
    "EUR_subset_fam <- read.table('1000G.EUR.fam',  head=F)\n",
    "colnames(EUR_subset_fam) <- c(\"FID\", \"IID\", \"mother\", \"father\", \"sex\", \"phenotype\")\n",
    "EUR_subset_fam$x <- sample(c(0,1), replace=TRUE, size=489)\n",
    "EUR_subset_fam$sex <- sample(c(0,1), replace=TRUE, size=489)\n",
    "pheno <- EUR_subset_fam %>%\n",
    "    select('FID', \"IID\", \"sex\", \"x\")\n",
    "head(pheno)\n",
    "write.table(pheno,'1000G.EUR.pheno.x', sep=\"\\t\",row.names=F, quote=F)\n",
    "```"
   ]
  },
  {
   "cell_type": "code",
   "execution_count": null,
   "id": "a332af4f-e3f0-41d1-85ab-5fc5302c77aa",
   "metadata": {
    "kernel": "Bash",
    "tags": []
   },
   "outputs": [],
   "source": [
    "tree"
   ]
  },
  {
   "cell_type": "markdown",
   "id": "3ff57614-1e02-4d09-bcdf-e1133b032d09",
   "metadata": {
    "kernel": "Bash",
    "tags": []
   },
   "source": [
    "## 1. Runing the single variant association analysis"
   ]
  },
  {
   "cell_type": "markdown",
   "id": "ec4d655c-2b0d-4e4b-83bc-5012a66339bd",
   "metadata": {
    "kernel": "SoS"
   },
   "source": [
    "**1. Prepare the data**\n",
    "\n",
    "In this example, we are going to use a subset of genetic markers from the data to fit the null model of step 1. \n",
    "\n",
    "This process has been already integrated in the [LMM pipeline](https://github.com/cumc/bioworkflows/blob/master/GWAS/LMM.ipynb) under the `regenie_qc` step. It is recommended to use the data from the genotype array in this step, as it provides better estimates of the phenotype variance. \n",
    "\n",
    "Note: make sure you don't have any SNVs with a very low minor allele count (MAC) for the single variant analysis, otherwise regenie will give an error message. \n",
    "\n",
    "Let the parameters for the initial quality control be:\n",
    "\n",
    "- maf_filter=0.01, we will keep only variants with MAF >1%\n",
    "- geno_filter=0.1, we will remove variants with > 10% genotypes missing\n",
    "- mind_filter=0.1, we will remove individals with > 10% genotypes missing \n",
    "- hwe_filter=5e-08, we will remove variants exceding a p-value for HWE > 5E-08\n",
    "\n",
    "The output produced in this part consist of two files:\n",
    "\n",
    "`1000G.EUR.mwe.pruned.qc_pass.id` and `1000G.EUR.mwe.pruned.snplist`, these contain the list of individuals and variants to keep in the step 1 of regenie. \n",
    "\n",
    "In this MWE we keep n=102,497 variants and n=489 samples that pass our QC filters. \n",
    "\n",
    "\n",
    "**2. Fitting the null**\n",
    "\n",
    "In this step, we will use the genotype file and we will tell regenie which samples and variants to keep based on the results of our QC. \n",
    "\n",
    "- bfile=1000G.EUR.mwe.pruned, we will use a subset of the genotyped genetic markers to calculate the predictions.\n",
    "- block_size=1000 this will tell the program in how many \"chunks\" to divide the genotype file to make predictions\n",
    "\n",
    "The output produced in this step corresponds to: \n",
    "\n",
    "- A set of files (depending on the number of phenotypes analyzed) containing genomic predictions for each phenotype from Step 1 `1000G.EUR.pheno_x.regenie_1.loco`\n",
    "- A file called `1000G.EUR.pheno_x.regenie_pred.list` listing the locations of the prediction files\n",
    "\n",
    "**3. Association analysis**\n",
    "\n",
    "In this step, namely step 2 of regenie, it will perform the single variant association analysis with each of the phenotypes. \n",
    "\n",
    "Note: a convenient quality of REGENIE is that step 1 and 2 are decoupled meaning that you can use all of the traits used in step 1 or just a subset of them for the association analysis. Also, you can test the association using array, exomed or imputed variants. \n",
    "\n",
    "For this example, we will use our phenotype x with the following parameters:\n",
    "\n",
    "- trait='bt' Here you define whether your trait is binary of quantitative. \n",
    "- covarCol=sex. In our particular case we will only use sex as covariate. However, if you have more than one categorical covariate you can input them here separeted by comma\n",
    "- qCovarCol We will leave this variable empty in our analysis, but as above you can give a list of quantitative variables. \n",
    "- minMac=5 this flag is used to tell the program which minimum minor allele count (MAC) to use when testing variants, default value is 5. In real data applications you may want to set threshold depending on the power to detect associations based on your sample size. \n",
    "\n",
    "Depending on the type of data you are using, there are other useful parameters that you can explore. For example, with imputed data you may want to set the minimum info score to use (`--minINFO`), with quantitative phenotypes you may choose to use an inverse rank normalization (`--apply-rint`), for binary traits you can decide whether to use Firth (`--firth`) or Saddle Point Approximation (`--spa`) corrections.\n",
    "\n",
    "The output produced in this step corresponds to:\n",
    "\n",
    "- Summary statistics in a file with `*.regenie` extension, if option `-gz` was used this files will be compressed `*.regenie.gz`"
   ]
  },
  {
   "cell_type": "markdown",
   "id": "d07c75e6-5a71-4ef4-9843-509b003b01f5",
   "metadata": {
    "kernel": "R"
   },
   "source": [
    "### REGENIE: single variant association analysis"
   ]
  },
  {
   "cell_type": "markdown",
   "id": "a1579068-739b-4d67-9ad9-87ce3c7655e1",
   "metadata": {
    "kernel": "SoS"
   },
   "source": [
    "We set the work directory to mwe_regenie folder (to be created by the workflow)."
   ]
  },
  {
   "cell_type": "code",
   "execution_count": null,
   "id": "83327479-32bd-4242-8c89-65a0d3d37266",
   "metadata": {
    "kernel": "Bash"
   },
   "outputs": [],
   "source": [
    "wd='mwe_regenie'"
   ]
  },
  {
   "cell_type": "markdown",
   "id": "074c73a3-8b9c-4d17-a8fc-4df81cdcc78b",
   "metadata": {
    "kernel": "Bash"
   },
   "source": [
    "Now, we run the workflow `regenie` with the specific parameters. Please note that in this particular case, we are using the same file for calculating the predictions on Step 1 of regenie and for the association itself. However, for real life applications you may use different sets of files. For example genotype array data in bfile and exome sequencing data in the genoFile. \n",
    "\n",
    "Note: when you execute the cell using (shift + enter), a star will appear on the left side inside the box. When the star dissapears it means that the run has finished. \n"
   ]
  },
  {
   "cell_type": "code",
   "execution_count": null,
   "id": "0b1e5ee2-7db7-4cec-a0fd-71bba4d436a5",
   "metadata": {
    "kernel": "Bash"
   },
   "outputs": [],
   "source": [
    "sos run regenie.ipynb regenie \\\n",
    "    --cwd $wd/output \\\n",
    "    --bfile $wd/1000G.EUR.mwe.pruned.bed \\\n",
    "    --maf-filter 0.01 \\\n",
    "    --geno-filter 0.1 \\\n",
    "    --mind-filter 0.1 \\\n",
    "    --hwe_filter 5e-08 \\\n",
    "    --genoFile $wd/1000G.EUR.mwe.pruned.bed\\\n",
    "    --phenoFile $wd/1000G.EUR.pheno.x \\\n",
    "    --formatFile $wd/regenie_template.yml\\\n",
    "    --phenoCol x\\\n",
    "    --covarCol sex \\\n",
    "    --qCovarCol \\\n",
    "    --numThreads 8 \\\n",
    "    --bsize 1000 \\\n",
    "    --trait bt \\\n",
    "    --minMAC 5 \\\n",
    "    --reverse_log_p \\\n",
    "    --p-filter 1 "
   ]
  },
  {
   "cell_type": "markdown",
   "id": "3b1247f8-8cc9-42b8-8498-4da99ebc4f51",
   "metadata": {
    "kernel": "Bash"
   },
   "source": [
    "Now let's visualize the results of the association"
   ]
  },
  {
   "cell_type": "markdown",
   "id": "fcbd48d9-d631-4f37-aafb-d574384b323a",
   "metadata": {
    "kernel": "Bash"
   },
   "source": [
    "#### Manhattan plot"
   ]
  },
  {
   "cell_type": "code",
   "execution_count": null,
   "id": "2760d85f-f3b0-4e36-a8e6-0cd6c0694781",
   "metadata": {
    "kernel": "Bash"
   },
   "outputs": [],
   "source": [
    "%preview -s png mwe_regenie/output/1000G.EUR.pheno_x.regenie.manhattan.png"
   ]
  },
  {
   "cell_type": "markdown",
   "id": "ec6f2705-0a45-4cba-88a1-bcf68c07d046",
   "metadata": {
    "kernel": "Bash"
   },
   "source": [
    "#### Q-Q plot"
   ]
  },
  {
   "cell_type": "code",
   "execution_count": null,
   "id": "c1ef2b54-61e3-4747-8419-fb4010253518",
   "metadata": {
    "kernel": "Bash"
   },
   "outputs": [],
   "source": [
    "%preview -s png mwe_regenie/output/1000G.EUR.pheno_x.regenie.qq.png"
   ]
  },
  {
   "cell_type": "markdown",
   "id": "f5d7a329-048a-470e-9e5e-65ad21c09328",
   "metadata": {
    "kernel": "Bash"
   },
   "source": [
    "**Question:** What is the inflation (lambda GC) value for this run? \n"
   ]
  },
  {
   "cell_type": "markdown",
   "id": "3d21666a-eb3d-4444-86bf-5b344551dd8b",
   "metadata": {
    "kernel": "Bash"
   },
   "source": [
    "#### Lambda GC value\n",
    "\n",
    "You can get a general idea of the number or cases/controls, the number of variants analyzed and the lambda GC values by taking a look at the markdown file generated in the `output` folder. "
   ]
  },
  {
   "cell_type": "code",
   "execution_count": null,
   "id": "d4e34930-db23-4ea3-83a0-7421e003d47f",
   "metadata": {
    "kernel": "Bash"
   },
   "outputs": [],
   "source": [
    "cat $wd/output/1000G.EUR.pheno_x.regenie.analysis_summary.md"
   ]
  },
  {
   "cell_type": "markdown",
   "id": "ba3ccfa5-5a23-4151-b83c-ba582387d008",
   "metadata": {
    "kernel": "SoS"
   },
   "source": [
    "## 2. Regenie : burden test"
   ]
  },
  {
   "cell_type": "markdown",
   "id": "2271448f-0375-4310-8c34-1e53392d59bc",
   "metadata": {
    "kernel": "SoS"
   },
   "source": [
    "Regenie offers the functionality of performing rare-variant aggregate association analysis in the form of burden tests.  \n",
    "\n",
    "You can combine rare-variants in a gene or a region, using functional annotations to create masks that are then tested for association (as in a single variant analysis) with a phenotype. \n",
    "\n",
    "### Input files:\n",
    "\n",
    "1. You will need to provide an `annotation file` that is formatted: variant_id, gene/region, functional annotation (e.g. LoF, missense). You can use VEP or ANNOVAR to generate this information and then format it accordingly. \n",
    "2. Provide the `set-list-file`: this file contains a list of variants within each gene/region that's used when building the masks. The format is: gene/region name, chromosome, start_position, list of variants in the gene/region separated by comma. \n",
    "3. Optional: provide a file with genes/regions that you want to include or exclude from your analysis.\n",
    "4. Optional: provide an `allele-frequency` file to use when creating the masks. By default the allele frequency is computed from the sample. In our case we are providing an allele-frequency file, obtained from gnomAD exome frequencies. We will use the AF_nfe field which contains the allele frequencies from exome data for non Finnish Europeans available in gnomAD. \n",
    "5. Mask file: this is a text file that contains the name of the mask and the type of annotations to use when building it (one mask per line). E.g. \n",
    "\n",
    "```\n",
    "mask1 LoF,missense\n",
    "```\n",
    "\n",
    "6. You need to provide the `--aaf-bins` cut-off in the parameters. This refers to the AAF upper bounds to use when creating the masks. By default regenie_burden produces results for singletons and if you set `--aaf-bins` to be for example 0.01 it will create masks from  [0,0.01] and singletons. \n",
    "\n",
    "Additionally, you can choose the way the mask are built among these options:\n",
    "- using the maximum number of ALT alleles across sites ('max'; the default)\n",
    "- using the sum of ALT alleles ('sum')\n",
    "- using a maximum threshold of 2 ('comphet')\n",
    "\n",
    "![Rules to build mask](https://rgcgithub.github.io/regenie/img/mask_rules.png)\n",
    "\n",
    "\n",
    "For this MWE we have already generated the annotation, the set list, the allele frequency and the mask files that are provided in the `data` folder. "
   ]
  },
  {
   "cell_type": "markdown",
   "id": "3601c5b1-7a59-4ed0-a534-8012033d1800",
   "metadata": {
    "kernel": "Bash"
   },
   "source": [
    "### REGENIE: burden test"
   ]
  },
  {
   "cell_type": "code",
   "execution_count": null,
   "id": "638edd89-3dd0-4930-ba9b-a8c70ec490f5",
   "metadata": {
    "kernel": "Bash"
   },
   "outputs": [],
   "source": [
    "sos run regenie.ipynb regenie_burden \\\n",
    "    --cwd $wd/output_burden \\\n",
    "    --bfile $wd/1000G.EUR.mwe.pruned.bed \\\n",
    "    --maf-filter 0.01 \\\n",
    "    --geno-filter 0.1 \\\n",
    "    --mind-filter 0.1 \\\n",
    "    --hwe_filter 5e-08 \\\n",
    "    --genoFile $wd/1000G.EUR.mwe.pruned.bed \\\n",
    "    --phenoFile  $wd/1000G.EUR.pheno.x \\\n",
    "    --formatFile $wd/regenie_template.yml\\\n",
    "    --phenoCol x \\\n",
    "    --covarCol sex \\\n",
    "    --qCovarCol \\\n",
    "    --numThreads 8 \\\n",
    "    --bsize 1000 \\\n",
    "    --trait bt \\\n",
    "    --minMAC 1 \\\n",
    "    --reverse_log_p \\\n",
    "    --p-filter 1 \\\n",
    "    --anno_file $wd/*.anno_file\\\n",
    "    --aaf_file $wd/*.aff_file\\\n",
    "    --set_list $wd/*.set_list_file\\\n",
    "    --mask_file $wd/*.mask_file\\\n",
    "    --build_mask max\\\n",
    "    --aaf_bins  0.01 -s build"
   ]
  },
  {
   "cell_type": "markdown",
   "id": "1e6db80c-75cc-4f6f-9364-b5361f68c524",
   "metadata": {
    "kernel": "Bash"
   },
   "source": [
    "### Output files\n",
    "\n",
    "After running regenie burden you will find the following output files in the `output_burden` folder:\n",
    "\n",
    "* `1000G.EUR.pheno_x.regenie_burden.mask1.0.01.snp_stats.gz` This file contains the results only for mask1 and 0.01 bin\n",
    "* `1000G.EUR.pheno_x.regenie_burden.mask1.0.01.manhattan.png` Manhattan pot\n",
    "* `1000G.EUR.pheno_x.regenie_burden.mask1.0.01.qq.png` Q-Q plot\n",
    "* `1000G.EUR.pheno_x.regenie_burden.mask1.0.01.analysis_summary.md` Markdown file with summarized information\n",
    "\n",
    "You can see that manhattan and qqplots have been generated for mask1 with the 0.01 bin combination. "
   ]
  },
  {
   "cell_type": "markdown",
   "id": "efd17f0b-7a63-4d42-8158-2b234b70c05a",
   "metadata": {
    "kernel": "Bash"
   },
   "source": [
    "### Manhattan plot"
   ]
  },
  {
   "cell_type": "code",
   "execution_count": null,
   "id": "203f9608-2066-4cfc-8f7e-f32a8ce1a534",
   "metadata": {
    "kernel": "Bash"
   },
   "outputs": [],
   "source": [
    "%preview -s png mwe_regenie/output_burden/1000G.EUR.pheno_x.regenie_burden.mask1.0.01.manhattan.png"
   ]
  },
  {
   "cell_type": "markdown",
   "id": "33308bea-5fa2-4232-a9c0-515590014a92",
   "metadata": {
    "kernel": "Bash"
   },
   "source": [
    "### Q-Q plot"
   ]
  },
  {
   "cell_type": "code",
   "execution_count": null,
   "id": "06c12417-6112-438f-84df-dcc2d50994a2",
   "metadata": {
    "kernel": "Bash"
   },
   "outputs": [],
   "source": [
    "%preview -s png mwe_regenie/output_burden/1000G.EUR.pheno_x.regenie_burden.mask1.0.01.qq.png"
   ]
  }
 ],
 "metadata": {
  "kernelspec": {
   "display_name": "SoS",
   "language": "sos",
   "name": "sos"
  },
  "language_info": {
   "codemirror_mode": "sos",
   "file_extension": ".sos",
   "mimetype": "text/x-sos",
   "name": "sos",
   "nbconvert_exporter": "sos_notebook.converter.SoS_Exporter",
   "pygments_lexer": "sos"
  },
  "sos": {
   "kernels": [
    [
     "Bash",
     "bash",
     "Bash",
     "#E6EEFF",
     "shell"
    ],
    [
     "SoS",
     "sos",
     "",
     "",
     "sos"
    ]
   ],
   "version": "0.22.3"
  }
 },
 "nbformat": 4,
 "nbformat_minor": 5
}
